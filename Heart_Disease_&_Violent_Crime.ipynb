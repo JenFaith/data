{
  "nbformat": 4,
  "nbformat_minor": 0,
  "metadata": {
    "colab": {
      "name": "Heart Disease & Violent Crime",
      "provenance": [],
      "mount_file_id": "1E3nwQKiDoDy6hn_C_Mq0b6hNelMRGbbX",
      "authorship_tag": "ABX9TyMQRbW/vslAeIWEICTXbszL",
      "include_colab_link": true
    },
    "kernelspec": {
      "name": "python3",
      "display_name": "Python 3"
    }
  },
  "cells": [
    {
      "cell_type": "markdown",
      "metadata": {
        "id": "view-in-github",
        "colab_type": "text"
      },
      "source": [
        "<a href=\"https://colab.research.google.com/github/JenFaith/data/blob/master/Heart_Disease_%26_Violent_Crime.ipynb\" target=\"_parent\"><img src=\"https://colab.research.google.com/assets/colab-badge.svg\" alt=\"Open In Colab\"/></a>"
      ]
    },
    {
      "cell_type": "markdown",
      "metadata": {
        "id": "it2qSZVE1hQr"
      },
      "source": [
        "## Prepping Coronary Heart Disease Data"
      ]
    },
    {
      "cell_type": "code",
      "metadata": {
        "colab": {
          "base_uri": "https://localhost:8080/"
        },
        "id": "aZFqdFRfT7cV",
        "outputId": "ef261cb7-02ae-495b-cdfa-fdb3c83d2bbc"
      },
      "source": [
        "import pandas as pd\n",
        "import numpy as np\n",
        "heart = pd.read_csv('500_Cities__Coronary_heart_disease_among_adults_aged___18_years.csv')\n",
        "heart.head()\n",
        "print(heart.shape)\n",
        "print(heart.isnull().sum())"
      ],
      "execution_count": null,
      "outputs": [
        {
          "output_type": "stream",
          "text": [
            "(29006, 9)\n",
            "Year                       0\n",
            "StateAbbr                  0\n",
            "StateDesc                  0\n",
            "CityName                   2\n",
            "Data_Value_Type            0\n",
            "Data_Value               794\n",
            "Low_Confidence_Limit     794\n",
            "High_Confidence_Limit    794\n",
            "PopulationCount            0\n",
            "dtype: int64\n"
          ],
          "name": "stdout"
        }
      ]
    },
    {
      "cell_type": "code",
      "metadata": {
        "colab": {
          "base_uri": "https://localhost:8080/"
        },
        "id": "sdzvDFSXjb-Q",
        "outputId": "522e9b7d-3657-4413-95cd-d70caec975e3"
      },
      "source": [
        "heart= heart.dropna(how='any',axis=0)\n",
        "print(heart.shape)\n",
        "print(heart.isnull().sum())"
      ],
      "execution_count": null,
      "outputs": [
        {
          "output_type": "stream",
          "text": [
            "(28210, 9)\n",
            "Year                     0\n",
            "StateAbbr                0\n",
            "StateDesc                0\n",
            "CityName                 0\n",
            "Data_Value_Type          0\n",
            "Data_Value               0\n",
            "Low_Confidence_Limit     0\n",
            "High_Confidence_Limit    0\n",
            "PopulationCount          0\n",
            "dtype: int64\n"
          ],
          "name": "stdout"
        }
      ]
    },
    {
      "cell_type": "code",
      "metadata": {
        "id": "Y5HyeQZMg9My"
      },
      "source": [
        "heart['CityName_ST'] = heart['CityName'] + '_' + heart['StateAbbr']"
      ],
      "execution_count": null,
      "outputs": []
    },
    {
      "cell_type": "code",
      "metadata": {
        "colab": {
          "base_uri": "https://localhost:8080/",
          "height": 224
        },
        "id": "d7dqUYFQgxi-",
        "outputId": "cc7b6998-00fd-49e1-e0a3-712b4af11b6c"
      },
      "source": [
        "heart.head()"
      ],
      "execution_count": null,
      "outputs": [
        {
          "output_type": "execute_result",
          "data": {
            "text/html": [
              "<div>\n",
              "<style scoped>\n",
              "    .dataframe tbody tr th:only-of-type {\n",
              "        vertical-align: middle;\n",
              "    }\n",
              "\n",
              "    .dataframe tbody tr th {\n",
              "        vertical-align: top;\n",
              "    }\n",
              "\n",
              "    .dataframe thead th {\n",
              "        text-align: right;\n",
              "    }\n",
              "</style>\n",
              "<table border=\"1\" class=\"dataframe\">\n",
              "  <thead>\n",
              "    <tr style=\"text-align: right;\">\n",
              "      <th></th>\n",
              "      <th>Year</th>\n",
              "      <th>StateAbbr</th>\n",
              "      <th>StateDesc</th>\n",
              "      <th>CityName</th>\n",
              "      <th>Data_Value_Type</th>\n",
              "      <th>Data_Value</th>\n",
              "      <th>Low_Confidence_Limit</th>\n",
              "      <th>High_Confidence_Limit</th>\n",
              "      <th>PopulationCount</th>\n",
              "      <th>CityName_ST</th>\n",
              "    </tr>\n",
              "  </thead>\n",
              "  <tbody>\n",
              "    <tr>\n",
              "      <th>0</th>\n",
              "      <td>2017</td>\n",
              "      <td>TX</td>\n",
              "      <td>Texas</td>\n",
              "      <td>Abilene</td>\n",
              "      <td>Crude prevalence</td>\n",
              "      <td>5.1</td>\n",
              "      <td>4.6</td>\n",
              "      <td>5.5</td>\n",
              "      <td>2,400</td>\n",
              "      <td>Abilene_TX</td>\n",
              "    </tr>\n",
              "    <tr>\n",
              "      <th>1</th>\n",
              "      <td>2017</td>\n",
              "      <td>TX</td>\n",
              "      <td>Texas</td>\n",
              "      <td>Abilene</td>\n",
              "      <td>Crude prevalence</td>\n",
              "      <td>6.8</td>\n",
              "      <td>6.1</td>\n",
              "      <td>7.5</td>\n",
              "      <td>3,694</td>\n",
              "      <td>Abilene_TX</td>\n",
              "    </tr>\n",
              "    <tr>\n",
              "      <th>2</th>\n",
              "      <td>2017</td>\n",
              "      <td>TX</td>\n",
              "      <td>Texas</td>\n",
              "      <td>Abilene</td>\n",
              "      <td>Crude prevalence</td>\n",
              "      <td>5.4</td>\n",
              "      <td>5.1</td>\n",
              "      <td>5.7</td>\n",
              "      <td>4,482</td>\n",
              "      <td>Abilene_TX</td>\n",
              "    </tr>\n",
              "    <tr>\n",
              "      <th>3</th>\n",
              "      <td>2017</td>\n",
              "      <td>TX</td>\n",
              "      <td>Texas</td>\n",
              "      <td>Abilene</td>\n",
              "      <td>Crude prevalence</td>\n",
              "      <td>5.2</td>\n",
              "      <td>4.9</td>\n",
              "      <td>5.5</td>\n",
              "      <td>2,516</td>\n",
              "      <td>Abilene_TX</td>\n",
              "    </tr>\n",
              "    <tr>\n",
              "      <th>4</th>\n",
              "      <td>2017</td>\n",
              "      <td>TX</td>\n",
              "      <td>Texas</td>\n",
              "      <td>Abilene</td>\n",
              "      <td>Crude prevalence</td>\n",
              "      <td>7.8</td>\n",
              "      <td>7.2</td>\n",
              "      <td>8.4</td>\n",
              "      <td>2,307</td>\n",
              "      <td>Abilene_TX</td>\n",
              "    </tr>\n",
              "  </tbody>\n",
              "</table>\n",
              "</div>"
            ],
            "text/plain": [
              "   Year StateAbbr StateDesc  ... High_Confidence_Limit PopulationCount  CityName_ST\n",
              "0  2017        TX     Texas  ...                   5.5           2,400   Abilene_TX\n",
              "1  2017        TX     Texas  ...                   7.5           3,694   Abilene_TX\n",
              "2  2017        TX     Texas  ...                   5.7           4,482   Abilene_TX\n",
              "3  2017        TX     Texas  ...                   5.5           2,516   Abilene_TX\n",
              "4  2017        TX     Texas  ...                   8.4           2,307   Abilene_TX\n",
              "\n",
              "[5 rows x 10 columns]"
            ]
          },
          "metadata": {
            "tags": []
          },
          "execution_count": 12
        }
      ]
    },
    {
      "cell_type": "code",
      "metadata": {
        "colab": {
          "base_uri": "https://localhost:8080/",
          "height": 204
        },
        "id": "9MedbwWOgBjh",
        "outputId": "264c6ae0-c1be-49ec-ba60-da021fe40845"
      },
      "source": [
        "##Averaging together the different instances of reported data per city\n",
        "heart_gr = heart.groupby(['CityName_ST'])\n",
        "heart_average = heart_gr['Data_Value'].mean().to_frame(name='% of Disease Prevalence').reset_index()\n",
        "heart_average.head()"
      ],
      "execution_count": null,
      "outputs": [
        {
          "output_type": "execute_result",
          "data": {
            "text/html": [
              "<div>\n",
              "<style scoped>\n",
              "    .dataframe tbody tr th:only-of-type {\n",
              "        vertical-align: middle;\n",
              "    }\n",
              "\n",
              "    .dataframe tbody tr th {\n",
              "        vertical-align: top;\n",
              "    }\n",
              "\n",
              "    .dataframe thead th {\n",
              "        text-align: right;\n",
              "    }\n",
              "</style>\n",
              "<table border=\"1\" class=\"dataframe\">\n",
              "  <thead>\n",
              "    <tr style=\"text-align: right;\">\n",
              "      <th></th>\n",
              "      <th>CityName_ST</th>\n",
              "      <th>% of Disease Prevalence</th>\n",
              "    </tr>\n",
              "  </thead>\n",
              "  <tbody>\n",
              "    <tr>\n",
              "      <th>0</th>\n",
              "      <td>Abilene_TX</td>\n",
              "      <td>6.289744</td>\n",
              "    </tr>\n",
              "    <tr>\n",
              "      <th>1</th>\n",
              "      <td>Akron_OH</td>\n",
              "      <td>7.883824</td>\n",
              "    </tr>\n",
              "    <tr>\n",
              "      <th>2</th>\n",
              "      <td>Alameda_CA</td>\n",
              "      <td>4.355556</td>\n",
              "    </tr>\n",
              "    <tr>\n",
              "      <th>3</th>\n",
              "      <td>Albany_GA</td>\n",
              "      <td>7.081481</td>\n",
              "    </tr>\n",
              "    <tr>\n",
              "      <th>4</th>\n",
              "      <td>Albany_NY</td>\n",
              "      <td>5.442857</td>\n",
              "    </tr>\n",
              "  </tbody>\n",
              "</table>\n",
              "</div>"
            ],
            "text/plain": [
              "  CityName_ST  % of Disease Prevalence\n",
              "0  Abilene_TX                 6.289744\n",
              "1    Akron_OH                 7.883824\n",
              "2  Alameda_CA                 4.355556\n",
              "3   Albany_GA                 7.081481\n",
              "4   Albany_NY                 5.442857"
            ]
          },
          "metadata": {
            "tags": []
          },
          "execution_count": 13
        }
      ]
    },
    {
      "cell_type": "markdown",
      "metadata": {
        "id": "gWaXgj_I1s6N"
      },
      "source": [
        "## Prepping Crime Data"
      ]
    },
    {
      "cell_type": "code",
      "metadata": {
        "colab": {
          "base_uri": "https://localhost:8080/",
          "height": 134
        },
        "id": "8nO5CorMUCAy",
        "outputId": "5284c4a8-b8f9-4f4f-db23-528eab34c922"
      },
      "source": [
        "# fbi = pd.read_csv('FBI_data_project_2.csv')\n",
        "# fbi = fbi.drop('Metropolitan Statistical Area', 1)\n",
        "fbi = pd.read_csv('FBI data_edit.csv')\n",
        "print(fbi.shape)\n",
        "fbi[fbi['Counties/principal cities']=='City of Chicago']"
      ],
      "execution_count": null,
      "outputs": [
        {
          "output_type": "stream",
          "text": [
            "(2202, 12)\n"
          ],
          "name": "stdout"
        },
        {
          "output_type": "execute_result",
          "data": {
            "text/html": [
              "<div>\n",
              "<style scoped>\n",
              "    .dataframe tbody tr th:only-of-type {\n",
              "        vertical-align: middle;\n",
              "    }\n",
              "\n",
              "    .dataframe tbody tr th {\n",
              "        vertical-align: top;\n",
              "    }\n",
              "\n",
              "    .dataframe thead th {\n",
              "        text-align: right;\n",
              "    }\n",
              "</style>\n",
              "<table border=\"1\" class=\"dataframe\">\n",
              "  <thead>\n",
              "    <tr style=\"text-align: right;\">\n",
              "      <th></th>\n",
              "      <th>STATE</th>\n",
              "      <th>Counties/principal cities</th>\n",
              "      <th>Population</th>\n",
              "      <th>Violent\\rcrime</th>\n",
              "      <th>Murder and\\rnonnegligent\\rmanslaughter</th>\n",
              "      <th>Rape1</th>\n",
              "      <th>Robbery</th>\n",
              "      <th>Aggravated\\rassault</th>\n",
              "      <th>Property\\rcrime</th>\n",
              "      <th>Burglary</th>\n",
              "      <th>Larceny-\\rtheft</th>\n",
              "      <th>Motor\\rvehicle\\rtheft</th>\n",
              "    </tr>\n",
              "  </thead>\n",
              "  <tbody>\n",
              "    <tr>\n",
              "      <th>374</th>\n",
              "      <td>IL</td>\n",
              "      <td>City of Chicago</td>\n",
              "      <td>2719151</td>\n",
              "      <td>27357</td>\n",
              "      <td>563</td>\n",
              "      <td>1,798</td>\n",
              "      <td>9,684</td>\n",
              "      <td>15,312</td>\n",
              "      <td>86,513</td>\n",
              "      <td>11,686</td>\n",
              "      <td>64,695</td>\n",
              "      <td>10,132</td>\n",
              "    </tr>\n",
              "  </tbody>\n",
              "</table>\n",
              "</div>"
            ],
            "text/plain": [
              "    STATE Counties/principal cities  ... Larceny-\\rtheft Motor\\rvehicle\\rtheft\n",
              "374    IL           City of Chicago  ...          64,695                10,132\n",
              "\n",
              "[1 rows x 12 columns]"
            ]
          },
          "metadata": {
            "tags": []
          },
          "execution_count": 15
        }
      ]
    },
    {
      "cell_type": "code",
      "metadata": {
        "colab": {
          "base_uri": "https://localhost:8080/"
        },
        "id": "_Uvmk4w-lEjs",
        "outputId": "11da04f7-07ce-4e14-ae20-05d849e92f28"
      },
      "source": [
        "city_crime = fbi[fbi['Counties/principal cities'].str.contains('City of ', na=False)].reset_index()\n",
        "city_crime.shape\n",
        "city_crime= city_crime.dropna(how='any',axis=0)\n",
        "city_crime.isnull().sum()\n",
        "city_crime.shape"
      ],
      "execution_count": null,
      "outputs": [
        {
          "output_type": "execute_result",
          "data": {
            "text/plain": [
              "(557, 13)"
            ]
          },
          "metadata": {
            "tags": []
          },
          "execution_count": 16
        }
      ]
    },
    {
      "cell_type": "code",
      "metadata": {
        "id": "nkIE9ESdA6Ke"
      },
      "source": [
        "x = 'City of Chicago'\n",
        "# x.replace(x[:8], '')\n",
        "\n",
        "def drop_extras(mylist):\n",
        "   \"This changes a passed list into this function\"\n",
        "   return mylist.replace(x[:8], '')\n"
      ],
      "execution_count": null,
      "outputs": []
    },
    {
      "cell_type": "code",
      "metadata": {
        "colab": {
          "base_uri": "https://localhost:8080/",
          "height": 258
        },
        "id": "V-yxcBl4e2qZ",
        "outputId": "83250cef-4aa2-4440-866a-8cc1ba96c4e9"
      },
      "source": [
        "## Scraping off \"City of\" so I can match dataframes\n",
        "city_crime['Counties/principal cities'] = city_crime['Counties/principal cities'].apply(drop_extras)\n",
        "# city_crime['Counties/principal cities'] = city_crime['Counties/principal cities'].str.strip('City of')\n",
        "city_crime[\"Population\"] = pd.to_numeric(city_crime[\"Population\"], downcast=\"float\")\n",
        "city_crime[\"Violent\\rcrime\"] = pd.to_numeric(city_crime[\"Violent\\rcrime\"], downcast=\"float\")\n",
        "city_crime['Violent Crime Per 100'] = (city_crime['Violent\\rcrime']/city_crime['Population'])*100\n",
        "city_crime.head(5)\n",
        "#city_crime[city_crime['Counties/principal cities']=='Chicago']\n",
        "city_crime.head()"
      ],
      "execution_count": null,
      "outputs": [
        {
          "output_type": "execute_result",
          "data": {
            "text/html": [
              "<div>\n",
              "<style scoped>\n",
              "    .dataframe tbody tr th:only-of-type {\n",
              "        vertical-align: middle;\n",
              "    }\n",
              "\n",
              "    .dataframe tbody tr th {\n",
              "        vertical-align: top;\n",
              "    }\n",
              "\n",
              "    .dataframe thead th {\n",
              "        text-align: right;\n",
              "    }\n",
              "</style>\n",
              "<table border=\"1\" class=\"dataframe\">\n",
              "  <thead>\n",
              "    <tr style=\"text-align: right;\">\n",
              "      <th></th>\n",
              "      <th>index</th>\n",
              "      <th>STATE</th>\n",
              "      <th>Counties/principal cities</th>\n",
              "      <th>Population</th>\n",
              "      <th>Violent\\rcrime</th>\n",
              "      <th>Murder and\\rnonnegligent\\rmanslaughter</th>\n",
              "      <th>Rape1</th>\n",
              "      <th>Robbery</th>\n",
              "      <th>Aggravated\\rassault</th>\n",
              "      <th>Property\\rcrime</th>\n",
              "      <th>Burglary</th>\n",
              "      <th>Larceny-\\rtheft</th>\n",
              "      <th>Motor\\rvehicle\\rtheft</th>\n",
              "      <th>Violent Crime Per 100</th>\n",
              "    </tr>\n",
              "  </thead>\n",
              "  <tbody>\n",
              "    <tr>\n",
              "      <th>0</th>\n",
              "      <td>2</td>\n",
              "      <td>TX</td>\n",
              "      <td>Abilene</td>\n",
              "      <td>122480.0</td>\n",
              "      <td>591.0</td>\n",
              "      <td>8</td>\n",
              "      <td>97</td>\n",
              "      <td>104</td>\n",
              "      <td>382</td>\n",
              "      <td>3,528</td>\n",
              "      <td>734</td>\n",
              "      <td>2,561</td>\n",
              "      <td>233</td>\n",
              "      <td>0.482528</td>\n",
              "    </tr>\n",
              "    <tr>\n",
              "      <th>1</th>\n",
              "      <td>7</td>\n",
              "      <td>OH</td>\n",
              "      <td>Akron</td>\n",
              "      <td>197690.0</td>\n",
              "      <td>1704.0</td>\n",
              "      <td>38</td>\n",
              "      <td>221</td>\n",
              "      <td>387</td>\n",
              "      <td>1,058</td>\n",
              "      <td>7,159</td>\n",
              "      <td>1,740</td>\n",
              "      <td>4,701</td>\n",
              "      <td>718</td>\n",
              "      <td>0.861956</td>\n",
              "    </tr>\n",
              "    <tr>\n",
              "      <th>2</th>\n",
              "      <td>13</td>\n",
              "      <td>GA</td>\n",
              "      <td>Albany</td>\n",
              "      <td>72594.0</td>\n",
              "      <td>809.0</td>\n",
              "      <td>15</td>\n",
              "      <td>28</td>\n",
              "      <td>113</td>\n",
              "      <td>653</td>\n",
              "      <td>3,704</td>\n",
              "      <td>760</td>\n",
              "      <td>2,666</td>\n",
              "      <td>278</td>\n",
              "      <td>1.114417</td>\n",
              "    </tr>\n",
              "    <tr>\n",
              "      <th>3</th>\n",
              "      <td>19</td>\n",
              "      <td>NY</td>\n",
              "      <td>Albany</td>\n",
              "      <td>98322.0</td>\n",
              "      <td>823.0</td>\n",
              "      <td>12</td>\n",
              "      <td>52</td>\n",
              "      <td>209</td>\n",
              "      <td>550</td>\n",
              "      <td>3,147</td>\n",
              "      <td>432</td>\n",
              "      <td>2,585</td>\n",
              "      <td>130</td>\n",
              "      <td>0.837046</td>\n",
              "    </tr>\n",
              "    <tr>\n",
              "      <th>4</th>\n",
              "      <td>20</td>\n",
              "      <td>NY</td>\n",
              "      <td>Schenectady</td>\n",
              "      <td>65550.0</td>\n",
              "      <td>620.0</td>\n",
              "      <td>1</td>\n",
              "      <td>57</td>\n",
              "      <td>136</td>\n",
              "      <td>426</td>\n",
              "      <td>2,106</td>\n",
              "      <td>353</td>\n",
              "      <td>1,542</td>\n",
              "      <td>211</td>\n",
              "      <td>0.945843</td>\n",
              "    </tr>\n",
              "  </tbody>\n",
              "</table>\n",
              "</div>"
            ],
            "text/plain": [
              "   index STATE  ... Motor\\rvehicle\\rtheft  Violent Crime Per 100\n",
              "0      2    TX  ...                   233               0.482528\n",
              "1      7    OH  ...                   718               0.861956\n",
              "2     13    GA  ...                   278               1.114417\n",
              "3     19    NY  ...                   130               0.837046\n",
              "4     20    NY  ...                   211               0.945843\n",
              "\n",
              "[5 rows x 14 columns]"
            ]
          },
          "metadata": {
            "tags": []
          },
          "execution_count": 18
        }
      ]
    },
    {
      "cell_type": "code",
      "metadata": {
        "colab": {
          "base_uri": "https://localhost:8080/",
          "height": 258
        },
        "id": "FEQIGhHPsvht",
        "outputId": "a3d1cf7c-90bb-4c37-f826-d0b944f62ac5"
      },
      "source": [
        "city_crime['CityName_ST'] = city_crime['Counties/principal cities'] + '_' + city_crime['STATE']\n",
        "city_crime.head()"
      ],
      "execution_count": null,
      "outputs": [
        {
          "output_type": "execute_result",
          "data": {
            "text/html": [
              "<div>\n",
              "<style scoped>\n",
              "    .dataframe tbody tr th:only-of-type {\n",
              "        vertical-align: middle;\n",
              "    }\n",
              "\n",
              "    .dataframe tbody tr th {\n",
              "        vertical-align: top;\n",
              "    }\n",
              "\n",
              "    .dataframe thead th {\n",
              "        text-align: right;\n",
              "    }\n",
              "</style>\n",
              "<table border=\"1\" class=\"dataframe\">\n",
              "  <thead>\n",
              "    <tr style=\"text-align: right;\">\n",
              "      <th></th>\n",
              "      <th>STATE</th>\n",
              "      <th>Counties/principal cities</th>\n",
              "      <th>Population</th>\n",
              "      <th>Violent\\rcrime</th>\n",
              "      <th>Murder and\\rnonnegligent\\rmanslaughter</th>\n",
              "      <th>Rape1</th>\n",
              "      <th>Robbery</th>\n",
              "      <th>Aggravated\\rassault</th>\n",
              "      <th>Property\\rcrime</th>\n",
              "      <th>Burglary</th>\n",
              "      <th>Larceny-\\rtheft</th>\n",
              "      <th>Motor\\rvehicle\\rtheft</th>\n",
              "      <th>Violent Crime Per 100</th>\n",
              "      <th>CityName_ST</th>\n",
              "    </tr>\n",
              "  </thead>\n",
              "  <tbody>\n",
              "    <tr>\n",
              "      <th>0</th>\n",
              "      <td>TX</td>\n",
              "      <td>Abilene</td>\n",
              "      <td>122480.0</td>\n",
              "      <td>591.0</td>\n",
              "      <td>8</td>\n",
              "      <td>97</td>\n",
              "      <td>104</td>\n",
              "      <td>382</td>\n",
              "      <td>3,528</td>\n",
              "      <td>734</td>\n",
              "      <td>2,561</td>\n",
              "      <td>233</td>\n",
              "      <td>0.482528</td>\n",
              "      <td>Abilene_TX</td>\n",
              "    </tr>\n",
              "    <tr>\n",
              "      <th>1</th>\n",
              "      <td>OH</td>\n",
              "      <td>Akron</td>\n",
              "      <td>197690.0</td>\n",
              "      <td>1704.0</td>\n",
              "      <td>38</td>\n",
              "      <td>221</td>\n",
              "      <td>387</td>\n",
              "      <td>1,058</td>\n",
              "      <td>7,159</td>\n",
              "      <td>1,740</td>\n",
              "      <td>4,701</td>\n",
              "      <td>718</td>\n",
              "      <td>0.861956</td>\n",
              "      <td>Akron_OH</td>\n",
              "    </tr>\n",
              "    <tr>\n",
              "      <th>2</th>\n",
              "      <td>GA</td>\n",
              "      <td>Albany</td>\n",
              "      <td>72594.0</td>\n",
              "      <td>809.0</td>\n",
              "      <td>15</td>\n",
              "      <td>28</td>\n",
              "      <td>113</td>\n",
              "      <td>653</td>\n",
              "      <td>3,704</td>\n",
              "      <td>760</td>\n",
              "      <td>2,666</td>\n",
              "      <td>278</td>\n",
              "      <td>1.114417</td>\n",
              "      <td>Albany_GA</td>\n",
              "    </tr>\n",
              "    <tr>\n",
              "      <th>3</th>\n",
              "      <td>NY</td>\n",
              "      <td>Albany</td>\n",
              "      <td>98322.0</td>\n",
              "      <td>823.0</td>\n",
              "      <td>12</td>\n",
              "      <td>52</td>\n",
              "      <td>209</td>\n",
              "      <td>550</td>\n",
              "      <td>3,147</td>\n",
              "      <td>432</td>\n",
              "      <td>2,585</td>\n",
              "      <td>130</td>\n",
              "      <td>0.837046</td>\n",
              "      <td>Albany_NY</td>\n",
              "    </tr>\n",
              "    <tr>\n",
              "      <th>4</th>\n",
              "      <td>NY</td>\n",
              "      <td>Schenectady</td>\n",
              "      <td>65550.0</td>\n",
              "      <td>620.0</td>\n",
              "      <td>1</td>\n",
              "      <td>57</td>\n",
              "      <td>136</td>\n",
              "      <td>426</td>\n",
              "      <td>2,106</td>\n",
              "      <td>353</td>\n",
              "      <td>1,542</td>\n",
              "      <td>211</td>\n",
              "      <td>0.945843</td>\n",
              "      <td>Schenectady_NY</td>\n",
              "    </tr>\n",
              "  </tbody>\n",
              "</table>\n",
              "</div>"
            ],
            "text/plain": [
              "  STATE Counties/principal cities  ...  Violent Crime Per 100     CityName_ST\n",
              "0    TX                   Abilene  ...               0.482528      Abilene_TX\n",
              "1    OH                     Akron  ...               0.861956        Akron_OH\n",
              "2    GA                    Albany  ...               1.114417       Albany_GA\n",
              "3    NY                    Albany  ...               0.837046       Albany_NY\n",
              "4    NY               Schenectady  ...               0.945843  Schenectady_NY\n",
              "\n",
              "[5 rows x 14 columns]"
            ]
          },
          "metadata": {
            "tags": []
          },
          "execution_count": 20
        }
      ]
    },
    {
      "cell_type": "markdown",
      "metadata": {
        "id": "w8zJ0H4P1x47"
      },
      "source": [
        "## Merging and Analyzing Crime + Heart Disease"
      ]
    },
    {
      "cell_type": "code",
      "metadata": {
        "colab": {
          "base_uri": "https://localhost:8080/"
        },
        "id": "Izw0l5fYnivw",
        "outputId": "aec1b020-197e-4d00-b738-6df5d6220536"
      },
      "source": [
        "heart_crime = pd.merge(heart_average, city_crime, on='CityName_ST')\n",
        "heart_crime.shape"
      ],
      "execution_count": null,
      "outputs": [
        {
          "output_type": "execute_result",
          "data": {
            "text/plain": [
              "(267, 15)"
            ]
          },
          "metadata": {
            "tags": []
          },
          "execution_count": 21
        }
      ]
    },
    {
      "cell_type": "code",
      "metadata": {
        "colab": {
          "base_uri": "https://localhost:8080/",
          "height": 293
        },
        "id": "EoTvvZlzq1Ub",
        "outputId": "9924e866-ec4e-4a5a-b849-466ff4c6e907"
      },
      "source": [
        "import seaborn as sns\n",
        "import matplotlib.pyplot as plt\n",
        "plt.style.use('seaborn-darkgrid')\n",
        "plt.title(\"Heart Disease vs. Violent Crime\", fontsize=15, fontweight=5, color='orange')\n",
        "\n",
        "ax1 = sns.regplot(x = heart_crime['% of Disease Prevalence'], y = heart_crime['Violent Crime Per 100'], data = heart_crime, ci=None)"
      ],
      "execution_count": null,
      "outputs": [
        {
          "output_type": "display_data",
          "data": {
            "image/png": "[encoded data removed]",
            "text/plain": [
              "<Figure size 432x288 with 1 Axes>"
            ]
          },
          "metadata": {
            "tags": []
          }
        }
      ]
    },
    {
      "cell_type": "code",
      "metadata": {
        "colab": {
          "base_uri": "https://localhost:8080/",
          "height": 293
        },
        "id": "MERSfzWIYrYh",
        "outputId": "a5ef8e07-4c37-4ee9-e190-c2cb6159798a"
      },
      "source": [
        "plt.style.use('seaborn-darkgrid')\n",
        "plt.title(\"Heart Disease vs. Population Size\", fontsize=15, fontweight=5, color='orange')\n",
        "\n",
        "ax1 = sns.regplot(x = heart_crime['% of Disease Prevalence'], y = heart_crime['Population'], data = heart_crime, ci=None)"
      ],
      "execution_count": null,
      "outputs": [
        {
          "output_type": "display_data",
          "data": {
            "image/png": "[encoded data removed]",
            "text/plain": [
              "<Figure size 432x288 with 1 Axes>"
            ]
          },
          "metadata": {
            "tags": []
          }
        }
      ]
    },
    {
      "cell_type": "code",
      "metadata": {
        "colab": {
          "base_uri": "https://localhost:8080/"
        },
        "id": "lO89EuoKwU_k",
        "outputId": "c6b93ff1-1b2e-46cf-f872-51bff4d0a6f5"
      },
      "source": [
        "import numpy as np\n",
        "from scipy.stats import pearsonr\n",
        "corr, _ = pearsonr(heart_crime['Violent Crime Per 100'], heart_crime['% of Disease Prevalence'])\n",
        "print('Pearsons correlation: %.3f' % corr)"
      ],
      "execution_count": null,
      "outputs": [
        {
          "output_type": "stream",
          "text": [
            "Pearsons correlation: 0.426\n"
          ],
          "name": "stdout"
        }
      ]
    },
    {
      "cell_type": "code",
      "metadata": {
        "colab": {
          "base_uri": "https://localhost:8080/"
        },
        "id": "uskPJaNbY-fF",
        "outputId": "868b088d-864d-485a-a8f3-eedce83f2dd7"
      },
      "source": [
        "corr, _ = pearsonr(heart_crime['Violent Crime Per 100'], heart_crime['Population'])\n",
        "print('Pearsons correlation: %.3f' % corr)"
      ],
      "execution_count": null,
      "outputs": [
        {
          "output_type": "stream",
          "text": [
            "Pearsons correlation: 0.221\n"
          ],
          "name": "stdout"
        }
      ]
    },
    {
      "cell_type": "code",
      "metadata": {
        "colab": {
          "base_uri": "https://localhost:8080/",
          "height": 464
        },
        "id": "r9FspE_Sdmyc",
        "outputId": "3b6f627a-3e0b-44c8-f60e-75f9bace12d0"
      },
      "source": [
        "heart_crime.nlargest(10, '% of Disease Prevalence')"
      ],
      "execution_count": null,
      "outputs": [
        {
          "output_type": "execute_result",
          "data": {
            "text/html": [
              "<div>\n",
              "<style scoped>\n",
              "    .dataframe tbody tr th:only-of-type {\n",
              "        vertical-align: middle;\n",
              "    }\n",
              "\n",
              "    .dataframe tbody tr th {\n",
              "        vertical-align: top;\n",
              "    }\n",
              "\n",
              "    .dataframe thead th {\n",
              "        text-align: right;\n",
              "    }\n",
              "</style>\n",
              "<table border=\"1\" class=\"dataframe\">\n",
              "  <thead>\n",
              "    <tr style=\"text-align: right;\">\n",
              "      <th></th>\n",
              "      <th>CityName_ST</th>\n",
              "      <th>% of Disease Prevalence</th>\n",
              "      <th>STATE</th>\n",
              "      <th>Counties/principal cities</th>\n",
              "      <th>Population</th>\n",
              "      <th>Violent\\rcrime</th>\n",
              "      <th>Murder and\\rnonnegligent\\rmanslaughter</th>\n",
              "      <th>Rape1</th>\n",
              "      <th>Robbery</th>\n",
              "      <th>Aggravated\\rassault</th>\n",
              "      <th>Property\\rcrime</th>\n",
              "      <th>Burglary</th>\n",
              "      <th>Larceny-\\rtheft</th>\n",
              "      <th>Motor\\rvehicle\\rtheft</th>\n",
              "      <th>Violent Crime Per 100</th>\n",
              "    </tr>\n",
              "  </thead>\n",
              "  <tbody>\n",
              "    <tr>\n",
              "      <th>117</th>\n",
              "      <td>Largo_FL</td>\n",
              "      <td>9.024324</td>\n",
              "      <td>FL</td>\n",
              "      <td>Largo</td>\n",
              "      <td>85568.0</td>\n",
              "      <td>322.0</td>\n",
              "      <td>3</td>\n",
              "      <td>66</td>\n",
              "      <td>72</td>\n",
              "      <td>181</td>\n",
              "      <td>2,593</td>\n",
              "      <td>282</td>\n",
              "      <td>2,126</td>\n",
              "      <td>185</td>\n",
              "      <td>0.376309</td>\n",
              "    </tr>\n",
              "    <tr>\n",
              "      <th>72</th>\n",
              "      <td>Detroit_MI</td>\n",
              "      <td>9.003061</td>\n",
              "      <td>MI</td>\n",
              "      <td>Detroit</td>\n",
              "      <td>671275.0</td>\n",
              "      <td>13478.0</td>\n",
              "      <td>261</td>\n",
              "      <td>988</td>\n",
              "      <td>2,309</td>\n",
              "      <td>9,920</td>\n",
              "      <td>28,897</td>\n",
              "      <td>7,440</td>\n",
              "      <td>15,003</td>\n",
              "      <td>6,454</td>\n",
              "      <td>2.007821</td>\n",
              "    </tr>\n",
              "    <tr>\n",
              "      <th>34</th>\n",
              "      <td>Boynton Beach_FL</td>\n",
              "      <td>8.930769</td>\n",
              "      <td>FL</td>\n",
              "      <td>Boynton Beach</td>\n",
              "      <td>79142.0</td>\n",
              "      <td>477.0</td>\n",
              "      <td>4</td>\n",
              "      <td>21</td>\n",
              "      <td>134</td>\n",
              "      <td>318</td>\n",
              "      <td>2,964</td>\n",
              "      <td>256</td>\n",
              "      <td>2,423</td>\n",
              "      <td>285</td>\n",
              "      <td>0.602714</td>\n",
              "    </tr>\n",
              "    <tr>\n",
              "      <th>83</th>\n",
              "      <td>Flint_MI</td>\n",
              "      <td>8.746341</td>\n",
              "      <td>MI</td>\n",
              "      <td>Flint</td>\n",
              "      <td>95677.0</td>\n",
              "      <td>1739.0</td>\n",
              "      <td>32</td>\n",
              "      <td>130</td>\n",
              "      <td>189</td>\n",
              "      <td>1,388</td>\n",
              "      <td>2,584</td>\n",
              "      <td>796</td>\n",
              "      <td>1,488</td>\n",
              "      <td>300</td>\n",
              "      <td>1.817574</td>\n",
              "    </tr>\n",
              "    <tr>\n",
              "      <th>67</th>\n",
              "      <td>Dayton_OH</td>\n",
              "      <td>8.732203</td>\n",
              "      <td>OH</td>\n",
              "      <td>Dayton</td>\n",
              "      <td>140094.0</td>\n",
              "      <td>1291.0</td>\n",
              "      <td>37</td>\n",
              "      <td>167</td>\n",
              "      <td>403</td>\n",
              "      <td>684</td>\n",
              "      <td>6,323</td>\n",
              "      <td>1,697</td>\n",
              "      <td>3,831</td>\n",
              "      <td>795</td>\n",
              "      <td>0.921524</td>\n",
              "    </tr>\n",
              "    <tr>\n",
              "      <th>41</th>\n",
              "      <td>Canton_OH</td>\n",
              "      <td>8.642857</td>\n",
              "      <td>OH</td>\n",
              "      <td>Canton</td>\n",
              "      <td>70605.0</td>\n",
              "      <td>845.0</td>\n",
              "      <td>3</td>\n",
              "      <td>98</td>\n",
              "      <td>189</td>\n",
              "      <td>555</td>\n",
              "      <td>3,790</td>\n",
              "      <td>970</td>\n",
              "      <td>2,517</td>\n",
              "      <td>303</td>\n",
              "      <td>1.196799</td>\n",
              "    </tr>\n",
              "    <tr>\n",
              "      <th>49</th>\n",
              "      <td>Charleston_WV</td>\n",
              "      <td>8.525000</td>\n",
              "      <td>WV</td>\n",
              "      <td>Charleston</td>\n",
              "      <td>47470.0</td>\n",
              "      <td>331.0</td>\n",
              "      <td>10</td>\n",
              "      <td>50</td>\n",
              "      <td>48</td>\n",
              "      <td>223</td>\n",
              "      <td>2,853</td>\n",
              "      <td>660</td>\n",
              "      <td>1,947</td>\n",
              "      <td>246</td>\n",
              "      <td>0.697282</td>\n",
              "    </tr>\n",
              "    <tr>\n",
              "      <th>114</th>\n",
              "      <td>Lakeland_FL</td>\n",
              "      <td>8.312195</td>\n",
              "      <td>FL</td>\n",
              "      <td>Lakeland</td>\n",
              "      <td>109616.0</td>\n",
              "      <td>361.0</td>\n",
              "      <td>8</td>\n",
              "      <td>47</td>\n",
              "      <td>106</td>\n",
              "      <td>200</td>\n",
              "      <td>3,417</td>\n",
              "      <td>477</td>\n",
              "      <td>2,737</td>\n",
              "      <td>203</td>\n",
              "      <td>0.329331</td>\n",
              "    </tr>\n",
              "    <tr>\n",
              "      <th>176</th>\n",
              "      <td>Pompano Beach_FL</td>\n",
              "      <td>8.310714</td>\n",
              "      <td>FL</td>\n",
              "      <td>Pompano Beach</td>\n",
              "      <td>112045.0</td>\n",
              "      <td>876.0</td>\n",
              "      <td>6</td>\n",
              "      <td>91</td>\n",
              "      <td>312</td>\n",
              "      <td>467</td>\n",
              "      <td>4,307</td>\n",
              "      <td>608</td>\n",
              "      <td>3,121</td>\n",
              "      <td>578</td>\n",
              "      <td>0.781829</td>\n",
              "    </tr>\n",
              "    <tr>\n",
              "      <th>70</th>\n",
              "      <td>Deerfield Beach_FL</td>\n",
              "      <td>8.268421</td>\n",
              "      <td>FL</td>\n",
              "      <td>Deerfield Beach</td>\n",
              "      <td>81371.0</td>\n",
              "      <td>329.0</td>\n",
              "      <td>3</td>\n",
              "      <td>21</td>\n",
              "      <td>110</td>\n",
              "      <td>195</td>\n",
              "      <td>2,490</td>\n",
              "      <td>422</td>\n",
              "      <td>1,737</td>\n",
              "      <td>331</td>\n",
              "      <td>0.404321</td>\n",
              "    </tr>\n",
              "  </tbody>\n",
              "</table>\n",
              "</div>"
            ],
            "text/plain": [
              "            CityName_ST  ...  Violent Crime Per 100\n",
              "117            Largo_FL  ...               0.376309\n",
              "72           Detroit_MI  ...               2.007821\n",
              "34     Boynton Beach_FL  ...               0.602714\n",
              "83             Flint_MI  ...               1.817574\n",
              "67            Dayton_OH  ...               0.921524\n",
              "41            Canton_OH  ...               1.196799\n",
              "49        Charleston_WV  ...               0.697282\n",
              "114         Lakeland_FL  ...               0.329331\n",
              "176    Pompano Beach_FL  ...               0.781829\n",
              "70   Deerfield Beach_FL  ...               0.404321\n",
              "\n",
              "[10 rows x 15 columns]"
            ]
          },
          "metadata": {
            "tags": []
          },
          "execution_count": 27
        }
      ]
    },
    {
      "cell_type": "markdown",
      "metadata": {
        "id": "svSTDjlI134v"
      },
      "source": [
        "There is a moderate correlation between crime and heart disease."
      ]
    },
    {
      "cell_type": "markdown",
      "metadata": {
        "id": "DJSwHGiV3tEO"
      },
      "source": [
        "## Generally Sick for More Than 14 Days & Violent Crime"
      ]
    },
    {
      "cell_type": "code",
      "metadata": {
        "id": "dQxSPT4n3sTB"
      },
      "source": [
        "gen_health = pd.read_csv('Cdc_General_health.csv')"
      ],
      "execution_count": null,
      "outputs": []
    },
    {
      "cell_type": "code",
      "metadata": {
        "colab": {
          "base_uri": "https://localhost:8080/"
        },
        "id": "Vqa-Er0c53jR",
        "outputId": "4384666b-83d1-4022-c245-bb243f8454e1"
      },
      "source": [
        "gen_health= gen_health.dropna(how='any',axis=0)\n",
        "gen_health['CityName_ST'] = gen_health['CityName'] + '_' + gen_health['StateAbbr']\n",
        "gen_health.shape\n",
        "health_gr = gen_health.groupby(['CityName_ST'])\n",
        "health_average = health_gr['Data_Value'].mean().to_frame(name='% of Disease Prevalence').reset_index()\n",
        "health_average.shape"
      ],
      "execution_count": null,
      "outputs": [
        {
          "output_type": "execute_result",
          "data": {
            "text/plain": [
              "(500, 2)"
            ]
          },
          "metadata": {
            "tags": []
          },
          "execution_count": 137
        }
      ]
    },
    {
      "cell_type": "code",
      "metadata": {
        "id": "Bq6ItajB6VHO"
      },
      "source": [
        "health_crime = pd.merge(health_average, city_crime, on='CityName_ST')"
      ],
      "execution_count": null,
      "outputs": []
    },
    {
      "cell_type": "code",
      "metadata": {
        "colab": {
          "base_uri": "https://localhost:8080/"
        },
        "id": "S-KgwFBTvLWO",
        "outputId": "a5757690-d63f-452f-c8ce-67fb544bd510"
      },
      "source": [
        "health_crime.shape"
      ],
      "execution_count": null,
      "outputs": [
        {
          "output_type": "execute_result",
          "data": {
            "text/plain": [
              "(267, 15)"
            ]
          },
          "metadata": {
            "tags": []
          },
          "execution_count": 140
        }
      ]
    },
    {
      "cell_type": "code",
      "metadata": {
        "colab": {
          "base_uri": "https://localhost:8080/",
          "height": 293
        },
        "id": "maEOKzIg7nNc",
        "outputId": "3567121c-e035-403c-f31f-6c02ddfdf04e"
      },
      "source": [
        "import seaborn as sns\n",
        "plt.style.use('seaborn-darkgrid')\n",
        "plt.title(\"Sick for More than 14 Days vs. Violent Crime\", fontsize=15, fontweight=5, color='orange')\n",
        "\n",
        "\n",
        "ax1 = sns.regplot(x = health_crime['% of Disease Prevalence'], y = health_crime['Violent Crime Per 100'], data = health_crime, ci=None)"
      ],
      "execution_count": null,
      "outputs": [
        {
          "output_type": "display_data",
          "data": {
            "image/png": "[encoded data removed]",
            "text/plain": [
              "<Figure size 432x288 with 1 Axes>"
            ]
          },
          "metadata": {
            "tags": []
          }
        }
      ]
    },
    {
      "cell_type": "code",
      "metadata": {
        "colab": {
          "base_uri": "https://localhost:8080/"
        },
        "id": "Fk6uc-4d7wUm",
        "outputId": "872fed69-7b56-4944-aa5b-849de02757ef"
      },
      "source": [
        "corr, _ = pearsonr(health_crime['Violent Crime Per 100'], health_crime['% of Disease Prevalence'])\n",
        "print('Pearsons correlation: %.3f' % corr)"
      ],
      "execution_count": null,
      "outputs": [
        {
          "output_type": "stream",
          "text": [
            "Pearsons correlation: 0.565\n"
          ],
          "name": "stdout"
        }
      ]
    },
    {
      "cell_type": "markdown",
      "metadata": {
        "id": "AmpXooXX8HQG"
      },
      "source": [
        "There is a moderate correlation between being ill for more than 14 days and living in a higher crime area"
      ]
    },
    {
      "cell_type": "markdown",
      "metadata": {
        "id": "0A_R0QSq80H2"
      },
      "source": [
        "## Athsma vs Crime"
      ]
    },
    {
      "cell_type": "code",
      "metadata": {
        "colab": {
          "base_uri": "https://localhost:8080/",
          "height": 204
        },
        "id": "22DIYuwf84qm",
        "outputId": "75c495d2-d03f-4a62-fadd-d4b2f095655b"
      },
      "source": [
        "athsma = pd.read_csv('500_Cities__Current_asthma.csv')\n",
        "athsma.head()"
      ],
      "execution_count": null,
      "outputs": [
        {
          "output_type": "execute_result",
          "data": {
            "text/html": [
              "<div>\n",
              "<style scoped>\n",
              "    .dataframe tbody tr th:only-of-type {\n",
              "        vertical-align: middle;\n",
              "    }\n",
              "\n",
              "    .dataframe tbody tr th {\n",
              "        vertical-align: top;\n",
              "    }\n",
              "\n",
              "    .dataframe thead th {\n",
              "        text-align: right;\n",
              "    }\n",
              "</style>\n",
              "<table border=\"1\" class=\"dataframe\">\n",
              "  <thead>\n",
              "    <tr style=\"text-align: right;\">\n",
              "      <th></th>\n",
              "      <th>Year</th>\n",
              "      <th>StateAbbr</th>\n",
              "      <th>StateDesc</th>\n",
              "      <th>CityName</th>\n",
              "      <th>Data_Value</th>\n",
              "      <th>Low_Confidence_Limit</th>\n",
              "      <th>High_Confidence_Limit</th>\n",
              "    </tr>\n",
              "  </thead>\n",
              "  <tbody>\n",
              "    <tr>\n",
              "      <th>0</th>\n",
              "      <td>2017</td>\n",
              "      <td>IL</td>\n",
              "      <td>Illinois</td>\n",
              "      <td>Decatur</td>\n",
              "      <td>10.0</td>\n",
              "      <td>9.5</td>\n",
              "      <td>10.5</td>\n",
              "    </tr>\n",
              "    <tr>\n",
              "      <th>1</th>\n",
              "      <td>2017</td>\n",
              "      <td>IL</td>\n",
              "      <td>Illinois</td>\n",
              "      <td>Naperville</td>\n",
              "      <td>8.3</td>\n",
              "      <td>8.0</td>\n",
              "      <td>8.8</td>\n",
              "    </tr>\n",
              "    <tr>\n",
              "      <th>2</th>\n",
              "      <td>2017</td>\n",
              "      <td>IL</td>\n",
              "      <td>Illinois</td>\n",
              "      <td>Cicero</td>\n",
              "      <td>8.4</td>\n",
              "      <td>8.2</td>\n",
              "      <td>8.6</td>\n",
              "    </tr>\n",
              "    <tr>\n",
              "      <th>3</th>\n",
              "      <td>2017</td>\n",
              "      <td>IL</td>\n",
              "      <td>Illinois</td>\n",
              "      <td>Joliet</td>\n",
              "      <td>8.8</td>\n",
              "      <td>8.4</td>\n",
              "      <td>9.2</td>\n",
              "    </tr>\n",
              "    <tr>\n",
              "      <th>4</th>\n",
              "      <td>2017</td>\n",
              "      <td>IL</td>\n",
              "      <td>Illinois</td>\n",
              "      <td>Palatine</td>\n",
              "      <td>7.7</td>\n",
              "      <td>7.3</td>\n",
              "      <td>8.2</td>\n",
              "    </tr>\n",
              "  </tbody>\n",
              "</table>\n",
              "</div>"
            ],
            "text/plain": [
              "   Year StateAbbr  ... Low_Confidence_Limit High_Confidence_Limit\n",
              "0  2017        IL  ...                  9.5                  10.5\n",
              "1  2017        IL  ...                  8.0                   8.8\n",
              "2  2017        IL  ...                  8.2                   8.6\n",
              "3  2017        IL  ...                  8.4                   9.2\n",
              "4  2017        IL  ...                  7.3                   8.2\n",
              "\n",
              "[5 rows x 7 columns]"
            ]
          },
          "metadata": {
            "tags": []
          },
          "execution_count": 144
        }
      ]
    },
    {
      "cell_type": "code",
      "metadata": {
        "colab": {
          "base_uri": "https://localhost:8080/",
          "height": 204
        },
        "id": "3XhYcuhX9RO0",
        "outputId": "33a066ee-7235-4e66-edda-9667582d88c0"
      },
      "source": [
        "athsma= athsma.dropna(how='any',axis=0)\n",
        "athsma['CityName_ST'] = athsma['CityName'] + '_' + athsma['StateAbbr']\n",
        "athsma_gr = athsma.groupby(['CityName_ST'])\n",
        "athsma_average = athsma_gr['Data_Value'].mean().to_frame(name='% of Disease Prevalence').reset_index()\n",
        "athsma_average.head()"
      ],
      "execution_count": null,
      "outputs": [
        {
          "output_type": "execute_result",
          "data": {
            "text/html": [
              "<div>\n",
              "<style scoped>\n",
              "    .dataframe tbody tr th:only-of-type {\n",
              "        vertical-align: middle;\n",
              "    }\n",
              "\n",
              "    .dataframe tbody tr th {\n",
              "        vertical-align: top;\n",
              "    }\n",
              "\n",
              "    .dataframe thead th {\n",
              "        text-align: right;\n",
              "    }\n",
              "</style>\n",
              "<table border=\"1\" class=\"dataframe\">\n",
              "  <thead>\n",
              "    <tr style=\"text-align: right;\">\n",
              "      <th></th>\n",
              "      <th>CityName_ST</th>\n",
              "      <th>% of Disease Prevalence</th>\n",
              "    </tr>\n",
              "  </thead>\n",
              "  <tbody>\n",
              "    <tr>\n",
              "      <th>0</th>\n",
              "      <td>Abilene_TX</td>\n",
              "      <td>8.900000</td>\n",
              "    </tr>\n",
              "    <tr>\n",
              "      <th>1</th>\n",
              "      <td>Akron_OH</td>\n",
              "      <td>10.997059</td>\n",
              "    </tr>\n",
              "    <tr>\n",
              "      <th>2</th>\n",
              "      <td>Alameda_CA</td>\n",
              "      <td>8.422222</td>\n",
              "    </tr>\n",
              "    <tr>\n",
              "      <th>3</th>\n",
              "      <td>Albany_GA</td>\n",
              "      <td>11.374074</td>\n",
              "    </tr>\n",
              "    <tr>\n",
              "      <th>4</th>\n",
              "      <td>Albany_NY</td>\n",
              "      <td>10.917857</td>\n",
              "    </tr>\n",
              "  </tbody>\n",
              "</table>\n",
              "</div>"
            ],
            "text/plain": [
              "  CityName_ST  % of Disease Prevalence\n",
              "0  Abilene_TX                 8.900000\n",
              "1    Akron_OH                10.997059\n",
              "2  Alameda_CA                 8.422222\n",
              "3   Albany_GA                11.374074\n",
              "4   Albany_NY                10.917857"
            ]
          },
          "metadata": {
            "tags": []
          },
          "execution_count": 146
        }
      ]
    },
    {
      "cell_type": "code",
      "metadata": {
        "colab": {
          "base_uri": "https://localhost:8080/",
          "height": 258
        },
        "id": "7i3KQrY-9jdj",
        "outputId": "dad643c0-0876-4d57-f5e5-57503a6b95d2"
      },
      "source": [
        "athsma_crime = pd.merge(athsma_average, city_crime, how='inner', on = 'CityName_ST')\n",
        "athsma_crime.head()"
      ],
      "execution_count": null,
      "outputs": [
        {
          "output_type": "execute_result",
          "data": {
            "text/html": [
              "<div>\n",
              "<style scoped>\n",
              "    .dataframe tbody tr th:only-of-type {\n",
              "        vertical-align: middle;\n",
              "    }\n",
              "\n",
              "    .dataframe tbody tr th {\n",
              "        vertical-align: top;\n",
              "    }\n",
              "\n",
              "    .dataframe thead th {\n",
              "        text-align: right;\n",
              "    }\n",
              "</style>\n",
              "<table border=\"1\" class=\"dataframe\">\n",
              "  <thead>\n",
              "    <tr style=\"text-align: right;\">\n",
              "      <th></th>\n",
              "      <th>CityName_ST</th>\n",
              "      <th>% of Disease Prevalence</th>\n",
              "      <th>STATE</th>\n",
              "      <th>Counties/principal cities</th>\n",
              "      <th>Population</th>\n",
              "      <th>Violent\\rcrime</th>\n",
              "      <th>Murder and\\rnonnegligent\\rmanslaughter</th>\n",
              "      <th>Rape1</th>\n",
              "      <th>Robbery</th>\n",
              "      <th>Aggravated\\rassault</th>\n",
              "      <th>Property\\rcrime</th>\n",
              "      <th>Burglary</th>\n",
              "      <th>Larceny-\\rtheft</th>\n",
              "      <th>Motor\\rvehicle\\rtheft</th>\n",
              "      <th>Violent Crime Per 100</th>\n",
              "    </tr>\n",
              "  </thead>\n",
              "  <tbody>\n",
              "    <tr>\n",
              "      <th>0</th>\n",
              "      <td>Abilene_TX</td>\n",
              "      <td>8.900000</td>\n",
              "      <td>TX</td>\n",
              "      <td>Abilene</td>\n",
              "      <td>122480.0</td>\n",
              "      <td>591.0</td>\n",
              "      <td>8</td>\n",
              "      <td>97</td>\n",
              "      <td>104</td>\n",
              "      <td>382</td>\n",
              "      <td>3,528</td>\n",
              "      <td>734</td>\n",
              "      <td>2,561</td>\n",
              "      <td>233</td>\n",
              "      <td>0.482528</td>\n",
              "    </tr>\n",
              "    <tr>\n",
              "      <th>1</th>\n",
              "      <td>Akron_OH</td>\n",
              "      <td>10.997059</td>\n",
              "      <td>OH</td>\n",
              "      <td>Akron</td>\n",
              "      <td>197690.0</td>\n",
              "      <td>1704.0</td>\n",
              "      <td>38</td>\n",
              "      <td>221</td>\n",
              "      <td>387</td>\n",
              "      <td>1,058</td>\n",
              "      <td>7,159</td>\n",
              "      <td>1,740</td>\n",
              "      <td>4,701</td>\n",
              "      <td>718</td>\n",
              "      <td>0.861956</td>\n",
              "    </tr>\n",
              "    <tr>\n",
              "      <th>2</th>\n",
              "      <td>Albany_GA</td>\n",
              "      <td>11.374074</td>\n",
              "      <td>GA</td>\n",
              "      <td>Albany</td>\n",
              "      <td>72594.0</td>\n",
              "      <td>809.0</td>\n",
              "      <td>15</td>\n",
              "      <td>28</td>\n",
              "      <td>113</td>\n",
              "      <td>653</td>\n",
              "      <td>3,704</td>\n",
              "      <td>760</td>\n",
              "      <td>2,666</td>\n",
              "      <td>278</td>\n",
              "      <td>1.114417</td>\n",
              "    </tr>\n",
              "    <tr>\n",
              "      <th>3</th>\n",
              "      <td>Albany_NY</td>\n",
              "      <td>10.917857</td>\n",
              "      <td>NY</td>\n",
              "      <td>Albany</td>\n",
              "      <td>98322.0</td>\n",
              "      <td>823.0</td>\n",
              "      <td>12</td>\n",
              "      <td>52</td>\n",
              "      <td>209</td>\n",
              "      <td>550</td>\n",
              "      <td>3,147</td>\n",
              "      <td>432</td>\n",
              "      <td>2,585</td>\n",
              "      <td>130</td>\n",
              "      <td>0.837046</td>\n",
              "    </tr>\n",
              "    <tr>\n",
              "      <th>4</th>\n",
              "      <td>Albuquerque_NM</td>\n",
              "      <td>10.014388</td>\n",
              "      <td>NM</td>\n",
              "      <td>Albuquerque</td>\n",
              "      <td>560235.0</td>\n",
              "      <td>7646.0</td>\n",
              "      <td>69</td>\n",
              "      <td>479</td>\n",
              "      <td>1,979</td>\n",
              "      <td>5,119</td>\n",
              "      <td>34,619</td>\n",
              "      <td>6,378</td>\n",
              "      <td>21,625</td>\n",
              "      <td>6,616</td>\n",
              "      <td>1.364784</td>\n",
              "    </tr>\n",
              "  </tbody>\n",
              "</table>\n",
              "</div>"
            ],
            "text/plain": [
              "      CityName_ST  ...  Violent Crime Per 100\n",
              "0      Abilene_TX  ...               0.482528\n",
              "1        Akron_OH  ...               0.861956\n",
              "2       Albany_GA  ...               1.114417\n",
              "3       Albany_NY  ...               0.837046\n",
              "4  Albuquerque_NM  ...               1.364784\n",
              "\n",
              "[5 rows x 15 columns]"
            ]
          },
          "metadata": {
            "tags": []
          },
          "execution_count": 147
        }
      ]
    },
    {
      "cell_type": "code",
      "metadata": {
        "colab": {
          "base_uri": "https://localhost:8080/",
          "height": 293
        },
        "id": "p9mNX9tX9suY",
        "outputId": "86a46f41-e5e3-41e9-a6a2-aa3a97a6f437"
      },
      "source": [
        "import seaborn as sns\n",
        "plt.style.use('seaborn-darkgrid')\n",
        "plt.title(\"Athsma vs. Violent Crime\", fontsize=15, fontweight=5, color='orange')\n",
        "\n",
        "ax1 = sns.regplot(x = athsma_crime['% of Disease Prevalence'], y = athsma_crime['Violent Crime Per 100'], data = athsma_crime, ci=None)"
      ],
      "execution_count": null,
      "outputs": [
        {
          "output_type": "display_data",
          "data": {
            "image/png": "[encoded data removed]",
            "text/plain": [
              "<Figure size 432x288 with 1 Axes>"
            ]
          },
          "metadata": {
            "tags": []
          }
        }
      ]
    },
    {
      "cell_type": "code",
      "metadata": {
        "colab": {
          "base_uri": "https://localhost:8080/"
        },
        "id": "MFzLiABU9ywg",
        "outputId": "2a029a74-320d-4c35-fd82-3a68d8de8e4f"
      },
      "source": [
        "corr, _ = pearsonr(athsma_crime['Violent Crime Per 100'], athsma_crime['% of Disease Prevalence'])\n",
        "print('Pearsons correlation: %.3f' % corr)"
      ],
      "execution_count": null,
      "outputs": [
        {
          "output_type": "stream",
          "text": [
            "Pearsons correlation: 0.528\n"
          ],
          "name": "stdout"
        }
      ]
    },
    {
      "cell_type": "code",
      "metadata": {
        "colab": {
          "base_uri": "https://localhost:8080/",
          "height": 413
        },
        "id": "cJcsSYlo5Mqv",
        "outputId": "d63ca4b8-ad01-45bf-c2b6-93f9ac1c720d"
      },
      "source": [
        "athsma_crime.nlargest(10, '% of Disease Prevalence')"
      ],
      "execution_count": null,
      "outputs": [
        {
          "output_type": "execute_result",
          "data": {
            "text/html": [
              "<div>\n",
              "<style scoped>\n",
              "    .dataframe tbody tr th:only-of-type {\n",
              "        vertical-align: middle;\n",
              "    }\n",
              "\n",
              "    .dataframe tbody tr th {\n",
              "        vertical-align: top;\n",
              "    }\n",
              "\n",
              "    .dataframe thead th {\n",
              "        text-align: right;\n",
              "    }\n",
              "</style>\n",
              "<table border=\"1\" class=\"dataframe\">\n",
              "  <thead>\n",
              "    <tr style=\"text-align: right;\">\n",
              "      <th></th>\n",
              "      <th>CityName_ST</th>\n",
              "      <th>% of Disease Prevalence</th>\n",
              "      <th>STATE</th>\n",
              "      <th>Counties/principal cities</th>\n",
              "      <th>Population</th>\n",
              "      <th>Violent\\rcrime</th>\n",
              "      <th>Murder and\\rnonnegligent\\rmanslaughter</th>\n",
              "      <th>Rape1</th>\n",
              "      <th>Robbery</th>\n",
              "      <th>Aggravated\\rassault</th>\n",
              "      <th>Property\\rcrime</th>\n",
              "      <th>Burglary</th>\n",
              "      <th>Larceny-\\rtheft</th>\n",
              "      <th>Motor\\rvehicle\\rtheft</th>\n",
              "      <th>Violent Crime Per 100</th>\n",
              "    </tr>\n",
              "  </thead>\n",
              "  <tbody>\n",
              "    <tr>\n",
              "      <th>72</th>\n",
              "      <td>Detroit_MI</td>\n",
              "      <td>14.368027</td>\n",
              "      <td>MI</td>\n",
              "      <td>Detroit</td>\n",
              "      <td>671275.0</td>\n",
              "      <td>13478.0</td>\n",
              "      <td>261</td>\n",
              "      <td>988</td>\n",
              "      <td>2,309</td>\n",
              "      <td>9,920</td>\n",
              "      <td>28,897</td>\n",
              "      <td>7,440</td>\n",
              "      <td>15,003</td>\n",
              "      <td>6,454</td>\n",
              "      <td>2.007821</td>\n",
              "    </tr>\n",
              "    <tr>\n",
              "      <th>83</th>\n",
              "      <td>Flint_MI</td>\n",
              "      <td>13.456098</td>\n",
              "      <td>MI</td>\n",
              "      <td>Flint</td>\n",
              "      <td>95677.0</td>\n",
              "      <td>1739.0</td>\n",
              "      <td>32</td>\n",
              "      <td>130</td>\n",
              "      <td>189</td>\n",
              "      <td>1,388</td>\n",
              "      <td>2,584</td>\n",
              "      <td>796</td>\n",
              "      <td>1,488</td>\n",
              "      <td>300</td>\n",
              "      <td>1.817574</td>\n",
              "    </tr>\n",
              "    <tr>\n",
              "      <th>191</th>\n",
              "      <td>Rochester_NY</td>\n",
              "      <td>12.462963</td>\n",
              "      <td>NY</td>\n",
              "      <td>Rochester</td>\n",
              "      <td>207701.0</td>\n",
              "      <td>1615.0</td>\n",
              "      <td>29</td>\n",
              "      <td>131</td>\n",
              "      <td>516</td>\n",
              "      <td>939</td>\n",
              "      <td>7,036</td>\n",
              "      <td>1,178</td>\n",
              "      <td>5,285</td>\n",
              "      <td>573</td>\n",
              "      <td>0.777560</td>\n",
              "    </tr>\n",
              "    <tr>\n",
              "      <th>181</th>\n",
              "      <td>Providence_RI</td>\n",
              "      <td>12.351220</td>\n",
              "      <td>RI</td>\n",
              "      <td>Providence</td>\n",
              "      <td>180169.0</td>\n",
              "      <td>819.0</td>\n",
              "      <td>10</td>\n",
              "      <td>109</td>\n",
              "      <td>248</td>\n",
              "      <td>452</td>\n",
              "      <td>5,679</td>\n",
              "      <td>931</td>\n",
              "      <td>4,196</td>\n",
              "      <td>552</td>\n",
              "      <td>0.454573</td>\n",
              "    </tr>\n",
              "    <tr>\n",
              "      <th>37</th>\n",
              "      <td>Buffalo_NY</td>\n",
              "      <td>12.108642</td>\n",
              "      <td>NY</td>\n",
              "      <td>Buffalo</td>\n",
              "      <td>258219.0</td>\n",
              "      <td>2692.0</td>\n",
              "      <td>57</td>\n",
              "      <td>167</td>\n",
              "      <td>907</td>\n",
              "      <td>1,561</td>\n",
              "      <td>9,852</td>\n",
              "      <td>2,271</td>\n",
              "      <td>6,707</td>\n",
              "      <td>874</td>\n",
              "      <td>1.042526</td>\n",
              "    </tr>\n",
              "    <tr>\n",
              "      <th>227</th>\n",
              "      <td>Springfield_MA</td>\n",
              "      <td>12.107692</td>\n",
              "      <td>MA</td>\n",
              "      <td>Springfield</td>\n",
              "      <td>155179.0</td>\n",
              "      <td>1534.0</td>\n",
              "      <td>19</td>\n",
              "      <td>104</td>\n",
              "      <td>475</td>\n",
              "      <td>936</td>\n",
              "      <td>4,089</td>\n",
              "      <td>910</td>\n",
              "      <td>2,752</td>\n",
              "      <td>427</td>\n",
              "      <td>0.988536</td>\n",
              "    </tr>\n",
              "    <tr>\n",
              "      <th>263</th>\n",
              "      <td>Wilmington_DE</td>\n",
              "      <td>12.065385</td>\n",
              "      <td>DE</td>\n",
              "      <td>Wilmington</td>\n",
              "      <td>71157.0</td>\n",
              "      <td>1099.0</td>\n",
              "      <td>23</td>\n",
              "      <td>14</td>\n",
              "      <td>358</td>\n",
              "      <td>704</td>\n",
              "      <td>3,502</td>\n",
              "      <td>567</td>\n",
              "      <td>2,483</td>\n",
              "      <td>452</td>\n",
              "      <td>1.544472</td>\n",
              "    </tr>\n",
              "    <tr>\n",
              "      <th>67</th>\n",
              "      <td>Dayton_OH</td>\n",
              "      <td>12.023729</td>\n",
              "      <td>OH</td>\n",
              "      <td>Dayton</td>\n",
              "      <td>140094.0</td>\n",
              "      <td>1291.0</td>\n",
              "      <td>37</td>\n",
              "      <td>167</td>\n",
              "      <td>403</td>\n",
              "      <td>684</td>\n",
              "      <td>6,323</td>\n",
              "      <td>1,697</td>\n",
              "      <td>3,831</td>\n",
              "      <td>795</td>\n",
              "      <td>0.921524</td>\n",
              "    </tr>\n",
              "    <tr>\n",
              "      <th>97</th>\n",
              "      <td>Hartford_CT</td>\n",
              "      <td>11.976190</td>\n",
              "      <td>CT</td>\n",
              "      <td>Hartford</td>\n",
              "      <td>123117.0</td>\n",
              "      <td>1313.0</td>\n",
              "      <td>21</td>\n",
              "      <td>53</td>\n",
              "      <td>355</td>\n",
              "      <td>884</td>\n",
              "      <td>4,435</td>\n",
              "      <td>605</td>\n",
              "      <td>3,089</td>\n",
              "      <td>741</td>\n",
              "      <td>1.066465</td>\n",
              "    </tr>\n",
              "    <tr>\n",
              "      <th>238</th>\n",
              "      <td>Syracuse_NY</td>\n",
              "      <td>11.866667</td>\n",
              "      <td>NY</td>\n",
              "      <td>Syracuse</td>\n",
              "      <td>143129.0</td>\n",
              "      <td>1006.0</td>\n",
              "      <td>23</td>\n",
              "      <td>92</td>\n",
              "      <td>285</td>\n",
              "      <td>606</td>\n",
              "      <td>4,420</td>\n",
              "      <td>831</td>\n",
              "      <td>3,083</td>\n",
              "      <td>506</td>\n",
              "      <td>0.702862</td>\n",
              "    </tr>\n",
              "  </tbody>\n",
              "</table>\n",
              "</div>"
            ],
            "text/plain": [
              "        CityName_ST  ...  Violent Crime Per 100\n",
              "72       Detroit_MI  ...               2.007821\n",
              "83         Flint_MI  ...               1.817574\n",
              "191    Rochester_NY  ...               0.777560\n",
              "181   Providence_RI  ...               0.454573\n",
              "37       Buffalo_NY  ...               1.042526\n",
              "227  Springfield_MA  ...               0.988536\n",
              "263   Wilmington_DE  ...               1.544472\n",
              "67        Dayton_OH  ...               0.921524\n",
              "97      Hartford_CT  ...               1.066465\n",
              "238     Syracuse_NY  ...               0.702862\n",
              "\n",
              "[10 rows x 15 columns]"
            ]
          },
          "metadata": {
            "tags": []
          },
          "execution_count": 193
        }
      ]
    },
    {
      "cell_type": "markdown",
      "metadata": {
        "id": "raJJW61f84Uf"
      },
      "source": [
        "There's a moderate correlation between athsma & violent crime in towns."
      ]
    },
    {
      "cell_type": "markdown",
      "metadata": {
        "id": "6M-WVeFf-xD8"
      },
      "source": [
        "## Mental Health & Violent Crime"
      ]
    },
    {
      "cell_type": "code",
      "metadata": {
        "colab": {
          "base_uri": "https://localhost:8080/",
          "height": 204
        },
        "id": "6YhJXexP-1Ij",
        "outputId": "b82cc188-f3cb-4292-988d-ff9aef0b13ef"
      },
      "source": [
        "mental = pd.read_csv('500_Cities__Mental_health_not_good_for___14_days_among_adults_aged___18_years.csv')\n",
        "mental.head()"
      ],
      "execution_count": null,
      "outputs": [
        {
          "output_type": "execute_result",
          "data": {
            "text/html": [
              "<div>\n",
              "<style scoped>\n",
              "    .dataframe tbody tr th:only-of-type {\n",
              "        vertical-align: middle;\n",
              "    }\n",
              "\n",
              "    .dataframe tbody tr th {\n",
              "        vertical-align: top;\n",
              "    }\n",
              "\n",
              "    .dataframe thead th {\n",
              "        text-align: right;\n",
              "    }\n",
              "</style>\n",
              "<table border=\"1\" class=\"dataframe\">\n",
              "  <thead>\n",
              "    <tr style=\"text-align: right;\">\n",
              "      <th></th>\n",
              "      <th>Year</th>\n",
              "      <th>StateAbbr</th>\n",
              "      <th>StateDesc</th>\n",
              "      <th>CityName</th>\n",
              "      <th>Data_Value</th>\n",
              "      <th>Low_Confidence_Limit</th>\n",
              "      <th>High_Confidence_Limit</th>\n",
              "    </tr>\n",
              "  </thead>\n",
              "  <tbody>\n",
              "    <tr>\n",
              "      <th>0</th>\n",
              "      <td>2017</td>\n",
              "      <td>IL</td>\n",
              "      <td>Illinois</td>\n",
              "      <td>Chicago</td>\n",
              "      <td>18.8</td>\n",
              "      <td>16.7</td>\n",
              "      <td>20.9</td>\n",
              "    </tr>\n",
              "    <tr>\n",
              "      <th>1</th>\n",
              "      <td>2017</td>\n",
              "      <td>IL</td>\n",
              "      <td>Illinois</td>\n",
              "      <td>Chicago</td>\n",
              "      <td>9.9</td>\n",
              "      <td>8.9</td>\n",
              "      <td>11.1</td>\n",
              "    </tr>\n",
              "    <tr>\n",
              "      <th>2</th>\n",
              "      <td>2017</td>\n",
              "      <td>IL</td>\n",
              "      <td>Illinois</td>\n",
              "      <td>Elgin</td>\n",
              "      <td>14.7</td>\n",
              "      <td>13.5</td>\n",
              "      <td>16.1</td>\n",
              "    </tr>\n",
              "    <tr>\n",
              "      <th>3</th>\n",
              "      <td>2017</td>\n",
              "      <td>IL</td>\n",
              "      <td>Illinois</td>\n",
              "      <td>Chicago</td>\n",
              "      <td>13.2</td>\n",
              "      <td>12.1</td>\n",
              "      <td>14.4</td>\n",
              "    </tr>\n",
              "    <tr>\n",
              "      <th>4</th>\n",
              "      <td>2017</td>\n",
              "      <td>IL</td>\n",
              "      <td>Illinois</td>\n",
              "      <td>Chicago</td>\n",
              "      <td>8.3</td>\n",
              "      <td>7.6</td>\n",
              "      <td>9.3</td>\n",
              "    </tr>\n",
              "  </tbody>\n",
              "</table>\n",
              "</div>"
            ],
            "text/plain": [
              "   Year StateAbbr  ... Low_Confidence_Limit High_Confidence_Limit\n",
              "0  2017        IL  ...                 16.7                  20.9\n",
              "1  2017        IL  ...                  8.9                  11.1\n",
              "2  2017        IL  ...                 13.5                  16.1\n",
              "3  2017        IL  ...                 12.1                  14.4\n",
              "4  2017        IL  ...                  7.6                   9.3\n",
              "\n",
              "[5 rows x 7 columns]"
            ]
          },
          "metadata": {
            "tags": []
          },
          "execution_count": 152
        }
      ]
    },
    {
      "cell_type": "code",
      "metadata": {
        "colab": {
          "base_uri": "https://localhost:8080/",
          "height": 204
        },
        "id": "1v-vMwgA-4pG",
        "outputId": "b52bf0a7-ed1f-4246-9bc5-f0ff86b84824"
      },
      "source": [
        "mental= mental.dropna(how='any',axis=0)\n",
        "mental['CityName_ST'] = mental['CityName'] + '_' + mental['StateAbbr']\n",
        "mental_gr = mental.groupby(['CityName_ST'])\n",
        "mental_average = mental_gr['Data_Value'].mean().to_frame(name='% of Disease Prevalence').reset_index()\n",
        "mental_average.head()"
      ],
      "execution_count": null,
      "outputs": [
        {
          "output_type": "execute_result",
          "data": {
            "text/html": [
              "<div>\n",
              "<style scoped>\n",
              "    .dataframe tbody tr th:only-of-type {\n",
              "        vertical-align: middle;\n",
              "    }\n",
              "\n",
              "    .dataframe tbody tr th {\n",
              "        vertical-align: top;\n",
              "    }\n",
              "\n",
              "    .dataframe thead th {\n",
              "        text-align: right;\n",
              "    }\n",
              "</style>\n",
              "<table border=\"1\" class=\"dataframe\">\n",
              "  <thead>\n",
              "    <tr style=\"text-align: right;\">\n",
              "      <th></th>\n",
              "      <th>CityName_ST</th>\n",
              "      <th>% of Disease Prevalence</th>\n",
              "    </tr>\n",
              "  </thead>\n",
              "  <tbody>\n",
              "    <tr>\n",
              "      <th>0</th>\n",
              "      <td>Abilene_TX</td>\n",
              "      <td>15.053846</td>\n",
              "    </tr>\n",
              "    <tr>\n",
              "      <th>1</th>\n",
              "      <td>Akron_OH</td>\n",
              "      <td>17.227941</td>\n",
              "    </tr>\n",
              "    <tr>\n",
              "      <th>2</th>\n",
              "      <td>Alameda_CA</td>\n",
              "      <td>10.083333</td>\n",
              "    </tr>\n",
              "    <tr>\n",
              "      <th>3</th>\n",
              "      <td>Albany_GA</td>\n",
              "      <td>16.640741</td>\n",
              "    </tr>\n",
              "    <tr>\n",
              "      <th>4</th>\n",
              "      <td>Albany_NY</td>\n",
              "      <td>15.307143</td>\n",
              "    </tr>\n",
              "  </tbody>\n",
              "</table>\n",
              "</div>"
            ],
            "text/plain": [
              "  CityName_ST  % of Disease Prevalence\n",
              "0  Abilene_TX                15.053846\n",
              "1    Akron_OH                17.227941\n",
              "2  Alameda_CA                10.083333\n",
              "3   Albany_GA                16.640741\n",
              "4   Albany_NY                15.307143"
            ]
          },
          "metadata": {
            "tags": []
          },
          "execution_count": 153
        }
      ]
    },
    {
      "cell_type": "code",
      "metadata": {
        "id": "3_z9ZSu1_Hsb"
      },
      "source": [
        "mental_crime = pd.merge(mental_average, city_crime, how='inner', on ='CityName_ST')"
      ],
      "execution_count": null,
      "outputs": []
    },
    {
      "cell_type": "code",
      "metadata": {
        "colab": {
          "base_uri": "https://localhost:8080/",
          "height": 293
        },
        "id": "yEL_cQtx_Ojg",
        "outputId": "2321d6f6-35e1-4d86-fc70-53eb9d810a63"
      },
      "source": [
        "import seaborn as sns\n",
        "plt.style.use('seaborn-darkgrid')\n",
        "plt.title(\"Mental Health vs. Violent Crime\", fontsize=15, fontweight=5, color='orange')\n",
        "\n",
        "\n",
        "ax1 = sns.regplot(x = mental_crime['% of Disease Prevalence'], y = mental_crime['Violent Crime Per 100'], data = mental_crime, ci=None)"
      ],
      "execution_count": null,
      "outputs": [
        {
          "output_type": "display_data",
          "data": {
            "image/png": "[encoded data removed]",
            "text/plain": [
              "<Figure size 432x288 with 1 Axes>"
            ]
          },
          "metadata": {
            "tags": []
          }
        }
      ]
    },
    {
      "cell_type": "code",
      "metadata": {
        "colab": {
          "base_uri": "https://localhost:8080/"
        },
        "id": "5pT55m9h_VP-",
        "outputId": "d8c0f691-15ba-46b5-8e54-1762d6c3b23b"
      },
      "source": [
        "corr, _ = pearsonr(mental_crime['Violent Crime Per 100'], mental_crime['% of Disease Prevalence'])\n",
        "print('Pearsons correlation: %.3f' % corr)"
      ],
      "execution_count": null,
      "outputs": [
        {
          "output_type": "stream",
          "text": [
            "Pearsons correlation: 0.590\n"
          ],
          "name": "stdout"
        }
      ]
    },
    {
      "cell_type": "markdown",
      "metadata": {
        "id": "Mu4LAFAD_wNf"
      },
      "source": [
        "## Cancer(Excluding Skin Cancer) vs. Violent Crime"
      ]
    },
    {
      "cell_type": "code",
      "metadata": {
        "colab": {
          "base_uri": "https://localhost:8080/",
          "height": 204
        },
        "id": "GncjI34H_0yL",
        "outputId": "1eaa23e6-67b1-457c-9ad5-f2a87b7d7c44"
      },
      "source": [
        "cancer = pd.read_csv('500_Cities__Cancer__excluding_skin_cancer__among_adults_aged___18_years.csv')\n",
        "cancer.head()\n",
        "cancer = cancer.drop(['Unnamed: 7', 'Unnamed: 8','Unnamed: 9'], 1)\n",
        "cancer.head()"
      ],
      "execution_count": null,
      "outputs": [
        {
          "output_type": "execute_result",
          "data": {
            "text/html": [
              "<div>\n",
              "<style scoped>\n",
              "    .dataframe tbody tr th:only-of-type {\n",
              "        vertical-align: middle;\n",
              "    }\n",
              "\n",
              "    .dataframe tbody tr th {\n",
              "        vertical-align: top;\n",
              "    }\n",
              "\n",
              "    .dataframe thead th {\n",
              "        text-align: right;\n",
              "    }\n",
              "</style>\n",
              "<table border=\"1\" class=\"dataframe\">\n",
              "  <thead>\n",
              "    <tr style=\"text-align: right;\">\n",
              "      <th></th>\n",
              "      <th>Year</th>\n",
              "      <th>StateAbbr</th>\n",
              "      <th>StateDesc</th>\n",
              "      <th>CityName</th>\n",
              "      <th>Data_Value</th>\n",
              "      <th>Low_Confidence_Limit</th>\n",
              "      <th>High_Confidence_Limit</th>\n",
              "    </tr>\n",
              "  </thead>\n",
              "  <tbody>\n",
              "    <tr>\n",
              "      <th>0</th>\n",
              "      <td>2017</td>\n",
              "      <td>GA</td>\n",
              "      <td>Georgia</td>\n",
              "      <td>Columbus</td>\n",
              "      <td>7.9</td>\n",
              "      <td>7.6</td>\n",
              "      <td>8.2</td>\n",
              "    </tr>\n",
              "    <tr>\n",
              "      <th>1</th>\n",
              "      <td>2017</td>\n",
              "      <td>GA</td>\n",
              "      <td>Georgia</td>\n",
              "      <td>Columbus</td>\n",
              "      <td>5.6</td>\n",
              "      <td>5.5</td>\n",
              "      <td>5.7</td>\n",
              "    </tr>\n",
              "    <tr>\n",
              "      <th>2</th>\n",
              "      <td>2017</td>\n",
              "      <td>GA</td>\n",
              "      <td>Georgia</td>\n",
              "      <td>Sandy Springs</td>\n",
              "      <td>3.5</td>\n",
              "      <td>3.4</td>\n",
              "      <td>3.6</td>\n",
              "    </tr>\n",
              "    <tr>\n",
              "      <th>3</th>\n",
              "      <td>2017</td>\n",
              "      <td>GA</td>\n",
              "      <td>Georgia</td>\n",
              "      <td>Columbus</td>\n",
              "      <td>6.5</td>\n",
              "      <td>6.2</td>\n",
              "      <td>6.7</td>\n",
              "    </tr>\n",
              "    <tr>\n",
              "      <th>4</th>\n",
              "      <td>2017</td>\n",
              "      <td>GA</td>\n",
              "      <td>Georgia</td>\n",
              "      <td>Savannah</td>\n",
              "      <td>5.6</td>\n",
              "      <td>5.4</td>\n",
              "      <td>5.7</td>\n",
              "    </tr>\n",
              "  </tbody>\n",
              "</table>\n",
              "</div>"
            ],
            "text/plain": [
              "   Year StateAbbr  ... Low_Confidence_Limit High_Confidence_Limit\n",
              "0  2017        GA  ...                  7.6                   8.2\n",
              "1  2017        GA  ...                  5.5                   5.7\n",
              "2  2017        GA  ...                  3.4                   3.6\n",
              "3  2017        GA  ...                  6.2                   6.7\n",
              "4  2017        GA  ...                  5.4                   5.7\n",
              "\n",
              "[5 rows x 7 columns]"
            ]
          },
          "metadata": {
            "tags": []
          },
          "execution_count": 160
        }
      ]
    },
    {
      "cell_type": "code",
      "metadata": {
        "colab": {
          "base_uri": "https://localhost:8080/",
          "height": 204
        },
        "id": "oS18YFFIAOjQ",
        "outputId": "f613e755-9075-4b96-f859-d742a5bd5222"
      },
      "source": [
        "cancer= cancer.dropna(how='any',axis=0)\n",
        "cancer['CityName_ST'] = cancer['CityName'] + '_' + cancer['StateAbbr']\n",
        "cancer_gr = cancer.groupby(['CityName_ST'])\n",
        "cancer_average = cancer_gr['Data_Value'].mean().to_frame(name='% of Disease Prevalence').reset_index()\n",
        "cancer_average.head()"
      ],
      "execution_count": null,
      "outputs": [
        {
          "output_type": "execute_result",
          "data": {
            "text/html": [
              "<div>\n",
              "<style scoped>\n",
              "    .dataframe tbody tr th:only-of-type {\n",
              "        vertical-align: middle;\n",
              "    }\n",
              "\n",
              "    .dataframe tbody tr th {\n",
              "        vertical-align: top;\n",
              "    }\n",
              "\n",
              "    .dataframe thead th {\n",
              "        text-align: right;\n",
              "    }\n",
              "</style>\n",
              "<table border=\"1\" class=\"dataframe\">\n",
              "  <thead>\n",
              "    <tr style=\"text-align: right;\">\n",
              "      <th></th>\n",
              "      <th>CityName_ST</th>\n",
              "      <th>% of Disease Prevalence</th>\n",
              "    </tr>\n",
              "  </thead>\n",
              "  <tbody>\n",
              "    <tr>\n",
              "      <th>0</th>\n",
              "      <td>Abilene_TX</td>\n",
              "      <td>5.876923</td>\n",
              "    </tr>\n",
              "    <tr>\n",
              "      <th>1</th>\n",
              "      <td>Akron_OH</td>\n",
              "      <td>6.320588</td>\n",
              "    </tr>\n",
              "    <tr>\n",
              "      <th>2</th>\n",
              "      <td>Alameda_CA</td>\n",
              "      <td>6.133333</td>\n",
              "    </tr>\n",
              "    <tr>\n",
              "      <th>3</th>\n",
              "      <td>Albany_GA</td>\n",
              "      <td>5.551852</td>\n",
              "    </tr>\n",
              "    <tr>\n",
              "      <th>4</th>\n",
              "      <td>Albany_NY</td>\n",
              "      <td>5.435714</td>\n",
              "    </tr>\n",
              "  </tbody>\n",
              "</table>\n",
              "</div>"
            ],
            "text/plain": [
              "  CityName_ST  % of Disease Prevalence\n",
              "0  Abilene_TX                 5.876923\n",
              "1    Akron_OH                 6.320588\n",
              "2  Alameda_CA                 6.133333\n",
              "3   Albany_GA                 5.551852\n",
              "4   Albany_NY                 5.435714"
            ]
          },
          "metadata": {
            "tags": []
          },
          "execution_count": 161
        }
      ]
    },
    {
      "cell_type": "code",
      "metadata": {
        "colab": {
          "base_uri": "https://localhost:8080/",
          "height": 258
        },
        "id": "vfo7mPk1A5qm",
        "outputId": "36144d85-5a55-401a-b8e3-2286d7b4827b"
      },
      "source": [
        "cancer_crime = pd.merge(cancer_average, city_crime, how='inner', on = 'CityName_ST')\n",
        "cancer_crime.head()"
      ],
      "execution_count": null,
      "outputs": [
        {
          "output_type": "execute_result",
          "data": {
            "text/html": [
              "<div>\n",
              "<style scoped>\n",
              "    .dataframe tbody tr th:only-of-type {\n",
              "        vertical-align: middle;\n",
              "    }\n",
              "\n",
              "    .dataframe tbody tr th {\n",
              "        vertical-align: top;\n",
              "    }\n",
              "\n",
              "    .dataframe thead th {\n",
              "        text-align: right;\n",
              "    }\n",
              "</style>\n",
              "<table border=\"1\" class=\"dataframe\">\n",
              "  <thead>\n",
              "    <tr style=\"text-align: right;\">\n",
              "      <th></th>\n",
              "      <th>CityName_ST</th>\n",
              "      <th>% of Disease Prevalence</th>\n",
              "      <th>STATE</th>\n",
              "      <th>Counties/principal cities</th>\n",
              "      <th>Population</th>\n",
              "      <th>Violent\\rcrime</th>\n",
              "      <th>Murder and\\rnonnegligent\\rmanslaughter</th>\n",
              "      <th>Rape1</th>\n",
              "      <th>Robbery</th>\n",
              "      <th>Aggravated\\rassault</th>\n",
              "      <th>Property\\rcrime</th>\n",
              "      <th>Burglary</th>\n",
              "      <th>Larceny-\\rtheft</th>\n",
              "      <th>Motor\\rvehicle\\rtheft</th>\n",
              "      <th>Violent Crime Per 100</th>\n",
              "    </tr>\n",
              "  </thead>\n",
              "  <tbody>\n",
              "    <tr>\n",
              "      <th>0</th>\n",
              "      <td>Abilene_TX</td>\n",
              "      <td>5.876923</td>\n",
              "      <td>TX</td>\n",
              "      <td>Abilene</td>\n",
              "      <td>122480.0</td>\n",
              "      <td>591.0</td>\n",
              "      <td>8</td>\n",
              "      <td>97</td>\n",
              "      <td>104</td>\n",
              "      <td>382</td>\n",
              "      <td>3,528</td>\n",
              "      <td>734</td>\n",
              "      <td>2,561</td>\n",
              "      <td>233</td>\n",
              "      <td>0.482528</td>\n",
              "    </tr>\n",
              "    <tr>\n",
              "      <th>1</th>\n",
              "      <td>Akron_OH</td>\n",
              "      <td>6.320588</td>\n",
              "      <td>OH</td>\n",
              "      <td>Akron</td>\n",
              "      <td>197690.0</td>\n",
              "      <td>1704.0</td>\n",
              "      <td>38</td>\n",
              "      <td>221</td>\n",
              "      <td>387</td>\n",
              "      <td>1,058</td>\n",
              "      <td>7,159</td>\n",
              "      <td>1,740</td>\n",
              "      <td>4,701</td>\n",
              "      <td>718</td>\n",
              "      <td>0.861956</td>\n",
              "    </tr>\n",
              "    <tr>\n",
              "      <th>2</th>\n",
              "      <td>Albany_GA</td>\n",
              "      <td>5.551852</td>\n",
              "      <td>GA</td>\n",
              "      <td>Albany</td>\n",
              "      <td>72594.0</td>\n",
              "      <td>809.0</td>\n",
              "      <td>15</td>\n",
              "      <td>28</td>\n",
              "      <td>113</td>\n",
              "      <td>653</td>\n",
              "      <td>3,704</td>\n",
              "      <td>760</td>\n",
              "      <td>2,666</td>\n",
              "      <td>278</td>\n",
              "      <td>1.114417</td>\n",
              "    </tr>\n",
              "    <tr>\n",
              "      <th>3</th>\n",
              "      <td>Albany_NY</td>\n",
              "      <td>5.435714</td>\n",
              "      <td>NY</td>\n",
              "      <td>Albany</td>\n",
              "      <td>98322.0</td>\n",
              "      <td>823.0</td>\n",
              "      <td>12</td>\n",
              "      <td>52</td>\n",
              "      <td>209</td>\n",
              "      <td>550</td>\n",
              "      <td>3,147</td>\n",
              "      <td>432</td>\n",
              "      <td>2,585</td>\n",
              "      <td>130</td>\n",
              "      <td>0.837046</td>\n",
              "    </tr>\n",
              "    <tr>\n",
              "      <th>4</th>\n",
              "      <td>Albuquerque_NM</td>\n",
              "      <td>6.064748</td>\n",
              "      <td>NM</td>\n",
              "      <td>Albuquerque</td>\n",
              "      <td>560235.0</td>\n",
              "      <td>7646.0</td>\n",
              "      <td>69</td>\n",
              "      <td>479</td>\n",
              "      <td>1,979</td>\n",
              "      <td>5,119</td>\n",
              "      <td>34,619</td>\n",
              "      <td>6,378</td>\n",
              "      <td>21,625</td>\n",
              "      <td>6,616</td>\n",
              "      <td>1.364784</td>\n",
              "    </tr>\n",
              "  </tbody>\n",
              "</table>\n",
              "</div>"
            ],
            "text/plain": [
              "      CityName_ST  ...  Violent Crime Per 100\n",
              "0      Abilene_TX  ...               0.482528\n",
              "1        Akron_OH  ...               0.861956\n",
              "2       Albany_GA  ...               1.114417\n",
              "3       Albany_NY  ...               0.837046\n",
              "4  Albuquerque_NM  ...               1.364784\n",
              "\n",
              "[5 rows x 15 columns]"
            ]
          },
          "metadata": {
            "tags": []
          },
          "execution_count": 162
        }
      ]
    },
    {
      "cell_type": "code",
      "metadata": {
        "colab": {
          "base_uri": "https://localhost:8080/",
          "height": 293
        },
        "id": "yvUL4rhEA_rg",
        "outputId": "ff79c644-813b-4f86-dad7-a4bb73334d06"
      },
      "source": [
        "import matplotlib.pyplot as plt\n",
        "plt.style.use('seaborn-darkgrid')\n",
        "plt.title(\"Cancer(Excluding Skin Cancer) vs. Violent Crime\", fontsize=15, fontweight=5, color='orange')\n",
        "\n",
        "import seaborn as sns\n",
        "\n",
        "ax1 = sns.regplot(x = cancer_crime['% of Disease Prevalence'], y = cancer_crime['Violent Crime Per 100'], data = cancer_crime, ci=None)"
      ],
      "execution_count": null,
      "outputs": [
        {
          "output_type": "display_data",
          "data": {
            "image/png": "[encoded data removed]",
            "text/plain": [
              "<Figure size 432x288 with 1 Axes>"
            ]
          },
          "metadata": {
            "tags": []
          }
        }
      ]
    },
    {
      "cell_type": "code",
      "metadata": {
        "colab": {
          "base_uri": "https://localhost:8080/"
        },
        "id": "cjSmoqXzBIlI",
        "outputId": "d6155a06-59b3-456b-e0d1-fc0f09916ad2"
      },
      "source": [
        "corr, _ = pearsonr(cancer_crime['Violent Crime Per 100'], cancer_crime['% of Disease Prevalence'])\n",
        "print('Pearsons correlation: %.3f' % corr)"
      ],
      "execution_count": null,
      "outputs": [
        {
          "output_type": "stream",
          "text": [
            "Pearsons correlation: -0.157\n"
          ],
          "name": "stdout"
        }
      ]
    },
    {
      "cell_type": "code",
      "metadata": {
        "colab": {
          "base_uri": "https://localhost:8080/",
          "height": 481
        },
        "id": "o90lHNCZ5EX8",
        "outputId": "e478a2a8-e3ba-40de-8fd3-2d2f011dfc62"
      },
      "source": [
        "cancer_crime.nlargest(10, '% of Disease Prevalence')"
      ],
      "execution_count": null,
      "outputs": [
        {
          "output_type": "execute_result",
          "data": {
            "text/html": [
              "<div>\n",
              "<style scoped>\n",
              "    .dataframe tbody tr th:only-of-type {\n",
              "        vertical-align: middle;\n",
              "    }\n",
              "\n",
              "    .dataframe tbody tr th {\n",
              "        vertical-align: top;\n",
              "    }\n",
              "\n",
              "    .dataframe thead th {\n",
              "        text-align: right;\n",
              "    }\n",
              "</style>\n",
              "<table border=\"1\" class=\"dataframe\">\n",
              "  <thead>\n",
              "    <tr style=\"text-align: right;\">\n",
              "      <th></th>\n",
              "      <th>CityName_ST</th>\n",
              "      <th>% of Disease Prevalence</th>\n",
              "      <th>STATE</th>\n",
              "      <th>Counties/principal cities</th>\n",
              "      <th>Population</th>\n",
              "      <th>Violent\\rcrime</th>\n",
              "      <th>Murder and\\rnonnegligent\\rmanslaughter</th>\n",
              "      <th>Rape1</th>\n",
              "      <th>Robbery</th>\n",
              "      <th>Aggravated\\rassault</th>\n",
              "      <th>Property\\rcrime</th>\n",
              "      <th>Burglary</th>\n",
              "      <th>Larceny-\\rtheft</th>\n",
              "      <th>Motor\\rvehicle\\rtheft</th>\n",
              "      <th>Violent Crime Per 100</th>\n",
              "    </tr>\n",
              "  </thead>\n",
              "  <tbody>\n",
              "    <tr>\n",
              "      <th>117</th>\n",
              "      <td>Largo_FL</td>\n",
              "      <td>8.840541</td>\n",
              "      <td>FL</td>\n",
              "      <td>Largo</td>\n",
              "      <td>85568.0</td>\n",
              "      <td>322.0</td>\n",
              "      <td>3</td>\n",
              "      <td>66</td>\n",
              "      <td>72</td>\n",
              "      <td>181</td>\n",
              "      <td>2,593</td>\n",
              "      <td>282</td>\n",
              "      <td>2,126</td>\n",
              "      <td>185</td>\n",
              "      <td>0.376309</td>\n",
              "    </tr>\n",
              "    <tr>\n",
              "      <th>216</th>\n",
              "      <td>Scottsdale_AZ</td>\n",
              "      <td>8.690476</td>\n",
              "      <td>AZ</td>\n",
              "      <td>Scottsdale</td>\n",
              "      <td>254961.0</td>\n",
              "      <td>422.0</td>\n",
              "      <td>7</td>\n",
              "      <td>122</td>\n",
              "      <td>87</td>\n",
              "      <td>206</td>\n",
              "      <td>5,683</td>\n",
              "      <td>711</td>\n",
              "      <td>4,700</td>\n",
              "      <td>272</td>\n",
              "      <td>0.165516</td>\n",
              "    </tr>\n",
              "    <tr>\n",
              "      <th>34</th>\n",
              "      <td>Boynton Beach_FL</td>\n",
              "      <td>8.665385</td>\n",
              "      <td>FL</td>\n",
              "      <td>Boynton Beach</td>\n",
              "      <td>79142.0</td>\n",
              "      <td>477.0</td>\n",
              "      <td>4</td>\n",
              "      <td>21</td>\n",
              "      <td>134</td>\n",
              "      <td>318</td>\n",
              "      <td>2,964</td>\n",
              "      <td>256</td>\n",
              "      <td>2,423</td>\n",
              "      <td>285</td>\n",
              "      <td>0.602714</td>\n",
              "    </tr>\n",
              "    <tr>\n",
              "      <th>123</th>\n",
              "      <td>Livonia_MI</td>\n",
              "      <td>8.224242</td>\n",
              "      <td>MI</td>\n",
              "      <td>Livonia</td>\n",
              "      <td>93740.0</td>\n",
              "      <td>138.0</td>\n",
              "      <td>0</td>\n",
              "      <td>34</td>\n",
              "      <td>19</td>\n",
              "      <td>85</td>\n",
              "      <td>1,313</td>\n",
              "      <td>111</td>\n",
              "      <td>1,092</td>\n",
              "      <td>110</td>\n",
              "      <td>0.147216</td>\n",
              "    </tr>\n",
              "    <tr>\n",
              "      <th>153</th>\n",
              "      <td>Newport Beach_CA</td>\n",
              "      <td>8.213043</td>\n",
              "      <td>CA</td>\n",
              "      <td>Newport Beach</td>\n",
              "      <td>86276.0</td>\n",
              "      <td>124.0</td>\n",
              "      <td>1</td>\n",
              "      <td>31</td>\n",
              "      <td>29</td>\n",
              "      <td>63</td>\n",
              "      <td>2,073</td>\n",
              "      <td>397</td>\n",
              "      <td>1,513</td>\n",
              "      <td>163</td>\n",
              "      <td>0.143725</td>\n",
              "    </tr>\n",
              "    <tr>\n",
              "      <th>30</th>\n",
              "      <td>Boca Raton_FL</td>\n",
              "      <td>8.137931</td>\n",
              "      <td>FL</td>\n",
              "      <td>Boca Raton</td>\n",
              "      <td>100162.0</td>\n",
              "      <td>205.0</td>\n",
              "      <td>2</td>\n",
              "      <td>28</td>\n",
              "      <td>80</td>\n",
              "      <td>95</td>\n",
              "      <td>2,361</td>\n",
              "      <td>277</td>\n",
              "      <td>1,894</td>\n",
              "      <td>190</td>\n",
              "      <td>0.204668</td>\n",
              "    </tr>\n",
              "    <tr>\n",
              "      <th>56</th>\n",
              "      <td>Clearwater_FL</td>\n",
              "      <td>8.123684</td>\n",
              "      <td>FL</td>\n",
              "      <td>Clearwater</td>\n",
              "      <td>116504.0</td>\n",
              "      <td>510.0</td>\n",
              "      <td>6</td>\n",
              "      <td>95</td>\n",
              "      <td>105</td>\n",
              "      <td>304</td>\n",
              "      <td>3,087</td>\n",
              "      <td>345</td>\n",
              "      <td>2,564</td>\n",
              "      <td>178</td>\n",
              "      <td>0.437753</td>\n",
              "    </tr>\n",
              "    <tr>\n",
              "      <th>258</th>\n",
              "      <td>Warwick_RI</td>\n",
              "      <td>8.004348</td>\n",
              "      <td>RI</td>\n",
              "      <td>Warwick</td>\n",
              "      <td>80380.0</td>\n",
              "      <td>73.0</td>\n",
              "      <td>1</td>\n",
              "      <td>27</td>\n",
              "      <td>9</td>\n",
              "      <td>36</td>\n",
              "      <td>1,372</td>\n",
              "      <td>136</td>\n",
              "      <td>1,178</td>\n",
              "      <td>58</td>\n",
              "      <td>0.090819</td>\n",
              "    </tr>\n",
              "    <tr>\n",
              "      <th>81</th>\n",
              "      <td>Farmington Hills_MI</td>\n",
              "      <td>7.933333</td>\n",
              "      <td>MI</td>\n",
              "      <td>Farmington Hills</td>\n",
              "      <td>81239.0</td>\n",
              "      <td>69.0</td>\n",
              "      <td>1</td>\n",
              "      <td>16</td>\n",
              "      <td>9</td>\n",
              "      <td>43</td>\n",
              "      <td>681</td>\n",
              "      <td>85</td>\n",
              "      <td>554</td>\n",
              "      <td>42</td>\n",
              "      <td>0.084935</td>\n",
              "    </tr>\n",
              "    <tr>\n",
              "      <th>43</th>\n",
              "      <td>Carlsbad_CA</td>\n",
              "      <td>7.781818</td>\n",
              "      <td>CA</td>\n",
              "      <td>Carlsbad</td>\n",
              "      <td>116739.0</td>\n",
              "      <td>243.0</td>\n",
              "      <td>1</td>\n",
              "      <td>39</td>\n",
              "      <td>52</td>\n",
              "      <td>151</td>\n",
              "      <td>2,100</td>\n",
              "      <td>299</td>\n",
              "      <td>1,649</td>\n",
              "      <td>152</td>\n",
              "      <td>0.208157</td>\n",
              "    </tr>\n",
              "  </tbody>\n",
              "</table>\n",
              "</div>"
            ],
            "text/plain": [
              "             CityName_ST  ...  Violent Crime Per 100\n",
              "117             Largo_FL  ...               0.376309\n",
              "216        Scottsdale_AZ  ...               0.165516\n",
              "34      Boynton Beach_FL  ...               0.602714\n",
              "123           Livonia_MI  ...               0.147216\n",
              "153     Newport Beach_CA  ...               0.143725\n",
              "30         Boca Raton_FL  ...               0.204668\n",
              "56         Clearwater_FL  ...               0.437753\n",
              "258           Warwick_RI  ...               0.090819\n",
              "81   Farmington Hills_MI  ...               0.084935\n",
              "43           Carlsbad_CA  ...               0.208157\n",
              "\n",
              "[10 rows x 15 columns]"
            ]
          },
          "metadata": {
            "tags": []
          },
          "execution_count": 192
        }
      ]
    },
    {
      "cell_type": "markdown",
      "metadata": {
        "id": "bo2Bcp3GnPsE"
      },
      "source": [
        "## Diabetes vs. Violent Crime"
      ]
    },
    {
      "cell_type": "code",
      "metadata": {
        "colab": {
          "base_uri": "https://localhost:8080/",
          "height": 204
        },
        "id": "MrmCdHlkt4O6",
        "outputId": "1e805870-658d-452b-9e21-3a9204753081"
      },
      "source": [
        "diabetes = pd.read_csv('500_Cities__Diagnosed_diabetes_among_adults_aged___18_years.csv')\n",
        "diabetes = diabetes.drop(['Unnamed: 7', 'Unnamed: 8','Unnamed: 9'], 1)\n",
        "diabetes.head()"
      ],
      "execution_count": null,
      "outputs": [
        {
          "output_type": "execute_result",
          "data": {
            "text/html": [
              "<div>\n",
              "<style scoped>\n",
              "    .dataframe tbody tr th:only-of-type {\n",
              "        vertical-align: middle;\n",
              "    }\n",
              "\n",
              "    .dataframe tbody tr th {\n",
              "        vertical-align: top;\n",
              "    }\n",
              "\n",
              "    .dataframe thead th {\n",
              "        text-align: right;\n",
              "    }\n",
              "</style>\n",
              "<table border=\"1\" class=\"dataframe\">\n",
              "  <thead>\n",
              "    <tr style=\"text-align: right;\">\n",
              "      <th></th>\n",
              "      <th>Year</th>\n",
              "      <th>StateAbbr</th>\n",
              "      <th>StateDesc</th>\n",
              "      <th>CityName</th>\n",
              "      <th>Data_Value</th>\n",
              "      <th>Low_Confidence_Limit</th>\n",
              "      <th>High_Confidence_Limit</th>\n",
              "    </tr>\n",
              "  </thead>\n",
              "  <tbody>\n",
              "    <tr>\n",
              "      <th>0</th>\n",
              "      <td>2017</td>\n",
              "      <td>IL</td>\n",
              "      <td>Illinois</td>\n",
              "      <td>Chicago</td>\n",
              "      <td>9.7</td>\n",
              "      <td>9.0</td>\n",
              "      <td>10.3</td>\n",
              "    </tr>\n",
              "    <tr>\n",
              "      <th>1</th>\n",
              "      <td>2017</td>\n",
              "      <td>IL</td>\n",
              "      <td>Illinois</td>\n",
              "      <td>Naperville</td>\n",
              "      <td>7.0</td>\n",
              "      <td>6.4</td>\n",
              "      <td>7.6</td>\n",
              "    </tr>\n",
              "    <tr>\n",
              "      <th>2</th>\n",
              "      <td>2017</td>\n",
              "      <td>IL</td>\n",
              "      <td>Illinois</td>\n",
              "      <td>Chicago</td>\n",
              "      <td>19.0</td>\n",
              "      <td>17.8</td>\n",
              "      <td>20.2</td>\n",
              "    </tr>\n",
              "    <tr>\n",
              "      <th>3</th>\n",
              "      <td>2017</td>\n",
              "      <td>IL</td>\n",
              "      <td>Illinois</td>\n",
              "      <td>Chicago</td>\n",
              "      <td>15.9</td>\n",
              "      <td>14.4</td>\n",
              "      <td>17.2</td>\n",
              "    </tr>\n",
              "    <tr>\n",
              "      <th>4</th>\n",
              "      <td>2017</td>\n",
              "      <td>IL</td>\n",
              "      <td>Illinois</td>\n",
              "      <td>Chicago</td>\n",
              "      <td>10.9</td>\n",
              "      <td>10.2</td>\n",
              "      <td>11.6</td>\n",
              "    </tr>\n",
              "  </tbody>\n",
              "</table>\n",
              "</div>"
            ],
            "text/plain": [
              "   Year StateAbbr  ... Low_Confidence_Limit High_Confidence_Limit\n",
              "0  2017        IL  ...                  9.0                  10.3\n",
              "1  2017        IL  ...                  6.4                   7.6\n",
              "2  2017        IL  ...                 17.8                  20.2\n",
              "3  2017        IL  ...                 14.4                  17.2\n",
              "4  2017        IL  ...                 10.2                  11.6\n",
              "\n",
              "[5 rows x 7 columns]"
            ]
          },
          "metadata": {
            "tags": []
          },
          "execution_count": 165
        }
      ]
    },
    {
      "cell_type": "code",
      "metadata": {
        "colab": {
          "base_uri": "https://localhost:8080/",
          "height": 204
        },
        "id": "8k8YA6uOnpty",
        "outputId": "137dc7ed-5dd5-4e9a-d3b9-207c748a6db0"
      },
      "source": [
        "diabetes= diabetes.dropna(how='any',axis=0)\n",
        "diabetes['CityName_ST'] = diabetes['CityName'] + '_' + diabetes['StateAbbr']\n",
        "diabetes_gr = diabetes.groupby(['CityName_ST'])\n",
        "diabetes_average = diabetes_gr['Data_Value'].mean().to_frame(name='% of Disease Prevalence').reset_index()\n",
        "diabetes_average.head()"
      ],
      "execution_count": null,
      "outputs": [
        {
          "output_type": "execute_result",
          "data": {
            "text/html": [
              "<div>\n",
              "<style scoped>\n",
              "    .dataframe tbody tr th:only-of-type {\n",
              "        vertical-align: middle;\n",
              "    }\n",
              "\n",
              "    .dataframe tbody tr th {\n",
              "        vertical-align: top;\n",
              "    }\n",
              "\n",
              "    .dataframe thead th {\n",
              "        text-align: right;\n",
              "    }\n",
              "</style>\n",
              "<table border=\"1\" class=\"dataframe\">\n",
              "  <thead>\n",
              "    <tr style=\"text-align: right;\">\n",
              "      <th></th>\n",
              "      <th>CityName_ST</th>\n",
              "      <th>% of Disease Prevalence</th>\n",
              "    </tr>\n",
              "  </thead>\n",
              "  <tbody>\n",
              "    <tr>\n",
              "      <th>0</th>\n",
              "      <td>Abilene_TX</td>\n",
              "      <td>11.348718</td>\n",
              "    </tr>\n",
              "    <tr>\n",
              "      <th>1</th>\n",
              "      <td>Akron_OH</td>\n",
              "      <td>14.488235</td>\n",
              "    </tr>\n",
              "    <tr>\n",
              "      <th>2</th>\n",
              "      <td>Alameda_CA</td>\n",
              "      <td>8.233333</td>\n",
              "    </tr>\n",
              "    <tr>\n",
              "      <th>3</th>\n",
              "      <td>Albany_GA</td>\n",
              "      <td>15.259259</td>\n",
              "    </tr>\n",
              "    <tr>\n",
              "      <th>4</th>\n",
              "      <td>Albany_NY</td>\n",
              "      <td>10.167857</td>\n",
              "    </tr>\n",
              "  </tbody>\n",
              "</table>\n",
              "</div>"
            ],
            "text/plain": [
              "  CityName_ST  % of Disease Prevalence\n",
              "0  Abilene_TX                11.348718\n",
              "1    Akron_OH                14.488235\n",
              "2  Alameda_CA                 8.233333\n",
              "3   Albany_GA                15.259259\n",
              "4   Albany_NY                10.167857"
            ]
          },
          "metadata": {
            "tags": []
          },
          "execution_count": 166
        }
      ]
    },
    {
      "cell_type": "code",
      "metadata": {
        "colab": {
          "base_uri": "https://localhost:8080/",
          "height": 258
        },
        "id": "g13GQTIMnzKl",
        "outputId": "8c386c00-6ce4-4aff-dd5e-6ab18d2795e7"
      },
      "source": [
        "diabetes_crime = pd.merge(diabetes_average, city_crime, how='inner', on ='CityName_ST')\n",
        "diabetes_crime.head()"
      ],
      "execution_count": null,
      "outputs": [
        {
          "output_type": "execute_result",
          "data": {
            "text/html": [
              "<div>\n",
              "<style scoped>\n",
              "    .dataframe tbody tr th:only-of-type {\n",
              "        vertical-align: middle;\n",
              "    }\n",
              "\n",
              "    .dataframe tbody tr th {\n",
              "        vertical-align: top;\n",
              "    }\n",
              "\n",
              "    .dataframe thead th {\n",
              "        text-align: right;\n",
              "    }\n",
              "</style>\n",
              "<table border=\"1\" class=\"dataframe\">\n",
              "  <thead>\n",
              "    <tr style=\"text-align: right;\">\n",
              "      <th></th>\n",
              "      <th>CityName_ST</th>\n",
              "      <th>% of Disease Prevalence</th>\n",
              "      <th>STATE</th>\n",
              "      <th>Counties/principal cities</th>\n",
              "      <th>Population</th>\n",
              "      <th>Violent\\rcrime</th>\n",
              "      <th>Murder and\\rnonnegligent\\rmanslaughter</th>\n",
              "      <th>Rape1</th>\n",
              "      <th>Robbery</th>\n",
              "      <th>Aggravated\\rassault</th>\n",
              "      <th>Property\\rcrime</th>\n",
              "      <th>Burglary</th>\n",
              "      <th>Larceny-\\rtheft</th>\n",
              "      <th>Motor\\rvehicle\\rtheft</th>\n",
              "      <th>Violent Crime Per 100</th>\n",
              "    </tr>\n",
              "  </thead>\n",
              "  <tbody>\n",
              "    <tr>\n",
              "      <th>0</th>\n",
              "      <td>Abilene_TX</td>\n",
              "      <td>11.348718</td>\n",
              "      <td>TX</td>\n",
              "      <td>Abilene</td>\n",
              "      <td>122480.0</td>\n",
              "      <td>591.0</td>\n",
              "      <td>8</td>\n",
              "      <td>97</td>\n",
              "      <td>104</td>\n",
              "      <td>382</td>\n",
              "      <td>3,528</td>\n",
              "      <td>734</td>\n",
              "      <td>2,561</td>\n",
              "      <td>233</td>\n",
              "      <td>0.482528</td>\n",
              "    </tr>\n",
              "    <tr>\n",
              "      <th>1</th>\n",
              "      <td>Akron_OH</td>\n",
              "      <td>14.488235</td>\n",
              "      <td>OH</td>\n",
              "      <td>Akron</td>\n",
              "      <td>197690.0</td>\n",
              "      <td>1704.0</td>\n",
              "      <td>38</td>\n",
              "      <td>221</td>\n",
              "      <td>387</td>\n",
              "      <td>1,058</td>\n",
              "      <td>7,159</td>\n",
              "      <td>1,740</td>\n",
              "      <td>4,701</td>\n",
              "      <td>718</td>\n",
              "      <td>0.861956</td>\n",
              "    </tr>\n",
              "    <tr>\n",
              "      <th>2</th>\n",
              "      <td>Albany_GA</td>\n",
              "      <td>15.259259</td>\n",
              "      <td>GA</td>\n",
              "      <td>Albany</td>\n",
              "      <td>72594.0</td>\n",
              "      <td>809.0</td>\n",
              "      <td>15</td>\n",
              "      <td>28</td>\n",
              "      <td>113</td>\n",
              "      <td>653</td>\n",
              "      <td>3,704</td>\n",
              "      <td>760</td>\n",
              "      <td>2,666</td>\n",
              "      <td>278</td>\n",
              "      <td>1.114417</td>\n",
              "    </tr>\n",
              "    <tr>\n",
              "      <th>3</th>\n",
              "      <td>Albany_NY</td>\n",
              "      <td>10.167857</td>\n",
              "      <td>NY</td>\n",
              "      <td>Albany</td>\n",
              "      <td>98322.0</td>\n",
              "      <td>823.0</td>\n",
              "      <td>12</td>\n",
              "      <td>52</td>\n",
              "      <td>209</td>\n",
              "      <td>550</td>\n",
              "      <td>3,147</td>\n",
              "      <td>432</td>\n",
              "      <td>2,585</td>\n",
              "      <td>130</td>\n",
              "      <td>0.837046</td>\n",
              "    </tr>\n",
              "    <tr>\n",
              "      <th>4</th>\n",
              "      <td>Albuquerque_NM</td>\n",
              "      <td>8.719424</td>\n",
              "      <td>NM</td>\n",
              "      <td>Albuquerque</td>\n",
              "      <td>560235.0</td>\n",
              "      <td>7646.0</td>\n",
              "      <td>69</td>\n",
              "      <td>479</td>\n",
              "      <td>1,979</td>\n",
              "      <td>5,119</td>\n",
              "      <td>34,619</td>\n",
              "      <td>6,378</td>\n",
              "      <td>21,625</td>\n",
              "      <td>6,616</td>\n",
              "      <td>1.364784</td>\n",
              "    </tr>\n",
              "  </tbody>\n",
              "</table>\n",
              "</div>"
            ],
            "text/plain": [
              "      CityName_ST  ...  Violent Crime Per 100\n",
              "0      Abilene_TX  ...               0.482528\n",
              "1        Akron_OH  ...               0.861956\n",
              "2       Albany_GA  ...               1.114417\n",
              "3       Albany_NY  ...               0.837046\n",
              "4  Albuquerque_NM  ...               1.364784\n",
              "\n",
              "[5 rows x 15 columns]"
            ]
          },
          "metadata": {
            "tags": []
          },
          "execution_count": 167
        }
      ]
    },
    {
      "cell_type": "code",
      "metadata": {
        "colab": {
          "base_uri": "https://localhost:8080/",
          "height": 293
        },
        "id": "BRMfCrw4n7nZ",
        "outputId": "267705cc-a558-4f27-9e5a-91298c5dc2aa"
      },
      "source": [
        "import matplotlib.pyplot as plt\n",
        "plt.style.use('seaborn-darkgrid')\n",
        "plt.title(\"Diabetes vs. Violent Crime\", fontsize=15, fontweight=5, color='orange')\n",
        "\n",
        "import seaborn as sns\n",
        "\n",
        "ax1 = sns.regplot(x = diabetes_crime['% of Disease Prevalence'], y = diabetes_crime['Violent Crime Per 100'], data = diabetes_crime, ci=None)"
      ],
      "execution_count": null,
      "outputs": [
        {
          "output_type": "display_data",
          "data": {
            "image/png": "[encoded data removed]",
            "text/plain": [
              "<Figure size 432x288 with 1 Axes>"
            ]
          },
          "metadata": {
            "tags": []
          }
        }
      ]
    },
    {
      "cell_type": "code",
      "metadata": {
        "colab": {
          "base_uri": "https://localhost:8080/"
        },
        "id": "RZTDfNEpoNqj",
        "outputId": "6bab21b9-d356-48fd-96fa-99a3b049fc1d"
      },
      "source": [
        "corr, _ = pearsonr(diabetes_crime['Violent Crime Per 100'], diabetes_crime['% of Disease Prevalence'])\n",
        "print('Pearsons correlation: %.3f' % corr)"
      ],
      "execution_count": null,
      "outputs": [
        {
          "output_type": "stream",
          "text": [
            "Pearsons correlation: 0.529\n"
          ],
          "name": "stdout"
        }
      ]
    },
    {
      "cell_type": "code",
      "metadata": {
        "colab": {
          "base_uri": "https://localhost:8080/",
          "height": 413
        },
        "id": "gEzNhgWO4gY7",
        "outputId": "88d89c36-a4d3-443f-fdcc-f0cde2717770"
      },
      "source": [
        "diabetes_crime.nlargest(10, '% of Disease Prevalence')"
      ],
      "execution_count": null,
      "outputs": [
        {
          "output_type": "execute_result",
          "data": {
            "text/html": [
              "<div>\n",
              "<style scoped>\n",
              "    .dataframe tbody tr th:only-of-type {\n",
              "        vertical-align: middle;\n",
              "    }\n",
              "\n",
              "    .dataframe tbody tr th {\n",
              "        vertical-align: top;\n",
              "    }\n",
              "\n",
              "    .dataframe thead th {\n",
              "        text-align: right;\n",
              "    }\n",
              "</style>\n",
              "<table border=\"1\" class=\"dataframe\">\n",
              "  <thead>\n",
              "    <tr style=\"text-align: right;\">\n",
              "      <th></th>\n",
              "      <th>CityName_ST</th>\n",
              "      <th>% of Disease Prevalence</th>\n",
              "      <th>STATE</th>\n",
              "      <th>Counties/principal cities</th>\n",
              "      <th>Population</th>\n",
              "      <th>Violent\\rcrime</th>\n",
              "      <th>Murder and\\rnonnegligent\\rmanslaughter</th>\n",
              "      <th>Rape1</th>\n",
              "      <th>Robbery</th>\n",
              "      <th>Aggravated\\rassault</th>\n",
              "      <th>Property\\rcrime</th>\n",
              "      <th>Burglary</th>\n",
              "      <th>Larceny-\\rtheft</th>\n",
              "      <th>Motor\\rvehicle\\rtheft</th>\n",
              "      <th>Violent Crime Per 100</th>\n",
              "    </tr>\n",
              "  </thead>\n",
              "  <tbody>\n",
              "    <tr>\n",
              "      <th>72</th>\n",
              "      <td>Detroit_MI</td>\n",
              "      <td>18.525850</td>\n",
              "      <td>MI</td>\n",
              "      <td>Detroit</td>\n",
              "      <td>671275.0</td>\n",
              "      <td>13478.0</td>\n",
              "      <td>261</td>\n",
              "      <td>988</td>\n",
              "      <td>2,309</td>\n",
              "      <td>9,920</td>\n",
              "      <td>28,897</td>\n",
              "      <td>7,440</td>\n",
              "      <td>15,003</td>\n",
              "      <td>6,454</td>\n",
              "      <td>2.007821</td>\n",
              "    </tr>\n",
              "    <tr>\n",
              "      <th>83</th>\n",
              "      <td>Flint_MI</td>\n",
              "      <td>17.775610</td>\n",
              "      <td>MI</td>\n",
              "      <td>Flint</td>\n",
              "      <td>95677.0</td>\n",
              "      <td>1739.0</td>\n",
              "      <td>32</td>\n",
              "      <td>130</td>\n",
              "      <td>189</td>\n",
              "      <td>1,388</td>\n",
              "      <td>2,584</td>\n",
              "      <td>796</td>\n",
              "      <td>1,488</td>\n",
              "      <td>300</td>\n",
              "      <td>1.817574</td>\n",
              "    </tr>\n",
              "    <tr>\n",
              "      <th>67</th>\n",
              "      <td>Dayton_OH</td>\n",
              "      <td>16.791525</td>\n",
              "      <td>OH</td>\n",
              "      <td>Dayton</td>\n",
              "      <td>140094.0</td>\n",
              "      <td>1291.0</td>\n",
              "      <td>37</td>\n",
              "      <td>167</td>\n",
              "      <td>403</td>\n",
              "      <td>684</td>\n",
              "      <td>6,323</td>\n",
              "      <td>1,697</td>\n",
              "      <td>3,831</td>\n",
              "      <td>795</td>\n",
              "      <td>0.921524</td>\n",
              "    </tr>\n",
              "    <tr>\n",
              "      <th>116</th>\n",
              "      <td>Laredo_TX</td>\n",
              "      <td>16.618644</td>\n",
              "      <td>TX</td>\n",
              "      <td>Laredo</td>\n",
              "      <td>264214.0</td>\n",
              "      <td>890.0</td>\n",
              "      <td>10</td>\n",
              "      <td>145</td>\n",
              "      <td>141</td>\n",
              "      <td>594</td>\n",
              "      <td>6,367</td>\n",
              "      <td>692</td>\n",
              "      <td>5,506</td>\n",
              "      <td>169</td>\n",
              "      <td>0.336848</td>\n",
              "    </tr>\n",
              "    <tr>\n",
              "      <th>131</th>\n",
              "      <td>McAllen_TX</td>\n",
              "      <td>16.170370</td>\n",
              "      <td>TX</td>\n",
              "      <td>McAllen</td>\n",
              "      <td>144363.0</td>\n",
              "      <td>122.0</td>\n",
              "      <td>0</td>\n",
              "      <td>39</td>\n",
              "      <td>26</td>\n",
              "      <td>57</td>\n",
              "      <td>3,856</td>\n",
              "      <td>203</td>\n",
              "      <td>3,598</td>\n",
              "      <td>55</td>\n",
              "      <td>0.084509</td>\n",
              "    </tr>\n",
              "    <tr>\n",
              "      <th>219</th>\n",
              "      <td>Shreveport_LA</td>\n",
              "      <td>15.467213</td>\n",
              "      <td>LA</td>\n",
              "      <td>Shreveport</td>\n",
              "      <td>190808.0</td>\n",
              "      <td>1588.0</td>\n",
              "      <td>49</td>\n",
              "      <td>123</td>\n",
              "      <td>335</td>\n",
              "      <td>1,081</td>\n",
              "      <td>9,884</td>\n",
              "      <td>1,832</td>\n",
              "      <td>7,241</td>\n",
              "      <td>811</td>\n",
              "      <td>0.832250</td>\n",
              "    </tr>\n",
              "    <tr>\n",
              "      <th>74</th>\n",
              "      <td>El Paso_TX</td>\n",
              "      <td>15.447368</td>\n",
              "      <td>TX</td>\n",
              "      <td>El Paso</td>\n",
              "      <td>688442.0</td>\n",
              "      <td>2554.0</td>\n",
              "      <td>23</td>\n",
              "      <td>405</td>\n",
              "      <td>376</td>\n",
              "      <td>1,750</td>\n",
              "      <td>10,365</td>\n",
              "      <td>1,107</td>\n",
              "      <td>8,441</td>\n",
              "      <td>817</td>\n",
              "      <td>0.370983</td>\n",
              "    </tr>\n",
              "    <tr>\n",
              "      <th>142</th>\n",
              "      <td>Mission_TX</td>\n",
              "      <td>15.358824</td>\n",
              "      <td>TX</td>\n",
              "      <td>Mission</td>\n",
              "      <td>85368.0</td>\n",
              "      <td>94.0</td>\n",
              "      <td>0</td>\n",
              "      <td>35</td>\n",
              "      <td>27</td>\n",
              "      <td>32</td>\n",
              "      <td>1,594</td>\n",
              "      <td>150</td>\n",
              "      <td>1,380</td>\n",
              "      <td>64</td>\n",
              "      <td>0.110112</td>\n",
              "    </tr>\n",
              "    <tr>\n",
              "      <th>2</th>\n",
              "      <td>Albany_GA</td>\n",
              "      <td>15.259259</td>\n",
              "      <td>GA</td>\n",
              "      <td>Albany</td>\n",
              "      <td>72594.0</td>\n",
              "      <td>809.0</td>\n",
              "      <td>15</td>\n",
              "      <td>28</td>\n",
              "      <td>113</td>\n",
              "      <td>653</td>\n",
              "      <td>3,704</td>\n",
              "      <td>760</td>\n",
              "      <td>2,666</td>\n",
              "      <td>278</td>\n",
              "      <td>1.114417</td>\n",
              "    </tr>\n",
              "    <tr>\n",
              "      <th>244</th>\n",
              "      <td>Toledo_OH</td>\n",
              "      <td>15.024752</td>\n",
              "      <td>OH</td>\n",
              "      <td>Toledo</td>\n",
              "      <td>275023.0</td>\n",
              "      <td>2333.0</td>\n",
              "      <td>37</td>\n",
              "      <td>239</td>\n",
              "      <td>477</td>\n",
              "      <td>1,580</td>\n",
              "      <td>10,222</td>\n",
              "      <td>2,802</td>\n",
              "      <td>6,712</td>\n",
              "      <td>708</td>\n",
              "      <td>0.848293</td>\n",
              "    </tr>\n",
              "  </tbody>\n",
              "</table>\n",
              "</div>"
            ],
            "text/plain": [
              "       CityName_ST  ...  Violent Crime Per 100\n",
              "72      Detroit_MI  ...               2.007821\n",
              "83        Flint_MI  ...               1.817574\n",
              "67       Dayton_OH  ...               0.921524\n",
              "116      Laredo_TX  ...               0.336848\n",
              "131     McAllen_TX  ...               0.084509\n",
              "219  Shreveport_LA  ...               0.832250\n",
              "74      El Paso_TX  ...               0.370983\n",
              "142     Mission_TX  ...               0.110112\n",
              "2        Albany_GA  ...               1.114417\n",
              "244      Toledo_OH  ...               0.848293\n",
              "\n",
              "[10 rows x 15 columns]"
            ]
          },
          "metadata": {
            "tags": []
          },
          "execution_count": 191
        }
      ]
    },
    {
      "cell_type": "markdown",
      "metadata": {
        "id": "dQA5_bT3odvP"
      },
      "source": [
        "## Chronic Kidney Disease vs. Violent Crime"
      ]
    },
    {
      "cell_type": "code",
      "metadata": {
        "colab": {
          "base_uri": "https://localhost:8080/",
          "height": 734
        },
        "id": "7vagECUvo3f3",
        "outputId": "e9794a6d-d2f6-4676-d3d6-beea39bcbade"
      },
      "source": [
        "kidney = pd.read_csv('500_Cities__Chronic_kidney_disease_among_adults_aged___18_years.csv')\n",
        "kidney = kidney.drop(['Unnamed: 15', 'Unnamed: 16','Unnamed: 17'], 1)\n",
        "kidney.head()"
      ],
      "execution_count": null,
      "outputs": [
        {
          "output_type": "execute_result",
          "data": {
            "text/html": [
              "<div>\n",
              "<style scoped>\n",
              "    .dataframe tbody tr th:only-of-type {\n",
              "        vertical-align: middle;\n",
              "    }\n",
              "\n",
              "    .dataframe tbody tr th {\n",
              "        vertical-align: top;\n",
              "    }\n",
              "\n",
              "    .dataframe thead th {\n",
              "        text-align: right;\n",
              "    }\n",
              "</style>\n",
              "<table border=\"1\" class=\"dataframe\">\n",
              "  <thead>\n",
              "    <tr style=\"text-align: right;\">\n",
              "      <th></th>\n",
              "      <th>Year</th>\n",
              "      <th>StateAbbr</th>\n",
              "      <th>StateDesc</th>\n",
              "      <th>CityName</th>\n",
              "      <th>GeographicLevel</th>\n",
              "      <th>DataSource</th>\n",
              "      <th>Category</th>\n",
              "      <th>UniqueID</th>\n",
              "      <th>Measure</th>\n",
              "      <th>Data_Value_Unit</th>\n",
              "      <th>DataValueTypeID</th>\n",
              "      <th>Data_Value_Type</th>\n",
              "      <th>Data_Value</th>\n",
              "      <th>Low_Confidence_Limit</th>\n",
              "      <th>High_Confidence_Limit</th>\n",
              "    </tr>\n",
              "  </thead>\n",
              "  <tbody>\n",
              "    <tr>\n",
              "      <th>0</th>\n",
              "      <td>2017</td>\n",
              "      <td>GA</td>\n",
              "      <td>Georgia</td>\n",
              "      <td>Columbus</td>\n",
              "      <td>Census Tract</td>\n",
              "      <td>BRFSS</td>\n",
              "      <td>Health Outcomes</td>\n",
              "      <td>1319000-13215010502</td>\n",
              "      <td>Chronic kidney disease among adults aged &gt;=18 ...</td>\n",
              "      <td>%</td>\n",
              "      <td>CrdPrv</td>\n",
              "      <td>Crude prevalence</td>\n",
              "      <td>3.5</td>\n",
              "      <td>3.1</td>\n",
              "      <td>3.8</td>\n",
              "    </tr>\n",
              "    <tr>\n",
              "      <th>1</th>\n",
              "      <td>2017</td>\n",
              "      <td>HI</td>\n",
              "      <td>Hawaii</td>\n",
              "      <td>Honolulu</td>\n",
              "      <td>Census Tract</td>\n",
              "      <td>BRFSS</td>\n",
              "      <td>Health Outcomes</td>\n",
              "      <td>15003009400</td>\n",
              "      <td>Chronic kidney disease among adults aged &gt;=18 ...</td>\n",
              "      <td>%</td>\n",
              "      <td>CrdPrv</td>\n",
              "      <td>Crude prevalence</td>\n",
              "      <td>3.7</td>\n",
              "      <td>3.5</td>\n",
              "      <td>3.9</td>\n",
              "    </tr>\n",
              "    <tr>\n",
              "      <th>2</th>\n",
              "      <td>2017</td>\n",
              "      <td>HI</td>\n",
              "      <td>Hawaii</td>\n",
              "      <td>Honolulu</td>\n",
              "      <td>Census Tract</td>\n",
              "      <td>BRFSS</td>\n",
              "      <td>Health Outcomes</td>\n",
              "      <td>15003011300</td>\n",
              "      <td>Chronic kidney disease among adults aged &gt;=18 ...</td>\n",
              "      <td>%</td>\n",
              "      <td>CrdPrv</td>\n",
              "      <td>Crude prevalence</td>\n",
              "      <td>3.6</td>\n",
              "      <td>3.5</td>\n",
              "      <td>3.8</td>\n",
              "    </tr>\n",
              "    <tr>\n",
              "      <th>3</th>\n",
              "      <td>2017</td>\n",
              "      <td>HI</td>\n",
              "      <td>Hawaii</td>\n",
              "      <td>Honolulu</td>\n",
              "      <td>Census Tract</td>\n",
              "      <td>BRFSS</td>\n",
              "      <td>Health Outcomes</td>\n",
              "      <td>15003006302</td>\n",
              "      <td>Chronic kidney disease among adults aged &gt;=18 ...</td>\n",
              "      <td>%</td>\n",
              "      <td>CrdPrv</td>\n",
              "      <td>Crude prevalence</td>\n",
              "      <td>4.6</td>\n",
              "      <td>4.4</td>\n",
              "      <td>4.9</td>\n",
              "    </tr>\n",
              "    <tr>\n",
              "      <th>4</th>\n",
              "      <td>2017</td>\n",
              "      <td>HI</td>\n",
              "      <td>Hawaii</td>\n",
              "      <td>Honolulu</td>\n",
              "      <td>Census Tract</td>\n",
              "      <td>BRFSS</td>\n",
              "      <td>Health Outcomes</td>\n",
              "      <td>15003005800</td>\n",
              "      <td>Chronic kidney disease among adults aged &gt;=18 ...</td>\n",
              "      <td>%</td>\n",
              "      <td>CrdPrv</td>\n",
              "      <td>Crude prevalence</td>\n",
              "      <td>3.5</td>\n",
              "      <td>3.3</td>\n",
              "      <td>3.8</td>\n",
              "    </tr>\n",
              "  </tbody>\n",
              "</table>\n",
              "</div>"
            ],
            "text/plain": [
              "   Year StateAbbr  ... Low_Confidence_Limit High_Confidence_Limit\n",
              "0  2017        GA  ...                  3.1                   3.8\n",
              "1  2017        HI  ...                  3.5                   3.9\n",
              "2  2017        HI  ...                  3.5                   3.8\n",
              "3  2017        HI  ...                  4.4                   4.9\n",
              "4  2017        HI  ...                  3.3                   3.8\n",
              "\n",
              "[5 rows x 15 columns]"
            ]
          },
          "metadata": {
            "tags": []
          },
          "execution_count": 170
        }
      ]
    },
    {
      "cell_type": "code",
      "metadata": {
        "colab": {
          "base_uri": "https://localhost:8080/",
          "height": 204
        },
        "id": "rKWkHD8dpKdw",
        "outputId": "76ceee66-2fd9-421a-db91-827790f5ea6e"
      },
      "source": [
        "kidney= kidney.dropna(how='any',axis=0)\n",
        "kidney['CityName_ST'] = kidney['CityName'] + '_' + kidney['StateAbbr']\n",
        "kidney_gr = kidney.groupby(['CityName_ST'])\n",
        "kidney_average = kidney_gr['Data_Value'].mean().to_frame(name='% of Disease Prevalence').reset_index()\n",
        "kidney_average.head()"
      ],
      "execution_count": null,
      "outputs": [
        {
          "output_type": "execute_result",
          "data": {
            "text/html": [
              "<div>\n",
              "<style scoped>\n",
              "    .dataframe tbody tr th:only-of-type {\n",
              "        vertical-align: middle;\n",
              "    }\n",
              "\n",
              "    .dataframe tbody tr th {\n",
              "        vertical-align: top;\n",
              "    }\n",
              "\n",
              "    .dataframe thead th {\n",
              "        text-align: right;\n",
              "    }\n",
              "</style>\n",
              "<table border=\"1\" class=\"dataframe\">\n",
              "  <thead>\n",
              "    <tr style=\"text-align: right;\">\n",
              "      <th></th>\n",
              "      <th>CityName_ST</th>\n",
              "      <th>% of Disease Prevalence</th>\n",
              "    </tr>\n",
              "  </thead>\n",
              "  <tbody>\n",
              "    <tr>\n",
              "      <th>0</th>\n",
              "      <td>Abilene_TX</td>\n",
              "      <td>3.092308</td>\n",
              "    </tr>\n",
              "    <tr>\n",
              "      <th>1</th>\n",
              "      <td>Akron_OH</td>\n",
              "      <td>3.661765</td>\n",
              "    </tr>\n",
              "    <tr>\n",
              "      <th>2</th>\n",
              "      <td>Alameda_CA</td>\n",
              "      <td>2.616667</td>\n",
              "    </tr>\n",
              "    <tr>\n",
              "      <th>3</th>\n",
              "      <td>Albany_GA</td>\n",
              "      <td>4.074074</td>\n",
              "    </tr>\n",
              "    <tr>\n",
              "      <th>4</th>\n",
              "      <td>Albany_NY</td>\n",
              "      <td>2.971429</td>\n",
              "    </tr>\n",
              "  </tbody>\n",
              "</table>\n",
              "</div>"
            ],
            "text/plain": [
              "  CityName_ST  % of Disease Prevalence\n",
              "0  Abilene_TX                 3.092308\n",
              "1    Akron_OH                 3.661765\n",
              "2  Alameda_CA                 2.616667\n",
              "3   Albany_GA                 4.074074\n",
              "4   Albany_NY                 2.971429"
            ]
          },
          "metadata": {
            "tags": []
          },
          "execution_count": 171
        }
      ]
    },
    {
      "cell_type": "code",
      "metadata": {
        "colab": {
          "base_uri": "https://localhost:8080/",
          "height": 258
        },
        "id": "8dK6g9ympVkd",
        "outputId": "a28dabcd-0651-434f-f2d1-a52d024eabb0"
      },
      "source": [
        "kidney_crime = pd.merge(kidney_average, city_crime, how='inner', on = 'CityName_ST')\n",
        "kidney_crime.head()"
      ],
      "execution_count": null,
      "outputs": [
        {
          "output_type": "execute_result",
          "data": {
            "text/html": [
              "<div>\n",
              "<style scoped>\n",
              "    .dataframe tbody tr th:only-of-type {\n",
              "        vertical-align: middle;\n",
              "    }\n",
              "\n",
              "    .dataframe tbody tr th {\n",
              "        vertical-align: top;\n",
              "    }\n",
              "\n",
              "    .dataframe thead th {\n",
              "        text-align: right;\n",
              "    }\n",
              "</style>\n",
              "<table border=\"1\" class=\"dataframe\">\n",
              "  <thead>\n",
              "    <tr style=\"text-align: right;\">\n",
              "      <th></th>\n",
              "      <th>CityName_ST</th>\n",
              "      <th>% of Disease Prevalence</th>\n",
              "      <th>STATE</th>\n",
              "      <th>Counties/principal cities</th>\n",
              "      <th>Population</th>\n",
              "      <th>Violent\\rcrime</th>\n",
              "      <th>Murder and\\rnonnegligent\\rmanslaughter</th>\n",
              "      <th>Rape1</th>\n",
              "      <th>Robbery</th>\n",
              "      <th>Aggravated\\rassault</th>\n",
              "      <th>Property\\rcrime</th>\n",
              "      <th>Burglary</th>\n",
              "      <th>Larceny-\\rtheft</th>\n",
              "      <th>Motor\\rvehicle\\rtheft</th>\n",
              "      <th>Violent Crime Per 100</th>\n",
              "    </tr>\n",
              "  </thead>\n",
              "  <tbody>\n",
              "    <tr>\n",
              "      <th>0</th>\n",
              "      <td>Abilene_TX</td>\n",
              "      <td>3.092308</td>\n",
              "      <td>TX</td>\n",
              "      <td>Abilene</td>\n",
              "      <td>122480.0</td>\n",
              "      <td>591.0</td>\n",
              "      <td>8</td>\n",
              "      <td>97</td>\n",
              "      <td>104</td>\n",
              "      <td>382</td>\n",
              "      <td>3,528</td>\n",
              "      <td>734</td>\n",
              "      <td>2,561</td>\n",
              "      <td>233</td>\n",
              "      <td>0.482528</td>\n",
              "    </tr>\n",
              "    <tr>\n",
              "      <th>1</th>\n",
              "      <td>Akron_OH</td>\n",
              "      <td>3.661765</td>\n",
              "      <td>OH</td>\n",
              "      <td>Akron</td>\n",
              "      <td>197690.0</td>\n",
              "      <td>1704.0</td>\n",
              "      <td>38</td>\n",
              "      <td>221</td>\n",
              "      <td>387</td>\n",
              "      <td>1,058</td>\n",
              "      <td>7,159</td>\n",
              "      <td>1,740</td>\n",
              "      <td>4,701</td>\n",
              "      <td>718</td>\n",
              "      <td>0.861956</td>\n",
              "    </tr>\n",
              "    <tr>\n",
              "      <th>2</th>\n",
              "      <td>Albany_GA</td>\n",
              "      <td>4.074074</td>\n",
              "      <td>GA</td>\n",
              "      <td>Albany</td>\n",
              "      <td>72594.0</td>\n",
              "      <td>809.0</td>\n",
              "      <td>15</td>\n",
              "      <td>28</td>\n",
              "      <td>113</td>\n",
              "      <td>653</td>\n",
              "      <td>3,704</td>\n",
              "      <td>760</td>\n",
              "      <td>2,666</td>\n",
              "      <td>278</td>\n",
              "      <td>1.114417</td>\n",
              "    </tr>\n",
              "    <tr>\n",
              "      <th>3</th>\n",
              "      <td>Albany_NY</td>\n",
              "      <td>2.971429</td>\n",
              "      <td>NY</td>\n",
              "      <td>Albany</td>\n",
              "      <td>98322.0</td>\n",
              "      <td>823.0</td>\n",
              "      <td>12</td>\n",
              "      <td>52</td>\n",
              "      <td>209</td>\n",
              "      <td>550</td>\n",
              "      <td>3,147</td>\n",
              "      <td>432</td>\n",
              "      <td>2,585</td>\n",
              "      <td>130</td>\n",
              "      <td>0.837046</td>\n",
              "    </tr>\n",
              "    <tr>\n",
              "      <th>4</th>\n",
              "      <td>Albuquerque_NM</td>\n",
              "      <td>3.016547</td>\n",
              "      <td>NM</td>\n",
              "      <td>Albuquerque</td>\n",
              "      <td>560235.0</td>\n",
              "      <td>7646.0</td>\n",
              "      <td>69</td>\n",
              "      <td>479</td>\n",
              "      <td>1,979</td>\n",
              "      <td>5,119</td>\n",
              "      <td>34,619</td>\n",
              "      <td>6,378</td>\n",
              "      <td>21,625</td>\n",
              "      <td>6,616</td>\n",
              "      <td>1.364784</td>\n",
              "    </tr>\n",
              "  </tbody>\n",
              "</table>\n",
              "</div>"
            ],
            "text/plain": [
              "      CityName_ST  ...  Violent Crime Per 100\n",
              "0      Abilene_TX  ...               0.482528\n",
              "1        Akron_OH  ...               0.861956\n",
              "2       Albany_GA  ...               1.114417\n",
              "3       Albany_NY  ...               0.837046\n",
              "4  Albuquerque_NM  ...               1.364784\n",
              "\n",
              "[5 rows x 15 columns]"
            ]
          },
          "metadata": {
            "tags": []
          },
          "execution_count": 173
        }
      ]
    },
    {
      "cell_type": "code",
      "metadata": {
        "colab": {
          "base_uri": "https://localhost:8080/",
          "height": 293
        },
        "id": "m51IxcnUpevQ",
        "outputId": "874ac43e-bd02-4d6f-d476-b41a23d7c595"
      },
      "source": [
        "import matplotlib.pyplot as plt\n",
        "plt.style.use('seaborn-darkgrid')\n",
        "plt.title(\"Kidney Disease vs. Violent Crime\", fontsize=15, fontweight=5, color='orange')\n",
        "\n",
        "import seaborn as sns\n",
        "\n",
        "ax1 = sns.regplot(x = kidney_crime['% of Disease Prevalence'], y = kidney_crime['Violent Crime Per 100'], data = kidney_crime, ci=None)"
      ],
      "execution_count": null,
      "outputs": [
        {
          "output_type": "display_data",
          "data": {
            "image/png": "[encoded data removed]",
            "text/plain": [
              "<Figure size 432x288 with 1 Axes>"
            ]
          },
          "metadata": {
            "tags": []
          }
        }
      ]
    },
    {
      "cell_type": "code",
      "metadata": {
        "colab": {
          "base_uri": "https://localhost:8080/"
        },
        "id": "KpsTXfPkpp7w",
        "outputId": "53346ed8-f0d5-43df-a48e-b181743ca37d"
      },
      "source": [
        "corr, _ = pearsonr(kidney_crime['Violent Crime Per 100'], kidney_crime['% of Disease Prevalence'])\n",
        "print('Pearsons correlation: %.3f' % corr)"
      ],
      "execution_count": null,
      "outputs": [
        {
          "output_type": "stream",
          "text": [
            "Pearsons correlation: 0.575\n"
          ],
          "name": "stdout"
        }
      ]
    },
    {
      "cell_type": "code",
      "metadata": {
        "colab": {
          "base_uri": "https://localhost:8080/",
          "height": 430
        },
        "id": "UNM4-snR4PFT",
        "outputId": "14b1b66c-a151-430b-c93f-2e55649f5ef4"
      },
      "source": [
        "kidney_crime.nlargest(10, '% of Disease Prevalence')"
      ],
      "execution_count": null,
      "outputs": [
        {
          "output_type": "execute_result",
          "data": {
            "text/html": [
              "<div>\n",
              "<style scoped>\n",
              "    .dataframe tbody tr th:only-of-type {\n",
              "        vertical-align: middle;\n",
              "    }\n",
              "\n",
              "    .dataframe tbody tr th {\n",
              "        vertical-align: top;\n",
              "    }\n",
              "\n",
              "    .dataframe thead th {\n",
              "        text-align: right;\n",
              "    }\n",
              "</style>\n",
              "<table border=\"1\" class=\"dataframe\">\n",
              "  <thead>\n",
              "    <tr style=\"text-align: right;\">\n",
              "      <th></th>\n",
              "      <th>CityName_ST</th>\n",
              "      <th>% of Disease Prevalence</th>\n",
              "      <th>STATE</th>\n",
              "      <th>Counties/principal cities</th>\n",
              "      <th>Population</th>\n",
              "      <th>Violent\\rcrime</th>\n",
              "      <th>Murder and\\rnonnegligent\\rmanslaughter</th>\n",
              "      <th>Rape1</th>\n",
              "      <th>Robbery</th>\n",
              "      <th>Aggravated\\rassault</th>\n",
              "      <th>Property\\rcrime</th>\n",
              "      <th>Burglary</th>\n",
              "      <th>Larceny-\\rtheft</th>\n",
              "      <th>Motor\\rvehicle\\rtheft</th>\n",
              "      <th>Violent Crime Per 100</th>\n",
              "    </tr>\n",
              "  </thead>\n",
              "  <tbody>\n",
              "    <tr>\n",
              "      <th>72</th>\n",
              "      <td>Detroit_MI</td>\n",
              "      <td>4.875170</td>\n",
              "      <td>MI</td>\n",
              "      <td>Detroit</td>\n",
              "      <td>671275.0</td>\n",
              "      <td>13478.0</td>\n",
              "      <td>261</td>\n",
              "      <td>988</td>\n",
              "      <td>2,309</td>\n",
              "      <td>9,920</td>\n",
              "      <td>28,897</td>\n",
              "      <td>7,440</td>\n",
              "      <td>15,003</td>\n",
              "      <td>6,454</td>\n",
              "      <td>2.007821</td>\n",
              "    </tr>\n",
              "    <tr>\n",
              "      <th>83</th>\n",
              "      <td>Flint_MI</td>\n",
              "      <td>4.536585</td>\n",
              "      <td>MI</td>\n",
              "      <td>Flint</td>\n",
              "      <td>95677.0</td>\n",
              "      <td>1739.0</td>\n",
              "      <td>32</td>\n",
              "      <td>130</td>\n",
              "      <td>189</td>\n",
              "      <td>1,388</td>\n",
              "      <td>2,584</td>\n",
              "      <td>796</td>\n",
              "      <td>1,488</td>\n",
              "      <td>300</td>\n",
              "      <td>1.817574</td>\n",
              "    </tr>\n",
              "    <tr>\n",
              "      <th>67</th>\n",
              "      <td>Dayton_OH</td>\n",
              "      <td>4.232203</td>\n",
              "      <td>OH</td>\n",
              "      <td>Dayton</td>\n",
              "      <td>140094.0</td>\n",
              "      <td>1291.0</td>\n",
              "      <td>37</td>\n",
              "      <td>167</td>\n",
              "      <td>403</td>\n",
              "      <td>684</td>\n",
              "      <td>6,323</td>\n",
              "      <td>1,697</td>\n",
              "      <td>3,831</td>\n",
              "      <td>795</td>\n",
              "      <td>0.921524</td>\n",
              "    </tr>\n",
              "    <tr>\n",
              "      <th>219</th>\n",
              "      <td>Shreveport_LA</td>\n",
              "      <td>4.086885</td>\n",
              "      <td>LA</td>\n",
              "      <td>Shreveport</td>\n",
              "      <td>190808.0</td>\n",
              "      <td>1588.0</td>\n",
              "      <td>49</td>\n",
              "      <td>123</td>\n",
              "      <td>335</td>\n",
              "      <td>1,081</td>\n",
              "      <td>9,884</td>\n",
              "      <td>1,832</td>\n",
              "      <td>7,241</td>\n",
              "      <td>811</td>\n",
              "      <td>0.832250</td>\n",
              "    </tr>\n",
              "    <tr>\n",
              "      <th>2</th>\n",
              "      <td>Albany_GA</td>\n",
              "      <td>4.074074</td>\n",
              "      <td>GA</td>\n",
              "      <td>Albany</td>\n",
              "      <td>72594.0</td>\n",
              "      <td>809.0</td>\n",
              "      <td>15</td>\n",
              "      <td>28</td>\n",
              "      <td>113</td>\n",
              "      <td>653</td>\n",
              "      <td>3,704</td>\n",
              "      <td>760</td>\n",
              "      <td>2,666</td>\n",
              "      <td>278</td>\n",
              "      <td>1.114417</td>\n",
              "    </tr>\n",
              "    <tr>\n",
              "      <th>137</th>\n",
              "      <td>Miami_FL</td>\n",
              "      <td>3.989320</td>\n",
              "      <td>FL</td>\n",
              "      <td>Miami</td>\n",
              "      <td>473047.0</td>\n",
              "      <td>2978.0</td>\n",
              "      <td>46</td>\n",
              "      <td>131</td>\n",
              "      <td>828</td>\n",
              "      <td>1,973</td>\n",
              "      <td>16,837</td>\n",
              "      <td>2,057</td>\n",
              "      <td>13,136</td>\n",
              "      <td>1,644</td>\n",
              "      <td>0.629536</td>\n",
              "    </tr>\n",
              "    <tr>\n",
              "      <th>116</th>\n",
              "      <td>Laredo_TX</td>\n",
              "      <td>3.932203</td>\n",
              "      <td>TX</td>\n",
              "      <td>Laredo</td>\n",
              "      <td>264214.0</td>\n",
              "      <td>890.0</td>\n",
              "      <td>10</td>\n",
              "      <td>145</td>\n",
              "      <td>141</td>\n",
              "      <td>594</td>\n",
              "      <td>6,367</td>\n",
              "      <td>692</td>\n",
              "      <td>5,506</td>\n",
              "      <td>169</td>\n",
              "      <td>0.336848</td>\n",
              "    </tr>\n",
              "    <tr>\n",
              "      <th>113</th>\n",
              "      <td>Lake Charles_LA</td>\n",
              "      <td>3.875000</td>\n",
              "      <td>LA</td>\n",
              "      <td>Lake Charles</td>\n",
              "      <td>77852.0</td>\n",
              "      <td>575.0</td>\n",
              "      <td>6</td>\n",
              "      <td>55</td>\n",
              "      <td>134</td>\n",
              "      <td>380</td>\n",
              "      <td>3,777</td>\n",
              "      <td>1,845</td>\n",
              "      <td>1,638</td>\n",
              "      <td>294</td>\n",
              "      <td>0.738581</td>\n",
              "    </tr>\n",
              "    <tr>\n",
              "      <th>265</th>\n",
              "      <td>Yakima_WA</td>\n",
              "      <td>3.866667</td>\n",
              "      <td>WA</td>\n",
              "      <td>Yakima</td>\n",
              "      <td>93959.0</td>\n",
              "      <td>421.0</td>\n",
              "      <td>16</td>\n",
              "      <td>49</td>\n",
              "      <td>121</td>\n",
              "      <td>235</td>\n",
              "      <td>3,343</td>\n",
              "      <td>625</td>\n",
              "      <td>2,212</td>\n",
              "      <td>506</td>\n",
              "      <td>0.448068</td>\n",
              "    </tr>\n",
              "    <tr>\n",
              "      <th>227</th>\n",
              "      <td>Springfield_MA</td>\n",
              "      <td>3.802564</td>\n",
              "      <td>MA</td>\n",
              "      <td>Springfield</td>\n",
              "      <td>155179.0</td>\n",
              "      <td>1534.0</td>\n",
              "      <td>19</td>\n",
              "      <td>104</td>\n",
              "      <td>475</td>\n",
              "      <td>936</td>\n",
              "      <td>4,089</td>\n",
              "      <td>910</td>\n",
              "      <td>2,752</td>\n",
              "      <td>427</td>\n",
              "      <td>0.988536</td>\n",
              "    </tr>\n",
              "  </tbody>\n",
              "</table>\n",
              "</div>"
            ],
            "text/plain": [
              "         CityName_ST  ...  Violent Crime Per 100\n",
              "72        Detroit_MI  ...               2.007821\n",
              "83          Flint_MI  ...               1.817574\n",
              "67         Dayton_OH  ...               0.921524\n",
              "219    Shreveport_LA  ...               0.832250\n",
              "2          Albany_GA  ...               1.114417\n",
              "137         Miami_FL  ...               0.629536\n",
              "116        Laredo_TX  ...               0.336848\n",
              "113  Lake Charles_LA  ...               0.738581\n",
              "265        Yakima_WA  ...               0.448068\n",
              "227   Springfield_MA  ...               0.988536\n",
              "\n",
              "[10 rows x 15 columns]"
            ]
          },
          "metadata": {
            "tags": []
          },
          "execution_count": 190
        }
      ]
    },
    {
      "cell_type": "markdown",
      "metadata": {
        "id": "spSffD4HqKuF"
      },
      "source": [
        "## Alcohol Consumption vs. Violent Crime"
      ]
    },
    {
      "cell_type": "code",
      "metadata": {
        "colab": {
          "base_uri": "https://localhost:8080/",
          "height": 258
        },
        "id": "F19Ah08nqG1u",
        "outputId": "3110dd3d-8872-4c57-cc8c-d02d4eaf95d8"
      },
      "source": [
        "alcohol = pd.read_csv('500_Cities__Binge_drinking_among_adults_aged_new.csv')\n",
        "alcohol.shape\n",
        "alcohol= alcohol.dropna(how='any',axis=0)\n",
        "alcohol['CityName_ST'] = alcohol['CityName'] + '_' + alcohol['StateAbbr']\n",
        "alcohol_gr = alcohol.groupby(['CityName_ST'])\n",
        "alcohol_average = alcohol_gr['Data_Value'].mean().to_frame(name='% of Disease Prevalence').reset_index()\n",
        "alcohol_average.head()\n",
        "alcohol_crime = pd.merge(alcohol_average, city_crime, how='inner', on = 'CityName_ST')\n",
        "alcohol_crime.head()"
      ],
      "execution_count": null,
      "outputs": [
        {
          "output_type": "execute_result",
          "data": {
            "text/html": [
              "<div>\n",
              "<style scoped>\n",
              "    .dataframe tbody tr th:only-of-type {\n",
              "        vertical-align: middle;\n",
              "    }\n",
              "\n",
              "    .dataframe tbody tr th {\n",
              "        vertical-align: top;\n",
              "    }\n",
              "\n",
              "    .dataframe thead th {\n",
              "        text-align: right;\n",
              "    }\n",
              "</style>\n",
              "<table border=\"1\" class=\"dataframe\">\n",
              "  <thead>\n",
              "    <tr style=\"text-align: right;\">\n",
              "      <th></th>\n",
              "      <th>CityName_ST</th>\n",
              "      <th>% of Disease Prevalence</th>\n",
              "      <th>STATE</th>\n",
              "      <th>Counties/principal cities</th>\n",
              "      <th>Population</th>\n",
              "      <th>Violent\\rcrime</th>\n",
              "      <th>Murder and\\rnonnegligent\\rmanslaughter</th>\n",
              "      <th>Rape1</th>\n",
              "      <th>Robbery</th>\n",
              "      <th>Aggravated\\rassault</th>\n",
              "      <th>Property\\rcrime</th>\n",
              "      <th>Burglary</th>\n",
              "      <th>Larceny-\\rtheft</th>\n",
              "      <th>Motor\\rvehicle\\rtheft</th>\n",
              "      <th>Violent Crime Per 100</th>\n",
              "    </tr>\n",
              "  </thead>\n",
              "  <tbody>\n",
              "    <tr>\n",
              "      <th>0</th>\n",
              "      <td>Abilene_TX</td>\n",
              "      <td>19.282051</td>\n",
              "      <td>TX</td>\n",
              "      <td>Abilene</td>\n",
              "      <td>122480.0</td>\n",
              "      <td>591.0</td>\n",
              "      <td>8</td>\n",
              "      <td>97</td>\n",
              "      <td>104</td>\n",
              "      <td>382</td>\n",
              "      <td>3,528</td>\n",
              "      <td>734</td>\n",
              "      <td>2,561</td>\n",
              "      <td>233</td>\n",
              "      <td>0.482528</td>\n",
              "    </tr>\n",
              "    <tr>\n",
              "      <th>1</th>\n",
              "      <td>Akron_OH</td>\n",
              "      <td>16.270588</td>\n",
              "      <td>OH</td>\n",
              "      <td>Akron</td>\n",
              "      <td>197690.0</td>\n",
              "      <td>1704.0</td>\n",
              "      <td>38</td>\n",
              "      <td>221</td>\n",
              "      <td>387</td>\n",
              "      <td>1,058</td>\n",
              "      <td>7,159</td>\n",
              "      <td>1,740</td>\n",
              "      <td>4,701</td>\n",
              "      <td>718</td>\n",
              "      <td>0.861956</td>\n",
              "    </tr>\n",
              "    <tr>\n",
              "      <th>2</th>\n",
              "      <td>Albany_GA</td>\n",
              "      <td>11.748148</td>\n",
              "      <td>GA</td>\n",
              "      <td>Albany</td>\n",
              "      <td>72594.0</td>\n",
              "      <td>809.0</td>\n",
              "      <td>15</td>\n",
              "      <td>28</td>\n",
              "      <td>113</td>\n",
              "      <td>653</td>\n",
              "      <td>3,704</td>\n",
              "      <td>760</td>\n",
              "      <td>2,666</td>\n",
              "      <td>278</td>\n",
              "      <td>1.114417</td>\n",
              "    </tr>\n",
              "    <tr>\n",
              "      <th>3</th>\n",
              "      <td>Albany_NY</td>\n",
              "      <td>18.532143</td>\n",
              "      <td>NY</td>\n",
              "      <td>Albany</td>\n",
              "      <td>98322.0</td>\n",
              "      <td>823.0</td>\n",
              "      <td>12</td>\n",
              "      <td>52</td>\n",
              "      <td>209</td>\n",
              "      <td>550</td>\n",
              "      <td>3,147</td>\n",
              "      <td>432</td>\n",
              "      <td>2,585</td>\n",
              "      <td>130</td>\n",
              "      <td>0.837046</td>\n",
              "    </tr>\n",
              "    <tr>\n",
              "      <th>4</th>\n",
              "      <td>Albuquerque_NM</td>\n",
              "      <td>16.058273</td>\n",
              "      <td>NM</td>\n",
              "      <td>Albuquerque</td>\n",
              "      <td>560235.0</td>\n",
              "      <td>7646.0</td>\n",
              "      <td>69</td>\n",
              "      <td>479</td>\n",
              "      <td>1,979</td>\n",
              "      <td>5,119</td>\n",
              "      <td>34,619</td>\n",
              "      <td>6,378</td>\n",
              "      <td>21,625</td>\n",
              "      <td>6,616</td>\n",
              "      <td>1.364784</td>\n",
              "    </tr>\n",
              "  </tbody>\n",
              "</table>\n",
              "</div>"
            ],
            "text/plain": [
              "      CityName_ST  ...  Violent Crime Per 100\n",
              "0      Abilene_TX  ...               0.482528\n",
              "1        Akron_OH  ...               0.861956\n",
              "2       Albany_GA  ...               1.114417\n",
              "3       Albany_NY  ...               0.837046\n",
              "4  Albuquerque_NM  ...               1.364784\n",
              "\n",
              "[5 rows x 15 columns]"
            ]
          },
          "metadata": {
            "tags": []
          },
          "execution_count": 93
        }
      ]
    },
    {
      "cell_type": "markdown",
      "metadata": {
        "id": "ta5Om77x1tKP"
      },
      "source": [
        ""
      ]
    },
    {
      "cell_type": "code",
      "metadata": {
        "id": "4dIiAcccr1Mu",
        "colab": {
          "base_uri": "https://localhost:8080/",
          "height": 774
        },
        "outputId": "5e8a7325-a3c7-4ca7-bf05-e8b49ee7f36d"
      },
      "source": [
        "alcohol_crime.nsmallest(20, '% of Disease Prevalence')"
      ],
      "execution_count": null,
      "outputs": [
        {
          "output_type": "execute_result",
          "data": {
            "text/html": [
              "<div>\n",
              "<style scoped>\n",
              "    .dataframe tbody tr th:only-of-type {\n",
              "        vertical-align: middle;\n",
              "    }\n",
              "\n",
              "    .dataframe tbody tr th {\n",
              "        vertical-align: top;\n",
              "    }\n",
              "\n",
              "    .dataframe thead th {\n",
              "        text-align: right;\n",
              "    }\n",
              "</style>\n",
              "<table border=\"1\" class=\"dataframe\">\n",
              "  <thead>\n",
              "    <tr style=\"text-align: right;\">\n",
              "      <th></th>\n",
              "      <th>CityName_ST</th>\n",
              "      <th>% of Disease Prevalence</th>\n",
              "      <th>STATE</th>\n",
              "      <th>Counties/principal cities</th>\n",
              "      <th>Population</th>\n",
              "      <th>Violent\\rcrime</th>\n",
              "      <th>Murder and\\rnonnegligent\\rmanslaughter</th>\n",
              "      <th>Rape1</th>\n",
              "      <th>Robbery</th>\n",
              "      <th>Aggravated\\rassault</th>\n",
              "      <th>Property\\rcrime</th>\n",
              "      <th>Burglary</th>\n",
              "      <th>Larceny-\\rtheft</th>\n",
              "      <th>Motor\\rvehicle\\rtheft</th>\n",
              "      <th>Violent Crime Per 100</th>\n",
              "    </tr>\n",
              "  </thead>\n",
              "  <tbody>\n",
              "    <tr>\n",
              "      <th>165</th>\n",
              "      <td>Orem_UT</td>\n",
              "      <td>7.740000</td>\n",
              "      <td>UT</td>\n",
              "      <td>Orem</td>\n",
              "      <td>99221.0</td>\n",
              "      <td>69.0</td>\n",
              "      <td>1</td>\n",
              "      <td>20</td>\n",
              "      <td>12</td>\n",
              "      <td>36</td>\n",
              "      <td>1,827</td>\n",
              "      <td>152</td>\n",
              "      <td>1,576</td>\n",
              "      <td>99</td>\n",
              "      <td>0.069542</td>\n",
              "    </tr>\n",
              "    <tr>\n",
              "      <th>229</th>\n",
              "      <td>St. George_UT</td>\n",
              "      <td>9.786667</td>\n",
              "      <td>UT</td>\n",
              "      <td>St. George</td>\n",
              "      <td>86202.0</td>\n",
              "      <td>196.0</td>\n",
              "      <td>3</td>\n",
              "      <td>48</td>\n",
              "      <td>19</td>\n",
              "      <td>126</td>\n",
              "      <td>1,388</td>\n",
              "      <td>228</td>\n",
              "      <td>1,049</td>\n",
              "      <td>111</td>\n",
              "      <td>0.227373</td>\n",
              "    </tr>\n",
              "    <tr>\n",
              "      <th>161</th>\n",
              "      <td>Ogden_UT</td>\n",
              "      <td>11.661538</td>\n",
              "      <td>UT</td>\n",
              "      <td>Ogden</td>\n",
              "      <td>87616.0</td>\n",
              "      <td>417.0</td>\n",
              "      <td>5</td>\n",
              "      <td>74</td>\n",
              "      <td>81</td>\n",
              "      <td>257</td>\n",
              "      <td>3,218</td>\n",
              "      <td>500</td>\n",
              "      <td>2,319</td>\n",
              "      <td>399</td>\n",
              "      <td>0.475940</td>\n",
              "    </tr>\n",
              "    <tr>\n",
              "      <th>2</th>\n",
              "      <td>Albany_GA</td>\n",
              "      <td>11.748148</td>\n",
              "      <td>GA</td>\n",
              "      <td>Albany</td>\n",
              "      <td>72594.0</td>\n",
              "      <td>809.0</td>\n",
              "      <td>15</td>\n",
              "      <td>28</td>\n",
              "      <td>113</td>\n",
              "      <td>653</td>\n",
              "      <td>3,704</td>\n",
              "      <td>760</td>\n",
              "      <td>2,666</td>\n",
              "      <td>278</td>\n",
              "      <td>1.114417</td>\n",
              "    </tr>\n",
              "    <tr>\n",
              "      <th>49</th>\n",
              "      <td>Charleston_WV</td>\n",
              "      <td>11.879167</td>\n",
              "      <td>WV</td>\n",
              "      <td>Charleston</td>\n",
              "      <td>47470.0</td>\n",
              "      <td>331.0</td>\n",
              "      <td>10</td>\n",
              "      <td>50</td>\n",
              "      <td>48</td>\n",
              "      <td>223</td>\n",
              "      <td>2,853</td>\n",
              "      <td>660</td>\n",
              "      <td>1,947</td>\n",
              "      <td>246</td>\n",
              "      <td>0.697282</td>\n",
              "    </tr>\n",
              "    <tr>\n",
              "      <th>97</th>\n",
              "      <td>Hartford_CT</td>\n",
              "      <td>12.814286</td>\n",
              "      <td>CT</td>\n",
              "      <td>Hartford</td>\n",
              "      <td>123117.0</td>\n",
              "      <td>1313.0</td>\n",
              "      <td>21</td>\n",
              "      <td>53</td>\n",
              "      <td>355</td>\n",
              "      <td>884</td>\n",
              "      <td>4,435</td>\n",
              "      <td>605</td>\n",
              "      <td>3,089</td>\n",
              "      <td>741</td>\n",
              "      <td>1.066465</td>\n",
              "    </tr>\n",
              "    <tr>\n",
              "      <th>139</th>\n",
              "      <td>Milpitas_CA</td>\n",
              "      <td>13.047059</td>\n",
              "      <td>CA</td>\n",
              "      <td>Milpitas</td>\n",
              "      <td>79895.0</td>\n",
              "      <td>87.0</td>\n",
              "      <td>0</td>\n",
              "      <td>11</td>\n",
              "      <td>45</td>\n",
              "      <td>31</td>\n",
              "      <td>1,934</td>\n",
              "      <td>243</td>\n",
              "      <td>1,435</td>\n",
              "      <td>256</td>\n",
              "      <td>0.108893</td>\n",
              "    </tr>\n",
              "    <tr>\n",
              "      <th>34</th>\n",
              "      <td>Boynton Beach_FL</td>\n",
              "      <td>13.069231</td>\n",
              "      <td>FL</td>\n",
              "      <td>Boynton Beach</td>\n",
              "      <td>79142.0</td>\n",
              "      <td>477.0</td>\n",
              "      <td>4</td>\n",
              "      <td>21</td>\n",
              "      <td>134</td>\n",
              "      <td>318</td>\n",
              "      <td>2,964</td>\n",
              "      <td>256</td>\n",
              "      <td>2,423</td>\n",
              "      <td>285</td>\n",
              "      <td>0.602714</td>\n",
              "    </tr>\n",
              "    <tr>\n",
              "      <th>145</th>\n",
              "      <td>Montgomery_AL</td>\n",
              "      <td>13.233871</td>\n",
              "      <td>AL</td>\n",
              "      <td>Montgomery</td>\n",
              "      <td>198662.0</td>\n",
              "      <td>1216.0</td>\n",
              "      <td>29</td>\n",
              "      <td>39</td>\n",
              "      <td>391</td>\n",
              "      <td>757</td>\n",
              "      <td>8,480</td>\n",
              "      <td>2,052</td>\n",
              "      <td>5,456</td>\n",
              "      <td>972</td>\n",
              "      <td>0.612095</td>\n",
              "    </tr>\n",
              "    <tr>\n",
              "      <th>72</th>\n",
              "      <td>Detroit_MI</td>\n",
              "      <td>13.375850</td>\n",
              "      <td>MI</td>\n",
              "      <td>Detroit</td>\n",
              "      <td>671275.0</td>\n",
              "      <td>13478.0</td>\n",
              "      <td>261</td>\n",
              "      <td>988</td>\n",
              "      <td>2,309</td>\n",
              "      <td>9,920</td>\n",
              "      <td>28,897</td>\n",
              "      <td>7,440</td>\n",
              "      <td>15,003</td>\n",
              "      <td>6,454</td>\n",
              "      <td>2.007821</td>\n",
              "    </tr>\n",
              "    <tr>\n",
              "      <th>118</th>\n",
              "      <td>Lawton_OK</td>\n",
              "      <td>13.803333</td>\n",
              "      <td>OK</td>\n",
              "      <td>Lawton</td>\n",
              "      <td>93140.0</td>\n",
              "      <td>840.0</td>\n",
              "      <td>7</td>\n",
              "      <td>90</td>\n",
              "      <td>122</td>\n",
              "      <td>621</td>\n",
              "      <td>3,338</td>\n",
              "      <td>1,023</td>\n",
              "      <td>2,011</td>\n",
              "      <td>304</td>\n",
              "      <td>0.901868</td>\n",
              "    </tr>\n",
              "    <tr>\n",
              "      <th>265</th>\n",
              "      <td>Yakima_WA</td>\n",
              "      <td>13.942857</td>\n",
              "      <td>WA</td>\n",
              "      <td>Yakima</td>\n",
              "      <td>93959.0</td>\n",
              "      <td>421.0</td>\n",
              "      <td>16</td>\n",
              "      <td>49</td>\n",
              "      <td>121</td>\n",
              "      <td>235</td>\n",
              "      <td>3,343</td>\n",
              "      <td>625</td>\n",
              "      <td>2,212</td>\n",
              "      <td>506</td>\n",
              "      <td>0.448068</td>\n",
              "    </tr>\n",
              "    <tr>\n",
              "      <th>83</th>\n",
              "      <td>Flint_MI</td>\n",
              "      <td>14.068293</td>\n",
              "      <td>MI</td>\n",
              "      <td>Flint</td>\n",
              "      <td>95677.0</td>\n",
              "      <td>1739.0</td>\n",
              "      <td>32</td>\n",
              "      <td>130</td>\n",
              "      <td>189</td>\n",
              "      <td>1,388</td>\n",
              "      <td>2,584</td>\n",
              "      <td>796</td>\n",
              "      <td>1,488</td>\n",
              "      <td>300</td>\n",
              "      <td>1.817574</td>\n",
              "    </tr>\n",
              "    <tr>\n",
              "      <th>87</th>\n",
              "      <td>Fort Smith_AR</td>\n",
              "      <td>14.134783</td>\n",
              "      <td>AR</td>\n",
              "      <td>Fort Smith</td>\n",
              "      <td>88290.0</td>\n",
              "      <td>707.0</td>\n",
              "      <td>9</td>\n",
              "      <td>86</td>\n",
              "      <td>97</td>\n",
              "      <td>515</td>\n",
              "      <td>4,265</td>\n",
              "      <td>711</td>\n",
              "      <td>3,268</td>\n",
              "      <td>286</td>\n",
              "      <td>0.800770</td>\n",
              "    </tr>\n",
              "    <tr>\n",
              "      <th>260</th>\n",
              "      <td>West Palm Beach_FL</td>\n",
              "      <td>14.150000</td>\n",
              "      <td>FL</td>\n",
              "      <td>West Palm Beach</td>\n",
              "      <td>111659.0</td>\n",
              "      <td>1026.0</td>\n",
              "      <td>27</td>\n",
              "      <td>77</td>\n",
              "      <td>354</td>\n",
              "      <td>568</td>\n",
              "      <td>4,249</td>\n",
              "      <td>578</td>\n",
              "      <td>3,290</td>\n",
              "      <td>381</td>\n",
              "      <td>0.918869</td>\n",
              "    </tr>\n",
              "    <tr>\n",
              "      <th>250</th>\n",
              "      <td>Tulsa_OK</td>\n",
              "      <td>14.250000</td>\n",
              "      <td>OK</td>\n",
              "      <td>Tulsa</td>\n",
              "      <td>403147.0</td>\n",
              "      <td>4294.0</td>\n",
              "      <td>60</td>\n",
              "      <td>422</td>\n",
              "      <td>830</td>\n",
              "      <td>2,982</td>\n",
              "      <td>21,893</td>\n",
              "      <td>4,800</td>\n",
              "      <td>13,834</td>\n",
              "      <td>3,259</td>\n",
              "      <td>1.065120</td>\n",
              "    </tr>\n",
              "    <tr>\n",
              "      <th>162</th>\n",
              "      <td>Oklahoma City_OK</td>\n",
              "      <td>14.268349</td>\n",
              "      <td>OK</td>\n",
              "      <td>Oklahoma City</td>\n",
              "      <td>652865.0</td>\n",
              "      <td>5663.0</td>\n",
              "      <td>52</td>\n",
              "      <td>542</td>\n",
              "      <td>1,082</td>\n",
              "      <td>3,987</td>\n",
              "      <td>26,298</td>\n",
              "      <td>6,000</td>\n",
              "      <td>16,668</td>\n",
              "      <td>3,630</td>\n",
              "      <td>0.867408</td>\n",
              "    </tr>\n",
              "    <tr>\n",
              "      <th>110</th>\n",
              "      <td>Knoxville_TN</td>\n",
              "      <td>14.517143</td>\n",
              "      <td>TN</td>\n",
              "      <td>Knoxville</td>\n",
              "      <td>188653.0</td>\n",
              "      <td>1508.0</td>\n",
              "      <td>20</td>\n",
              "      <td>132</td>\n",
              "      <td>249</td>\n",
              "      <td>1,107</td>\n",
              "      <td>8,827</td>\n",
              "      <td>1,374</td>\n",
              "      <td>6,379</td>\n",
              "      <td>1,074</td>\n",
              "      <td>0.799351</td>\n",
              "    </tr>\n",
              "    <tr>\n",
              "      <th>222</th>\n",
              "      <td>Southfield_MI</td>\n",
              "      <td>14.636000</td>\n",
              "      <td>MI</td>\n",
              "      <td>Southfield</td>\n",
              "      <td>73418.0</td>\n",
              "      <td>204.0</td>\n",
              "      <td>2</td>\n",
              "      <td>36</td>\n",
              "      <td>48</td>\n",
              "      <td>118</td>\n",
              "      <td>1,509</td>\n",
              "      <td>262</td>\n",
              "      <td>1,049</td>\n",
              "      <td>198</td>\n",
              "      <td>0.277861</td>\n",
              "    </tr>\n",
              "    <tr>\n",
              "      <th>182</th>\n",
              "      <td>Pueblo_CO</td>\n",
              "      <td>14.742500</td>\n",
              "      <td>CO</td>\n",
              "      <td>Pueblo</td>\n",
              "      <td>111756.0</td>\n",
              "      <td>1110.0</td>\n",
              "      <td>9</td>\n",
              "      <td>185</td>\n",
              "      <td>220</td>\n",
              "      <td>696</td>\n",
              "      <td>6,231</td>\n",
              "      <td>1,224</td>\n",
              "      <td>3,947</td>\n",
              "      <td>1,060</td>\n",
              "      <td>0.993235</td>\n",
              "    </tr>\n",
              "  </tbody>\n",
              "</table>\n",
              "</div>"
            ],
            "text/plain": [
              "            CityName_ST  ...  Violent Crime Per 100\n",
              "165             Orem_UT  ...               0.069542\n",
              "229       St. George_UT  ...               0.227373\n",
              "161            Ogden_UT  ...               0.475940\n",
              "2             Albany_GA  ...               1.114417\n",
              "49        Charleston_WV  ...               0.697282\n",
              "97          Hartford_CT  ...               1.066465\n",
              "139         Milpitas_CA  ...               0.108893\n",
              "34     Boynton Beach_FL  ...               0.602714\n",
              "145       Montgomery_AL  ...               0.612095\n",
              "72           Detroit_MI  ...               2.007821\n",
              "118           Lawton_OK  ...               0.901868\n",
              "265           Yakima_WA  ...               0.448068\n",
              "83             Flint_MI  ...               1.817574\n",
              "87        Fort Smith_AR  ...               0.800770\n",
              "260  West Palm Beach_FL  ...               0.918869\n",
              "250            Tulsa_OK  ...               1.065120\n",
              "162    Oklahoma City_OK  ...               0.867408\n",
              "110        Knoxville_TN  ...               0.799351\n",
              "222       Southfield_MI  ...               0.277861\n",
              "182           Pueblo_CO  ...               0.993235\n",
              "\n",
              "[20 rows x 15 columns]"
            ]
          },
          "metadata": {
            "tags": []
          },
          "execution_count": 99
        }
      ]
    },
    {
      "cell_type": "markdown",
      "metadata": {
        "id": "Wb2kG4AEssqo"
      },
      "source": [
        "## Appleton, Wisconsin has earned the reputation for being the drunkest city in America [link text](https://www.fox6now.com/news/appleton-named-drunkest-city-in-america-seven-wisconsin-cities-in-the-top-10)\n",
        "\n",
        "The top cities are around colleges which could explain part of the binge drinking statistics. The binge drinking study also does not offer any indication as to how long someone engages in binbe drinking behaviors so it may not be the best indicator of the health of a city."
      ]
    },
    {
      "cell_type": "code",
      "metadata": {
        "colab": {
          "base_uri": "https://localhost:8080/",
          "height": 293
        },
        "id": "mbDTOGXOrYTn",
        "outputId": "ab833bd9-6feb-4bad-f04f-0ae29ce0be86"
      },
      "source": [
        "import matplotlib.pyplot as plt\n",
        "plt.style.use('seaborn-darkgrid')\n",
        "plt.title(\"Binge Drinking vs. Violent Crime\", fontsize=15, fontweight=5, color='orange')\n",
        "\n",
        "import seaborn as sns\n",
        "\n",
        "ax1 = sns.regplot(x = alcohol_crime['% of Disease Prevalence'], y = alcohol_crime['Violent Crime Per 100'], data = alcohol_crime, ci=None)"
      ],
      "execution_count": null,
      "outputs": [
        {
          "output_type": "display_data",
          "data": {
            "image/png": "[encoded data removed]",
            "text/plain": [
              "<Figure size 432x288 with 1 Axes>"
            ]
          },
          "metadata": {
            "tags": []
          }
        }
      ]
    },
    {
      "cell_type": "code",
      "metadata": {
        "colab": {
          "base_uri": "https://localhost:8080/"
        },
        "id": "qfY_c6kfrl87",
        "outputId": "c64df3a5-dfd3-4710-a846-c7f8a6fd06b3"
      },
      "source": [
        "corr, _ = pearsonr(alcohol_crime['Violent Crime Per 100'], alcohol_crime['% of Disease Prevalence'])\n",
        "print('Pearsons correlation: %.3f' % corr)"
      ],
      "execution_count": null,
      "outputs": [
        {
          "output_type": "stream",
          "text": [
            "Pearsons correlation: -0.221\n"
          ],
          "name": "stdout"
        }
      ]
    },
    {
      "cell_type": "markdown",
      "metadata": {
        "id": "l6djRufVt_Jk"
      },
      "source": [
        "## Obesity & Violent Crime"
      ]
    },
    {
      "cell_type": "code",
      "metadata": {
        "colab": {
          "base_uri": "https://localhost:8080/",
          "height": 258
        },
        "id": "JLHGF3vzuCvk",
        "outputId": "191a6df3-7541-45a5-83e5-bd7e6c7691bb"
      },
      "source": [
        "obesity = pd.read_csv('500_Cities__Obesity_among_adults_aged___18_years.csv')\n",
        "obesity.head()\n",
        "# alcohol = alcohol.drop(['Unnamed: 15', 'Unnamed: 16','Unnamed: 17'], 1)\n",
        "obesity['CityName_ST'] = obesity['CityName'] + '_' + obesity['StateAbbr']\n",
        "obesity= obesity.dropna(how='any',axis=0)\n",
        "obesity_gr = obesity.groupby(['CityName_ST'])\n",
        "obesity_average = obesity_gr['Data_Value'].mean().to_frame(name='% of Disease Prevalence').reset_index()\n",
        "obesity_average.head()\n",
        "obesity_crime = pd.merge(obesity_average, city_crime, how='inner', on = 'CityName_ST')\n",
        "obesity_crime.head()"
      ],
      "execution_count": null,
      "outputs": [
        {
          "output_type": "execute_result",
          "data": {
            "text/html": [
              "<div>\n",
              "<style scoped>\n",
              "    .dataframe tbody tr th:only-of-type {\n",
              "        vertical-align: middle;\n",
              "    }\n",
              "\n",
              "    .dataframe tbody tr th {\n",
              "        vertical-align: top;\n",
              "    }\n",
              "\n",
              "    .dataframe thead th {\n",
              "        text-align: right;\n",
              "    }\n",
              "</style>\n",
              "<table border=\"1\" class=\"dataframe\">\n",
              "  <thead>\n",
              "    <tr style=\"text-align: right;\">\n",
              "      <th></th>\n",
              "      <th>CityName_ST</th>\n",
              "      <th>% of Disease Prevalence</th>\n",
              "      <th>STATE</th>\n",
              "      <th>Counties/principal cities</th>\n",
              "      <th>Population</th>\n",
              "      <th>Violent\\rcrime</th>\n",
              "      <th>Murder and\\rnonnegligent\\rmanslaughter</th>\n",
              "      <th>Rape1</th>\n",
              "      <th>Robbery</th>\n",
              "      <th>Aggravated\\rassault</th>\n",
              "      <th>Property\\rcrime</th>\n",
              "      <th>Burglary</th>\n",
              "      <th>Larceny-\\rtheft</th>\n",
              "      <th>Motor\\rvehicle\\rtheft</th>\n",
              "      <th>Violent Crime Per 100</th>\n",
              "    </tr>\n",
              "  </thead>\n",
              "  <tbody>\n",
              "    <tr>\n",
              "      <th>0</th>\n",
              "      <td>Abilene_TX</td>\n",
              "      <td>33.838462</td>\n",
              "      <td>TX</td>\n",
              "      <td>Abilene</td>\n",
              "      <td>122480.0</td>\n",
              "      <td>591.0</td>\n",
              "      <td>8</td>\n",
              "      <td>97</td>\n",
              "      <td>104</td>\n",
              "      <td>382</td>\n",
              "      <td>3,528</td>\n",
              "      <td>734</td>\n",
              "      <td>2,561</td>\n",
              "      <td>233</td>\n",
              "      <td>0.482528</td>\n",
              "    </tr>\n",
              "    <tr>\n",
              "      <th>1</th>\n",
              "      <td>Akron_OH</td>\n",
              "      <td>38.142647</td>\n",
              "      <td>OH</td>\n",
              "      <td>Akron</td>\n",
              "      <td>197690.0</td>\n",
              "      <td>1704.0</td>\n",
              "      <td>38</td>\n",
              "      <td>221</td>\n",
              "      <td>387</td>\n",
              "      <td>1,058</td>\n",
              "      <td>7,159</td>\n",
              "      <td>1,740</td>\n",
              "      <td>4,701</td>\n",
              "      <td>718</td>\n",
              "      <td>0.861956</td>\n",
              "    </tr>\n",
              "    <tr>\n",
              "      <th>2</th>\n",
              "      <td>Albany_GA</td>\n",
              "      <td>41.255556</td>\n",
              "      <td>GA</td>\n",
              "      <td>Albany</td>\n",
              "      <td>72594.0</td>\n",
              "      <td>809.0</td>\n",
              "      <td>15</td>\n",
              "      <td>28</td>\n",
              "      <td>113</td>\n",
              "      <td>653</td>\n",
              "      <td>3,704</td>\n",
              "      <td>760</td>\n",
              "      <td>2,666</td>\n",
              "      <td>278</td>\n",
              "      <td>1.114417</td>\n",
              "    </tr>\n",
              "    <tr>\n",
              "      <th>3</th>\n",
              "      <td>Albany_NY</td>\n",
              "      <td>29.760714</td>\n",
              "      <td>NY</td>\n",
              "      <td>Albany</td>\n",
              "      <td>98322.0</td>\n",
              "      <td>823.0</td>\n",
              "      <td>12</td>\n",
              "      <td>52</td>\n",
              "      <td>209</td>\n",
              "      <td>550</td>\n",
              "      <td>3,147</td>\n",
              "      <td>432</td>\n",
              "      <td>2,585</td>\n",
              "      <td>130</td>\n",
              "      <td>0.837046</td>\n",
              "    </tr>\n",
              "    <tr>\n",
              "      <th>4</th>\n",
              "      <td>Albuquerque_NM</td>\n",
              "      <td>26.787050</td>\n",
              "      <td>NM</td>\n",
              "      <td>Albuquerque</td>\n",
              "      <td>560235.0</td>\n",
              "      <td>7646.0</td>\n",
              "      <td>69</td>\n",
              "      <td>479</td>\n",
              "      <td>1,979</td>\n",
              "      <td>5,119</td>\n",
              "      <td>34,619</td>\n",
              "      <td>6,378</td>\n",
              "      <td>21,625</td>\n",
              "      <td>6,616</td>\n",
              "      <td>1.364784</td>\n",
              "    </tr>\n",
              "  </tbody>\n",
              "</table>\n",
              "</div>"
            ],
            "text/plain": [
              "      CityName_ST  ...  Violent Crime Per 100\n",
              "0      Abilene_TX  ...               0.482528\n",
              "1        Akron_OH  ...               0.861956\n",
              "2       Albany_GA  ...               1.114417\n",
              "3       Albany_NY  ...               0.837046\n",
              "4  Albuquerque_NM  ...               1.364784\n",
              "\n",
              "[5 rows x 15 columns]"
            ]
          },
          "metadata": {
            "tags": []
          },
          "execution_count": 185
        }
      ]
    },
    {
      "cell_type": "code",
      "metadata": {
        "colab": {
          "base_uri": "https://localhost:8080/",
          "height": 293
        },
        "id": "ZGXVn5Osuhm-",
        "outputId": "1da14870-0b5a-4f62-ddce-4c3a921097aa"
      },
      "source": [
        "import matplotlib.pyplot as plt\n",
        "plt.style.use('seaborn-darkgrid')\n",
        "plt.title(\"Obesity vs. Violent Crime\", fontsize=15, fontweight=5, color='orange')\n",
        "\n",
        "import seaborn as sns\n",
        "\n",
        "ax1 = sns.regplot(x = obesity_crime['% of Disease Prevalence'], y = obesity_crime['Violent Crime Per 100'], data = obesity_crime, ci=None)"
      ],
      "execution_count": null,
      "outputs": [
        {
          "output_type": "display_data",
          "data": {
            "image/png": "[encoded data removed]",
            "text/plain": [
              "<Figure size 432x288 with 1 Axes>"
            ]
          },
          "metadata": {
            "tags": []
          }
        }
      ]
    },
    {
      "cell_type": "code",
      "metadata": {
        "colab": {
          "base_uri": "https://localhost:8080/"
        },
        "id": "p4ChVRJRu4X9",
        "outputId": "a3f8bece-e11e-44d2-c434-e22e66ecf4d2"
      },
      "source": [
        "corr, _ = pearsonr(obesity_crime['Violent Crime Per 100'], obesity_crime['% of Disease Prevalence'])\n",
        "print('Pearsons correlation: %.3f' % corr)"
      ],
      "execution_count": null,
      "outputs": [
        {
          "output_type": "stream",
          "text": [
            "Pearsons correlation: 0.534\n"
          ],
          "name": "stdout"
        }
      ]
    },
    {
      "cell_type": "code",
      "metadata": {
        "colab": {
          "base_uri": "https://localhost:8080/"
        },
        "id": "MVeCrEKp0pRr",
        "outputId": "4b4e7418-b9ad-4450-ab99-919ea1d101bc"
      },
      "source": [
        "print(obesity_crime['CityName_ST'])"
      ],
      "execution_count": null,
      "outputs": [
        {
          "output_type": "stream",
          "text": [
            "0          Abilene_TX\n",
            "1            Akron_OH\n",
            "2           Albany_GA\n",
            "3           Albany_NY\n",
            "4      Albuquerque_NM\n",
            "            ...      \n",
            "262        Wichita_KS\n",
            "263     Wilmington_DE\n",
            "264      Worcester_MA\n",
            "265         Yakima_WA\n",
            "266           Yuma_AZ\n",
            "Name: CityName_ST, Length: 267, dtype: object\n"
          ],
          "name": "stdout"
        }
      ]
    },
    {
      "cell_type": "code",
      "metadata": {
        "colab": {
          "base_uri": "https://localhost:8080/",
          "height": 413
        },
        "id": "ewLMc3yg3DUW",
        "outputId": "f35f68ef-16d5-4f38-cb9e-5946b80be6dc"
      },
      "source": [
        "obesity_crime.nlargest(10, '% of Disease Prevalence')"
      ],
      "execution_count": null,
      "outputs": [
        {
          "output_type": "execute_result",
          "data": {
            "text/html": [
              "<div>\n",
              "<style scoped>\n",
              "    .dataframe tbody tr th:only-of-type {\n",
              "        vertical-align: middle;\n",
              "    }\n",
              "\n",
              "    .dataframe tbody tr th {\n",
              "        vertical-align: top;\n",
              "    }\n",
              "\n",
              "    .dataframe thead th {\n",
              "        text-align: right;\n",
              "    }\n",
              "</style>\n",
              "<table border=\"1\" class=\"dataframe\">\n",
              "  <thead>\n",
              "    <tr style=\"text-align: right;\">\n",
              "      <th></th>\n",
              "      <th>CityName_ST</th>\n",
              "      <th>% of Disease Prevalence</th>\n",
              "      <th>STATE</th>\n",
              "      <th>Counties/principal cities</th>\n",
              "      <th>Population</th>\n",
              "      <th>Violent\\rcrime</th>\n",
              "      <th>Murder and\\rnonnegligent\\rmanslaughter</th>\n",
              "      <th>Rape1</th>\n",
              "      <th>Robbery</th>\n",
              "      <th>Aggravated\\rassault</th>\n",
              "      <th>Property\\rcrime</th>\n",
              "      <th>Burglary</th>\n",
              "      <th>Larceny-\\rtheft</th>\n",
              "      <th>Motor\\rvehicle\\rtheft</th>\n",
              "      <th>Violent Crime Per 100</th>\n",
              "    </tr>\n",
              "  </thead>\n",
              "  <tbody>\n",
              "    <tr>\n",
              "      <th>83</th>\n",
              "      <td>Flint_MI</td>\n",
              "      <td>48.678049</td>\n",
              "      <td>MI</td>\n",
              "      <td>Flint</td>\n",
              "      <td>95677.0</td>\n",
              "      <td>1739.0</td>\n",
              "      <td>32</td>\n",
              "      <td>130</td>\n",
              "      <td>189</td>\n",
              "      <td>1,388</td>\n",
              "      <td>2,584</td>\n",
              "      <td>796</td>\n",
              "      <td>1,488</td>\n",
              "      <td>300</td>\n",
              "      <td>1.817574</td>\n",
              "    </tr>\n",
              "    <tr>\n",
              "      <th>72</th>\n",
              "      <td>Detroit_MI</td>\n",
              "      <td>44.812245</td>\n",
              "      <td>MI</td>\n",
              "      <td>Detroit</td>\n",
              "      <td>671275.0</td>\n",
              "      <td>13478.0</td>\n",
              "      <td>261</td>\n",
              "      <td>988</td>\n",
              "      <td>2,309</td>\n",
              "      <td>9,920</td>\n",
              "      <td>28,897</td>\n",
              "      <td>7,440</td>\n",
              "      <td>15,003</td>\n",
              "      <td>6,454</td>\n",
              "      <td>2.007821</td>\n",
              "    </tr>\n",
              "    <tr>\n",
              "      <th>244</th>\n",
              "      <td>Toledo_OH</td>\n",
              "      <td>44.304950</td>\n",
              "      <td>OH</td>\n",
              "      <td>Toledo</td>\n",
              "      <td>275023.0</td>\n",
              "      <td>2333.0</td>\n",
              "      <td>37</td>\n",
              "      <td>239</td>\n",
              "      <td>477</td>\n",
              "      <td>1,580</td>\n",
              "      <td>10,222</td>\n",
              "      <td>2,802</td>\n",
              "      <td>6,712</td>\n",
              "      <td>708</td>\n",
              "      <td>0.848293</td>\n",
              "    </tr>\n",
              "    <tr>\n",
              "      <th>73</th>\n",
              "      <td>Edinburg_TX</td>\n",
              "      <td>43.446667</td>\n",
              "      <td>TX</td>\n",
              "      <td>Edinburg</td>\n",
              "      <td>92391.0</td>\n",
              "      <td>304.0</td>\n",
              "      <td>2</td>\n",
              "      <td>78</td>\n",
              "      <td>50</td>\n",
              "      <td>174</td>\n",
              "      <td>3,248</td>\n",
              "      <td>418</td>\n",
              "      <td>2,756</td>\n",
              "      <td>74</td>\n",
              "      <td>0.329036</td>\n",
              "    </tr>\n",
              "    <tr>\n",
              "      <th>116</th>\n",
              "      <td>Laredo_TX</td>\n",
              "      <td>43.064407</td>\n",
              "      <td>TX</td>\n",
              "      <td>Laredo</td>\n",
              "      <td>264214.0</td>\n",
              "      <td>890.0</td>\n",
              "      <td>10</td>\n",
              "      <td>145</td>\n",
              "      <td>141</td>\n",
              "      <td>594</td>\n",
              "      <td>6,367</td>\n",
              "      <td>692</td>\n",
              "      <td>5,506</td>\n",
              "      <td>169</td>\n",
              "      <td>0.336848</td>\n",
              "    </tr>\n",
              "    <tr>\n",
              "      <th>67</th>\n",
              "      <td>Dayton_OH</td>\n",
              "      <td>42.967797</td>\n",
              "      <td>OH</td>\n",
              "      <td>Dayton</td>\n",
              "      <td>140094.0</td>\n",
              "      <td>1291.0</td>\n",
              "      <td>37</td>\n",
              "      <td>167</td>\n",
              "      <td>403</td>\n",
              "      <td>684</td>\n",
              "      <td>6,323</td>\n",
              "      <td>1,697</td>\n",
              "      <td>3,831</td>\n",
              "      <td>795</td>\n",
              "      <td>0.921524</td>\n",
              "    </tr>\n",
              "    <tr>\n",
              "      <th>142</th>\n",
              "      <td>Mission_TX</td>\n",
              "      <td>42.623529</td>\n",
              "      <td>TX</td>\n",
              "      <td>Mission</td>\n",
              "      <td>85368.0</td>\n",
              "      <td>94.0</td>\n",
              "      <td>0</td>\n",
              "      <td>35</td>\n",
              "      <td>27</td>\n",
              "      <td>32</td>\n",
              "      <td>1,594</td>\n",
              "      <td>150</td>\n",
              "      <td>1,380</td>\n",
              "      <td>64</td>\n",
              "      <td>0.110112</td>\n",
              "    </tr>\n",
              "    <tr>\n",
              "      <th>41</th>\n",
              "      <td>Canton_OH</td>\n",
              "      <td>42.310714</td>\n",
              "      <td>OH</td>\n",
              "      <td>Canton</td>\n",
              "      <td>70605.0</td>\n",
              "      <td>845.0</td>\n",
              "      <td>3</td>\n",
              "      <td>98</td>\n",
              "      <td>189</td>\n",
              "      <td>555</td>\n",
              "      <td>3,790</td>\n",
              "      <td>970</td>\n",
              "      <td>2,517</td>\n",
              "      <td>303</td>\n",
              "      <td>1.196799</td>\n",
              "    </tr>\n",
              "    <tr>\n",
              "      <th>131</th>\n",
              "      <td>McAllen_TX</td>\n",
              "      <td>41.962963</td>\n",
              "      <td>TX</td>\n",
              "      <td>McAllen</td>\n",
              "      <td>144363.0</td>\n",
              "      <td>122.0</td>\n",
              "      <td>0</td>\n",
              "      <td>39</td>\n",
              "      <td>26</td>\n",
              "      <td>57</td>\n",
              "      <td>3,856</td>\n",
              "      <td>203</td>\n",
              "      <td>3,598</td>\n",
              "      <td>55</td>\n",
              "      <td>0.084509</td>\n",
              "    </tr>\n",
              "    <tr>\n",
              "      <th>2</th>\n",
              "      <td>Albany_GA</td>\n",
              "      <td>41.255556</td>\n",
              "      <td>GA</td>\n",
              "      <td>Albany</td>\n",
              "      <td>72594.0</td>\n",
              "      <td>809.0</td>\n",
              "      <td>15</td>\n",
              "      <td>28</td>\n",
              "      <td>113</td>\n",
              "      <td>653</td>\n",
              "      <td>3,704</td>\n",
              "      <td>760</td>\n",
              "      <td>2,666</td>\n",
              "      <td>278</td>\n",
              "      <td>1.114417</td>\n",
              "    </tr>\n",
              "  </tbody>\n",
              "</table>\n",
              "</div>"
            ],
            "text/plain": [
              "     CityName_ST  ...  Violent Crime Per 100\n",
              "83      Flint_MI  ...               1.817574\n",
              "72    Detroit_MI  ...               2.007821\n",
              "244    Toledo_OH  ...               0.848293\n",
              "73   Edinburg_TX  ...               0.329036\n",
              "116    Laredo_TX  ...               0.336848\n",
              "67     Dayton_OH  ...               0.921524\n",
              "142   Mission_TX  ...               0.110112\n",
              "41     Canton_OH  ...               1.196799\n",
              "131   McAllen_TX  ...               0.084509\n",
              "2      Albany_GA  ...               1.114417\n",
              "\n",
              "[10 rows x 15 columns]"
            ]
          },
          "metadata": {
            "tags": []
          },
          "execution_count": 189
        }
      ]
    },
    {
      "cell_type": "markdown",
      "metadata": {
        "id": "g6bfjFFxvUPw"
      },
      "source": [
        "## Smoking and Violent Crime"
      ]
    },
    {
      "cell_type": "code",
      "metadata": {
        "colab": {
          "base_uri": "https://localhost:8080/"
        },
        "id": "X5XVu5IHxEC8",
        "outputId": "0d497e45-ef6b-4e8e-de4f-2b1baef783e7"
      },
      "source": [
        "smoke = pd.read_csv('500_Cities__Current_smoking_among_adults_aged___18_years.csv')\n",
        "smoke.head()\n",
        "smoke = smoke.drop(['Data_Value_Unit', 'DataValueTypeID','Data_Value_Type','Data_Value_Footnote_Symbol', 'Data_Value_Footnote', 'PopulationCount','CategoryID','CityFIPS', 'MeasureId', 'TractFIPS', 'Short_Question_Text'], 1)\n",
        "smoke['CityName_ST'] = smoke['CityName'] + '_' + smoke['StateAbbr']\n",
        "smoke= smoke.dropna(how='any',axis=0)\n",
        "smoke_gr = smoke.groupby(['CityName_ST'])\n",
        "smoke_average = smoke_gr['Data_Value'].mean().to_frame(name='% of Disease Prevalence').reset_index()\n",
        "smoke_average.head()\n",
        "smoke_crime = pd.merge(smoke_average, city_crime, how='inner', on = 'CityName_ST')\n",
        "smoke.head()"
      ],
      "execution_count": null,
      "outputs": [
        {
          "output_type": "execute_result",
          "data": {
            "text/plain": [
              "(267, 15)"
            ]
          },
          "metadata": {
            "tags": []
          },
          "execution_count": 33
        }
      ]
    },
    {
      "cell_type": "code",
      "metadata": {
        "colab": {
          "base_uri": "https://localhost:8080/",
          "height": 293
        },
        "id": "WvLdO61TyEbB",
        "outputId": "c9587465-db2c-4943-9de8-accbc5d37bac"
      },
      "source": [
        "import matplotlib.pyplot as plt\n",
        "plt.style.use('seaborn-darkgrid')\n",
        "plt.title(\"Smoking vs. Violent Crime\", fontsize=15, fontweight=5, color='orange')\n",
        "\n",
        "import seaborn as sns\n",
        "\n",
        "ax1 = sns.regplot(x = smoke_crime['% of Disease Prevalence'], y = smoke_crime['Violent Crime Per 100'], data = smoke_crime, ci=None)"
      ],
      "execution_count": null,
      "outputs": [
        {
          "output_type": "display_data",
          "data": {
            "image/png": "[encoded data removed]",
            "text/plain": [
              "<Figure size 432x288 with 1 Axes>"
            ]
          },
          "metadata": {
            "tags": []
          }
        }
      ]
    },
    {
      "cell_type": "code",
      "metadata": {
        "colab": {
          "base_uri": "https://localhost:8080/"
        },
        "id": "7sELU69WyUfX",
        "outputId": "bc6bb019-b217-46b5-91e0-1bea140131e1"
      },
      "source": [
        "corr, _ = pearsonr(smoke_crime['Violent Crime Per 100'], smoke_crime['% of Disease Prevalence'])\n",
        "print('Pearsons correlation: %.3f' % corr)"
      ],
      "execution_count": null,
      "outputs": [
        {
          "output_type": "stream",
          "text": [
            "Pearsons correlation: 0.605\n"
          ],
          "name": "stdout"
        }
      ]
    },
    {
      "cell_type": "markdown",
      "metadata": {
        "id": "W-Rf2JXP199W"
      },
      "source": [
        "## Stroke vs. Violent Crime"
      ]
    },
    {
      "cell_type": "code",
      "metadata": {
        "colab": {
          "base_uri": "https://localhost:8080/",
          "height": 649
        },
        "id": "TmqrfNHK155b",
        "outputId": "86a5c8b9-c7c9-44bd-a46e-e2ee070c98a4"
      },
      "source": [
        "stroke = pd.read_csv('500_Cities__Stroke_among_adults_aged___18_years.csv')\n",
        "stroke.head()\n",
        "stroke = stroke.drop(['Data_Value_Unit', 'DataValueTypeID','Data_Value_Type','Data_Value_Footnote_Symbol', 'Data_Value_Footnote', 'PopulationCount','CategoryID','CityFIPS', 'MeasureId', 'TractFIPS', 'Short_Question_Text'], 1)\n",
        "stroke['CityName_ST'] = stroke['CityName'] + '_' + stroke['StateAbbr']\n",
        "stroke= stroke.dropna(how='any',axis=0)\n",
        "stroke_gr = stroke.groupby(['CityName_ST'])\n",
        "stroke_average = stroke_gr['Data_Value'].mean().to_frame(name='% of Disease Prevalence').reset_index()\n",
        "stroke_average.head()\n",
        "stroke_crime = pd.merge(stroke_average, city_crime, how='inner', on = 'CityName_ST')\n",
        "stroke.head()"
      ],
      "execution_count": null,
      "outputs": [
        {
          "output_type": "execute_result",
          "data": {
            "text/html": [
              "<div>\n",
              "<style scoped>\n",
              "    .dataframe tbody tr th:only-of-type {\n",
              "        vertical-align: middle;\n",
              "    }\n",
              "\n",
              "    .dataframe tbody tr th {\n",
              "        vertical-align: top;\n",
              "    }\n",
              "\n",
              "    .dataframe thead th {\n",
              "        text-align: right;\n",
              "    }\n",
              "</style>\n",
              "<table border=\"1\" class=\"dataframe\">\n",
              "  <thead>\n",
              "    <tr style=\"text-align: right;\">\n",
              "      <th></th>\n",
              "      <th>Year</th>\n",
              "      <th>StateAbbr</th>\n",
              "      <th>StateDesc</th>\n",
              "      <th>CityName</th>\n",
              "      <th>GeographicLevel</th>\n",
              "      <th>DataSource</th>\n",
              "      <th>Category</th>\n",
              "      <th>UniqueID</th>\n",
              "      <th>Measure</th>\n",
              "      <th>Data_Value</th>\n",
              "      <th>Low_Confidence_Limit</th>\n",
              "      <th>High_Confidence_Limit</th>\n",
              "      <th>GeoLocation</th>\n",
              "      <th>CityName_ST</th>\n",
              "    </tr>\n",
              "  </thead>\n",
              "  <tbody>\n",
              "    <tr>\n",
              "      <th>0</th>\n",
              "      <td>2017</td>\n",
              "      <td>HI</td>\n",
              "      <td>Hawaii</td>\n",
              "      <td>Honolulu</td>\n",
              "      <td>Census Tract</td>\n",
              "      <td>BRFSS</td>\n",
              "      <td>Health Outcomes</td>\n",
              "      <td>15003006201</td>\n",
              "      <td>Stroke among adults aged &gt;=18 Years</td>\n",
              "      <td>3.4</td>\n",
              "      <td>3.1</td>\n",
              "      <td>3.7</td>\n",
              "      <td>(21.3388990175, -157.879157799)</td>\n",
              "      <td>Honolulu_HI</td>\n",
              "    </tr>\n",
              "    <tr>\n",
              "      <th>1</th>\n",
              "      <td>2017</td>\n",
              "      <td>GA</td>\n",
              "      <td>Georgia</td>\n",
              "      <td>Columbus</td>\n",
              "      <td>Census Tract</td>\n",
              "      <td>BRFSS</td>\n",
              "      <td>Health Outcomes</td>\n",
              "      <td>1319000-13215010201</td>\n",
              "      <td>Stroke among adults aged &gt;=18 Years</td>\n",
              "      <td>2.1</td>\n",
              "      <td>1.9</td>\n",
              "      <td>2.3</td>\n",
              "      <td>(32.5841000369, -84.9893087254)</td>\n",
              "      <td>Columbus_GA</td>\n",
              "    </tr>\n",
              "    <tr>\n",
              "      <th>3</th>\n",
              "      <td>2017</td>\n",
              "      <td>GA</td>\n",
              "      <td>Georgia</td>\n",
              "      <td>Warner Robins</td>\n",
              "      <td>Census Tract</td>\n",
              "      <td>BRFSS</td>\n",
              "      <td>Health Outcomes</td>\n",
              "      <td>1380508-13153021104</td>\n",
              "      <td>Stroke among adults aged &gt;=18 Years</td>\n",
              "      <td>2.7</td>\n",
              "      <td>2.4</td>\n",
              "      <td>3.0</td>\n",
              "      <td>(32.6066851404, -83.6814795438)</td>\n",
              "      <td>Warner Robins_GA</td>\n",
              "    </tr>\n",
              "    <tr>\n",
              "      <th>4</th>\n",
              "      <td>2017</td>\n",
              "      <td>GA</td>\n",
              "      <td>Georgia</td>\n",
              "      <td>Macon</td>\n",
              "      <td>Census Tract</td>\n",
              "      <td>BRFSS</td>\n",
              "      <td>Health Outcomes</td>\n",
              "      <td>1349000-13021013102</td>\n",
              "      <td>Stroke among adults aged &gt;=18 Years</td>\n",
              "      <td>6.1</td>\n",
              "      <td>5.6</td>\n",
              "      <td>6.8</td>\n",
              "      <td>(32.7942890489, -83.6917195326)</td>\n",
              "      <td>Macon_GA</td>\n",
              "    </tr>\n",
              "    <tr>\n",
              "      <th>5</th>\n",
              "      <td>2017</td>\n",
              "      <td>HI</td>\n",
              "      <td>Hawaii</td>\n",
              "      <td>Honolulu</td>\n",
              "      <td>Census Tract</td>\n",
              "      <td>BRFSS</td>\n",
              "      <td>Health Outcomes</td>\n",
              "      <td>15003003700</td>\n",
              "      <td>Stroke among adults aged &gt;=18 Years</td>\n",
              "      <td>2.3</td>\n",
              "      <td>2.1</td>\n",
              "      <td>2.5</td>\n",
              "      <td>(21.2927377569, -157.847451745)</td>\n",
              "      <td>Honolulu_HI</td>\n",
              "    </tr>\n",
              "  </tbody>\n",
              "</table>\n",
              "</div>"
            ],
            "text/plain": [
              "   Year StateAbbr  ...                      GeoLocation       CityName_ST\n",
              "0  2017        HI  ...  (21.3388990175, -157.879157799)       Honolulu_HI\n",
              "1  2017        GA  ...  (32.5841000369, -84.9893087254)       Columbus_GA\n",
              "3  2017        GA  ...  (32.6066851404, -83.6814795438)  Warner Robins_GA\n",
              "4  2017        GA  ...  (32.7942890489, -83.6917195326)          Macon_GA\n",
              "5  2017        HI  ...  (21.2927377569, -157.847451745)       Honolulu_HI\n",
              "\n",
              "[5 rows x 14 columns]"
            ]
          },
          "metadata": {
            "tags": []
          },
          "execution_count": 36
        }
      ]
    },
    {
      "cell_type": "code",
      "metadata": {
        "colab": {
          "base_uri": "https://localhost:8080/",
          "height": 293
        },
        "id": "ma5j9Nw32TGf",
        "outputId": "6b6b2e88-43d0-4774-8a53-04be09be3940"
      },
      "source": [
        "import matplotlib.pyplot as plt\n",
        "plt.style.use('seaborn-darkgrid')\n",
        "plt.title(\"Stroke vs. Violent Crime\", fontsize=15, fontweight=5, color='orange')\n",
        "\n",
        "import seaborn as sns\n",
        "\n",
        "ax1 = sns.regplot(x = stroke_crime['% of Disease Prevalence'], y = stroke_crime['Violent Crime Per 100'], data = stroke_crime, ci=None)"
      ],
      "execution_count": null,
      "outputs": [
        {
          "output_type": "display_data",
          "data": {
            "image/png": "[encoded data removed]",
            "text/plain": [
              "<Figure size 432x288 with 1 Axes>"
            ]
          },
          "metadata": {
            "tags": []
          }
        }
      ]
    },
    {
      "cell_type": "code",
      "metadata": {
        "colab": {
          "base_uri": "https://localhost:8080/"
        },
        "id": "a58EvnhZRVLW",
        "outputId": "1efb4342-0c23-4c0b-eceb-35c94c4be73e"
      },
      "source": [
        "corr, _ = pearsonr(heart_crime['Violent Crime Per 100'], heart_crime['% of Disease Prevalence'])\n",
        "print('Pearsons correlation: %.3f' % corr)"
      ],
      "execution_count": null,
      "outputs": [
        {
          "output_type": "stream",
          "text": [
            "Pearsons correlation: 0.426\n"
          ],
          "name": "stdout"
        }
      ]
    },
    {
      "cell_type": "code",
      "metadata": {
        "colab": {
          "base_uri": "https://localhost:8080/",
          "height": 293
        },
        "id": "B8mmU_HI896b",
        "outputId": "d3059ae2-4afc-4649-d5a9-78ae0aad8ccf"
      },
      "source": [
        "plt.title(\"Coronary Heart Disease vs. Violent Crime\", fontsize=15, fontweight=5, color='orange')\n",
        "ax1 = sns.regplot(x = heart_crime['% of Disease Prevalence'], y = heart_crime['Violent Crime Per 100'], data = heart_crime, ci=None)"
      ],
      "execution_count": null,
      "outputs": [
        {
          "output_type": "display_data",
          "data": {
            "image/png": "[encoded data removed]",
            "text/plain": [
              "<Figure size 432x288 with 1 Axes>"
            ]
          },
          "metadata": {
            "tags": []
          }
        }
      ]
    },
    {
      "cell_type": "code",
      "metadata": {
        "colab": {
          "base_uri": "https://localhost:8080/"
        },
        "id": "bJLYqW952bWU",
        "outputId": "9c25fc9a-a7b7-493a-a532-9935dabe2b07"
      },
      "source": [
        "corr, _ = pearsonr(stroke_crime['Violent Crime Per 100'], stroke_crime['% of Disease Prevalence'])\n",
        "print('Pearsons correlation: %.3f' % corr)"
      ],
      "execution_count": null,
      "outputs": [
        {
          "output_type": "stream",
          "text": [
            "Pearsons correlation: 0.607\n"
          ],
          "name": "stdout"
        }
      ]
    },
    {
      "cell_type": "code",
      "metadata": {
        "id": "1xra13pU44FP"
      },
      "source": [
        "stroke_crime.nlargest(20, '% of Disease Prevalence')"
      ],
      "execution_count": null,
      "outputs": []
    },
    {
      "cell_type": "code",
      "metadata": {
        "id": "bJd3LPLo46sU"
      },
      "source": [
        "heart_crime.nlargest(10, '% of Disease Prevalence')"
      ],
      "execution_count": null,
      "outputs": []
    },
    {
      "cell_type": "markdown",
      "metadata": {
        "id": "QGQsZPjN7_JG"
      },
      "source": [
        ""
      ]
    },
    {
      "cell_type": "markdown",
      "metadata": {
        "id": "NEN2tSDY_fzV"
      },
      "source": [
        "##This was just me trying to understand why stroke rates have a higher correlatio that coronary heart disease"
      ]
    },
    {
      "cell_type": "code",
      "metadata": {
        "colab": {
          "base_uri": "https://localhost:8080/",
          "height": 275
        },
        "id": "fsZrcvBa71Os",
        "outputId": "d1026501-56c7-472b-eb92-8e1840bf249c"
      },
      "source": [
        "test = pd.merge(stroke_crime, heart_crime, how='inner', on = 'CityName_ST')\n",
        "test.head()"
      ],
      "execution_count": null,
      "outputs": [
        {
          "output_type": "execute_result",
          "data": {
            "text/html": [
              "<div>\n",
              "<style scoped>\n",
              "    .dataframe tbody tr th:only-of-type {\n",
              "        vertical-align: middle;\n",
              "    }\n",
              "\n",
              "    .dataframe tbody tr th {\n",
              "        vertical-align: top;\n",
              "    }\n",
              "\n",
              "    .dataframe thead th {\n",
              "        text-align: right;\n",
              "    }\n",
              "</style>\n",
              "<table border=\"1\" class=\"dataframe\">\n",
              "  <thead>\n",
              "    <tr style=\"text-align: right;\">\n",
              "      <th></th>\n",
              "      <th>CityName_ST</th>\n",
              "      <th>% of Disease Prevalence_x</th>\n",
              "      <th>STATE_x</th>\n",
              "      <th>Counties/principal cities_x</th>\n",
              "      <th>Population_x</th>\n",
              "      <th>Violent\\rcrime_x</th>\n",
              "      <th>Murder and\\rnonnegligent\\rmanslaughter_x</th>\n",
              "      <th>Rape1_x</th>\n",
              "      <th>Robbery_x</th>\n",
              "      <th>Aggravated\\rassault_x</th>\n",
              "      <th>Property\\rcrime_x</th>\n",
              "      <th>Burglary_x</th>\n",
              "      <th>Larceny-\\rtheft_x</th>\n",
              "      <th>Motor\\rvehicle\\rtheft_x</th>\n",
              "      <th>Violent Crime Per 100_x</th>\n",
              "      <th>% of Disease Prevalence_y</th>\n",
              "      <th>STATE_y</th>\n",
              "      <th>Counties/principal cities_y</th>\n",
              "      <th>Population_y</th>\n",
              "      <th>Violent\\rcrime_y</th>\n",
              "      <th>Murder and\\rnonnegligent\\rmanslaughter_y</th>\n",
              "      <th>Rape1_y</th>\n",
              "      <th>Robbery_y</th>\n",
              "      <th>Aggravated\\rassault_y</th>\n",
              "      <th>Property\\rcrime_y</th>\n",
              "      <th>Burglary_y</th>\n",
              "      <th>Larceny-\\rtheft_y</th>\n",
              "      <th>Motor\\rvehicle\\rtheft_y</th>\n",
              "      <th>Violent Crime Per 100_y</th>\n",
              "    </tr>\n",
              "  </thead>\n",
              "  <tbody>\n",
              "    <tr>\n",
              "      <th>0</th>\n",
              "      <td>Abilene_TX</td>\n",
              "      <td>3.233333</td>\n",
              "      <td>TX</td>\n",
              "      <td>Abilene</td>\n",
              "      <td>122480.0</td>\n",
              "      <td>591.0</td>\n",
              "      <td>8</td>\n",
              "      <td>97</td>\n",
              "      <td>104</td>\n",
              "      <td>382</td>\n",
              "      <td>3,528</td>\n",
              "      <td>734</td>\n",
              "      <td>2,561</td>\n",
              "      <td>233</td>\n",
              "      <td>0.482528</td>\n",
              "      <td>6.289744</td>\n",
              "      <td>TX</td>\n",
              "      <td>Abilene</td>\n",
              "      <td>122480.0</td>\n",
              "      <td>591.0</td>\n",
              "      <td>8</td>\n",
              "      <td>97</td>\n",
              "      <td>104</td>\n",
              "      <td>382</td>\n",
              "      <td>3,528</td>\n",
              "      <td>734</td>\n",
              "      <td>2,561</td>\n",
              "      <td>233</td>\n",
              "      <td>0.482528</td>\n",
              "    </tr>\n",
              "    <tr>\n",
              "      <th>1</th>\n",
              "      <td>Akron_OH</td>\n",
              "      <td>4.445588</td>\n",
              "      <td>OH</td>\n",
              "      <td>Akron</td>\n",
              "      <td>197690.0</td>\n",
              "      <td>1704.0</td>\n",
              "      <td>38</td>\n",
              "      <td>221</td>\n",
              "      <td>387</td>\n",
              "      <td>1,058</td>\n",
              "      <td>7,159</td>\n",
              "      <td>1,740</td>\n",
              "      <td>4,701</td>\n",
              "      <td>718</td>\n",
              "      <td>0.861956</td>\n",
              "      <td>7.883824</td>\n",
              "      <td>OH</td>\n",
              "      <td>Akron</td>\n",
              "      <td>197690.0</td>\n",
              "      <td>1704.0</td>\n",
              "      <td>38</td>\n",
              "      <td>221</td>\n",
              "      <td>387</td>\n",
              "      <td>1,058</td>\n",
              "      <td>7,159</td>\n",
              "      <td>1,740</td>\n",
              "      <td>4,701</td>\n",
              "      <td>718</td>\n",
              "      <td>0.861956</td>\n",
              "    </tr>\n",
              "    <tr>\n",
              "      <th>2</th>\n",
              "      <td>Albany_GA</td>\n",
              "      <td>5.022222</td>\n",
              "      <td>GA</td>\n",
              "      <td>Albany</td>\n",
              "      <td>72594.0</td>\n",
              "      <td>809.0</td>\n",
              "      <td>15</td>\n",
              "      <td>28</td>\n",
              "      <td>113</td>\n",
              "      <td>653</td>\n",
              "      <td>3,704</td>\n",
              "      <td>760</td>\n",
              "      <td>2,666</td>\n",
              "      <td>278</td>\n",
              "      <td>1.114417</td>\n",
              "      <td>7.081481</td>\n",
              "      <td>GA</td>\n",
              "      <td>Albany</td>\n",
              "      <td>72594.0</td>\n",
              "      <td>809.0</td>\n",
              "      <td>15</td>\n",
              "      <td>28</td>\n",
              "      <td>113</td>\n",
              "      <td>653</td>\n",
              "      <td>3,704</td>\n",
              "      <td>760</td>\n",
              "      <td>2,666</td>\n",
              "      <td>278</td>\n",
              "      <td>1.114417</td>\n",
              "    </tr>\n",
              "    <tr>\n",
              "      <th>3</th>\n",
              "      <td>Albany_NY</td>\n",
              "      <td>3.157143</td>\n",
              "      <td>NY</td>\n",
              "      <td>Albany</td>\n",
              "      <td>98322.0</td>\n",
              "      <td>823.0</td>\n",
              "      <td>12</td>\n",
              "      <td>52</td>\n",
              "      <td>209</td>\n",
              "      <td>550</td>\n",
              "      <td>3,147</td>\n",
              "      <td>432</td>\n",
              "      <td>2,585</td>\n",
              "      <td>130</td>\n",
              "      <td>0.837046</td>\n",
              "      <td>5.442857</td>\n",
              "      <td>NY</td>\n",
              "      <td>Albany</td>\n",
              "      <td>98322.0</td>\n",
              "      <td>823.0</td>\n",
              "      <td>12</td>\n",
              "      <td>52</td>\n",
              "      <td>209</td>\n",
              "      <td>550</td>\n",
              "      <td>3,147</td>\n",
              "      <td>432</td>\n",
              "      <td>2,585</td>\n",
              "      <td>130</td>\n",
              "      <td>0.837046</td>\n",
              "    </tr>\n",
              "    <tr>\n",
              "      <th>4</th>\n",
              "      <td>Albuquerque_NM</td>\n",
              "      <td>2.716547</td>\n",
              "      <td>NM</td>\n",
              "      <td>Albuquerque</td>\n",
              "      <td>560235.0</td>\n",
              "      <td>7646.0</td>\n",
              "      <td>69</td>\n",
              "      <td>479</td>\n",
              "      <td>1,979</td>\n",
              "      <td>5,119</td>\n",
              "      <td>34,619</td>\n",
              "      <td>6,378</td>\n",
              "      <td>21,625</td>\n",
              "      <td>6,616</td>\n",
              "      <td>1.364784</td>\n",
              "      <td>5.176978</td>\n",
              "      <td>NM</td>\n",
              "      <td>Albuquerque</td>\n",
              "      <td>560235.0</td>\n",
              "      <td>7646.0</td>\n",
              "      <td>69</td>\n",
              "      <td>479</td>\n",
              "      <td>1,979</td>\n",
              "      <td>5,119</td>\n",
              "      <td>34,619</td>\n",
              "      <td>6,378</td>\n",
              "      <td>21,625</td>\n",
              "      <td>6,616</td>\n",
              "      <td>1.364784</td>\n",
              "    </tr>\n",
              "  </tbody>\n",
              "</table>\n",
              "</div>"
            ],
            "text/plain": [
              "      CityName_ST  ...  Violent Crime Per 100_y\n",
              "0      Abilene_TX  ...                 0.482528\n",
              "1        Akron_OH  ...                 0.861956\n",
              "2       Albany_GA  ...                 1.114417\n",
              "3       Albany_NY  ...                 0.837046\n",
              "4  Albuquerque_NM  ...                 1.364784\n",
              "\n",
              "[5 rows x 29 columns]"
            ]
          },
          "metadata": {
            "tags": []
          },
          "execution_count": 43
        }
      ]
    },
    {
      "cell_type": "code",
      "metadata": {
        "colab": {
          "base_uri": "https://localhost:8080/",
          "height": 276
        },
        "id": "ZKgy-iZQ7WzL",
        "outputId": "9723b384-bd10-496d-e92e-474fbf9f7b0a"
      },
      "source": [
        "ax1 = sns.regplot(x = test['% of Disease Prevalence_x'], y = test['% of Disease Prevalence_y'], data = test, ci=None)"
      ],
      "execution_count": null,
      "outputs": [
        {
          "output_type": "display_data",
          "data": {
            "image/png": "[encoded data removed]",
            "text/plain": [
              "<Figure size 432x288 with 1 Axes>"
            ]
          },
          "metadata": {
            "tags": []
          }
        }
      ]
    },
    {
      "cell_type": "code",
      "metadata": {
        "colab": {
          "base_uri": "https://localhost:8080/"
        },
        "id": "MLs1vM_J8gS4",
        "outputId": "464d2afd-f850-4b37-9d34-15033f5282dc"
      },
      "source": [
        "corr, _ = pearsonr(test['% of Disease Prevalence_x'], test['% of Disease Prevalence_y'])\n",
        "print('Pearsons correlation: %.3f' % corr)"
      ],
      "execution_count": null,
      "outputs": [
        {
          "output_type": "stream",
          "text": [
            "Pearsons correlation: 0.921\n"
          ],
          "name": "stdout"
        }
      ]
    },
    {
      "cell_type": "markdown",
      "metadata": {
        "id": "Y0J-hP9sA6G8"
      },
      "source": [
        "## Cholesterol Screenings"
      ]
    },
    {
      "cell_type": "code",
      "metadata": {
        "colab": {
          "base_uri": "https://localhost:8080/",
          "height": 649
        },
        "id": "msF7XrRyA9LW",
        "outputId": "f864a67e-26bf-4321-e143-fa0a56b28200"
      },
      "source": [
        "cholesterol = pd.read_csv('500_Cities__Cholesterol_screening_among_adults_aged___18_years.csv')\n",
        "cholesterol.head()\n",
        "cholesterol = cholesterol.drop(['Data_Value_Unit', 'DataValueTypeID','Data_Value_Type','Data_Value_Footnote_Symbol', 'Data_Value_Footnote', 'PopulationCount','CategoryID','CityFIPS', 'MeasureId', 'TractFIPS', 'Short_Question_Text'], 1)\n",
        "cholesterol['CityName_ST'] = cholesterol['CityName'] + '_' + cholesterol['StateAbbr']\n",
        "cholesterol= cholesterol.dropna(how='any',axis=0)\n",
        "cholesterol_gr = cholesterol.groupby(['CityName_ST'])\n",
        "cholesterol_average = cholesterol_gr['Data_Value'].mean().to_frame(name='% of Disease Prevalence').reset_index()\n",
        "cholesterol_average.head()\n",
        "cholesterol_crime = pd.merge(cholesterol_average, city_crime, how='inner', on = 'CityName_ST')\n",
        "cholesterol.head()"
      ],
      "execution_count": null,
      "outputs": [
        {
          "output_type": "execute_result",
          "data": {
            "text/html": [
              "<div>\n",
              "<style scoped>\n",
              "    .dataframe tbody tr th:only-of-type {\n",
              "        vertical-align: middle;\n",
              "    }\n",
              "\n",
              "    .dataframe tbody tr th {\n",
              "        vertical-align: top;\n",
              "    }\n",
              "\n",
              "    .dataframe thead th {\n",
              "        text-align: right;\n",
              "    }\n",
              "</style>\n",
              "<table border=\"1\" class=\"dataframe\">\n",
              "  <thead>\n",
              "    <tr style=\"text-align: right;\">\n",
              "      <th></th>\n",
              "      <th>Year</th>\n",
              "      <th>StateAbbr</th>\n",
              "      <th>StateDesc</th>\n",
              "      <th>CityName</th>\n",
              "      <th>GeographicLevel</th>\n",
              "      <th>DataSource</th>\n",
              "      <th>Category</th>\n",
              "      <th>UniqueID</th>\n",
              "      <th>Measure</th>\n",
              "      <th>Data_Value</th>\n",
              "      <th>Low_Confidence_Limit</th>\n",
              "      <th>High_Confidence_Limit</th>\n",
              "      <th>GeoLocation</th>\n",
              "      <th>CityName_ST</th>\n",
              "    </tr>\n",
              "  </thead>\n",
              "  <tbody>\n",
              "    <tr>\n",
              "      <th>0</th>\n",
              "      <td>2017</td>\n",
              "      <td>GA</td>\n",
              "      <td>Georgia</td>\n",
              "      <td>Macon</td>\n",
              "      <td>Census Tract</td>\n",
              "      <td>BRFSS</td>\n",
              "      <td>Prevention</td>\n",
              "      <td>1349000-13021012101</td>\n",
              "      <td>Cholesterol screening among adults aged &gt;=18 Y...</td>\n",
              "      <td>79.5</td>\n",
              "      <td>77.1</td>\n",
              "      <td>81.4</td>\n",
              "      <td>(32.867877314, -83.7084580931)</td>\n",
              "      <td>Macon_GA</td>\n",
              "    </tr>\n",
              "    <tr>\n",
              "      <th>1</th>\n",
              "      <td>2017</td>\n",
              "      <td>ID</td>\n",
              "      <td>Idaho</td>\n",
              "      <td>Nampa</td>\n",
              "      <td>Census Tract</td>\n",
              "      <td>BRFSS</td>\n",
              "      <td>Prevention</td>\n",
              "      <td>1656260-16027020901</td>\n",
              "      <td>Cholesterol screening among adults aged &gt;=18 Y...</td>\n",
              "      <td>75.2</td>\n",
              "      <td>73.3</td>\n",
              "      <td>77.1</td>\n",
              "      <td>(43.5398107837, -116.537433492)</td>\n",
              "      <td>Nampa_ID</td>\n",
              "    </tr>\n",
              "    <tr>\n",
              "      <th>2</th>\n",
              "      <td>2017</td>\n",
              "      <td>HI</td>\n",
              "      <td>Hawaii</td>\n",
              "      <td>Honolulu</td>\n",
              "      <td>Census Tract</td>\n",
              "      <td>BRFSS</td>\n",
              "      <td>Prevention</td>\n",
              "      <td>15003008402</td>\n",
              "      <td>Cholesterol screening among adults aged &gt;=18 Y...</td>\n",
              "      <td>79.2</td>\n",
              "      <td>78.2</td>\n",
              "      <td>80.2</td>\n",
              "      <td>(21.3147061444, -158.010264458)</td>\n",
              "      <td>Honolulu_HI</td>\n",
              "    </tr>\n",
              "    <tr>\n",
              "      <th>3</th>\n",
              "      <td>2017</td>\n",
              "      <td>GA</td>\n",
              "      <td>Georgia</td>\n",
              "      <td>Sandy Springs</td>\n",
              "      <td>Census Tract</td>\n",
              "      <td>BRFSS</td>\n",
              "      <td>Prevention</td>\n",
              "      <td>1368516-13121010110</td>\n",
              "      <td>Cholesterol screening among adults aged &gt;=18 Y...</td>\n",
              "      <td>84.0</td>\n",
              "      <td>82.7</td>\n",
              "      <td>85.1</td>\n",
              "      <td>(33.9204281723, -84.3620299679)</td>\n",
              "      <td>Sandy Springs_GA</td>\n",
              "    </tr>\n",
              "    <tr>\n",
              "      <th>4</th>\n",
              "      <td>2017</td>\n",
              "      <td>ID</td>\n",
              "      <td>Idaho</td>\n",
              "      <td>Boise City</td>\n",
              "      <td>Census Tract</td>\n",
              "      <td>BRFSS</td>\n",
              "      <td>Prevention</td>\n",
              "      <td>1608830-16001001500</td>\n",
              "      <td>Cholesterol screening among adults aged &gt;=18 Y...</td>\n",
              "      <td>75.3</td>\n",
              "      <td>73.5</td>\n",
              "      <td>77.1</td>\n",
              "      <td>(43.5948630356, -116.218329034)</td>\n",
              "      <td>Boise City_ID</td>\n",
              "    </tr>\n",
              "  </tbody>\n",
              "</table>\n",
              "</div>"
            ],
            "text/plain": [
              "   Year StateAbbr  ...                      GeoLocation       CityName_ST\n",
              "0  2017        GA  ...   (32.867877314, -83.7084580931)          Macon_GA\n",
              "1  2017        ID  ...  (43.5398107837, -116.537433492)          Nampa_ID\n",
              "2  2017        HI  ...  (21.3147061444, -158.010264458)       Honolulu_HI\n",
              "3  2017        GA  ...  (33.9204281723, -84.3620299679)  Sandy Springs_GA\n",
              "4  2017        ID  ...  (43.5948630356, -116.218329034)     Boise City_ID\n",
              "\n",
              "[5 rows x 14 columns]"
            ]
          },
          "metadata": {
            "tags": []
          },
          "execution_count": 48
        }
      ]
    },
    {
      "cell_type": "code",
      "metadata": {
        "colab": {
          "base_uri": "https://localhost:8080/",
          "height": 293
        },
        "id": "Uvf0WtozBcNf",
        "outputId": "a4c66c23-19af-4a65-ca5e-6f9b227d2943"
      },
      "source": [
        "import matplotlib.pyplot as plt\n",
        "plt.style.use('seaborn-darkgrid')\n",
        "plt.title(\"Cholesterol Screenings vs. Violent Crime\", fontsize=15, fontweight=5, color='orange')\n",
        "\n",
        "import seaborn as sns\n",
        "\n",
        "ax1 = sns.regplot(x = cholesterol_crime['% of Disease Prevalence'], y = cholesterol_crime['Violent Crime Per 100'], data = cholesterol_crime, ci=None)"
      ],
      "execution_count": null,
      "outputs": [
        {
          "output_type": "display_data",
          "data": {
            "image/png": "[encoded data removed]",
            "text/plain": [
              "<Figure size 432x288 with 1 Axes>"
            ]
          },
          "metadata": {
            "tags": []
          }
        }
      ]
    },
    {
      "cell_type": "code",
      "metadata": {
        "colab": {
          "base_uri": "https://localhost:8080/"
        },
        "id": "6YutFzD5Blmc",
        "outputId": "480a8420-6277-48db-b8eb-632751e3a209"
      },
      "source": [
        "corr, _ = pearsonr(cholesterol_crime['% of Disease Prevalence'], cholesterol_crime['Violent Crime Per 100'])\n",
        "print('Pearsons correlation: %.3f' % corr)"
      ],
      "execution_count": null,
      "outputs": [
        {
          "output_type": "stream",
          "text": [
            "Pearsons correlation: -0.256\n"
          ],
          "name": "stdout"
        }
      ]
    },
    {
      "cell_type": "code",
      "metadata": {
        "colab": {
          "base_uri": "https://localhost:8080/",
          "height": 164
        },
        "id": "jBVCXxuVB5pe",
        "outputId": "f9a8023c-715d-4297-8b4f-3e90b1dc5f9a"
      },
      "source": [
        "cholesterol_crime[cholesterol_crime['CityName_ST']==Detroit_MI]"
      ],
      "execution_count": null,
      "outputs": [
        {
          "output_type": "error",
          "ename": "NameError",
          "evalue": "ignored",
          "traceback": [
            "\u001b[0;31m---------------------------------------------------------------------------\u001b[0m",
            "\u001b[0;31mNameError\u001b[0m                                 Traceback (most recent call last)",
            "\u001b[0;32m<ipython-input-57-510b92f454c7>\u001b[0m in \u001b[0;36m<module>\u001b[0;34m()\u001b[0m\n\u001b[0;32m----> 1\u001b[0;31m \u001b[0mcholesterol_crime\u001b[0m\u001b[0;34m[\u001b[0m\u001b[0mcholesterol_crime\u001b[0m\u001b[0;34m[\u001b[0m\u001b[0;34m'CityName_ST'\u001b[0m\u001b[0;34m]\u001b[0m\u001b[0;34m==\u001b[0m\u001b[0mDetroit_MI\u001b[0m\u001b[0;34m]\u001b[0m\u001b[0;34m\u001b[0m\u001b[0;34m\u001b[0m\u001b[0m\n\u001b[0m",
            "\u001b[0;31mNameError\u001b[0m: name 'Detroit_MI' is not defined"
          ]
        }
      ]
    },
    {
      "cell_type": "code",
      "metadata": {
        "id": "57UeOwD7CZ_G"
      },
      "source": [
        ""
      ],
      "execution_count": null,
      "outputs": []
    }
  ]
}